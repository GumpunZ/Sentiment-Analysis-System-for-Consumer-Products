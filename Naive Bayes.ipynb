{
 "cells": [
  {
   "cell_type": "code",
   "execution_count": 1,
   "id": "9154ddd4-1fb5-4482-afd3-907dc72dcd70",
   "metadata": {
    "tags": []
   },
   "outputs": [
    {
     "name": "stderr",
     "output_type": "stream",
     "text": [
      "C:\\Users\\Gumpun\\AppData\\Local\\Temp\\ipykernel_10028\\2925815428.py:1: DeprecationWarning: \n",
      "Pyarrow will become a required dependency of pandas in the next major release of pandas (pandas 3.0),\n",
      "(to allow more performant data types, such as the Arrow string type, and better interoperability with other libraries)\n",
      "but was not found to be installed on your system.\n",
      "If this would cause problems for you,\n",
      "please provide us feedback at https://github.com/pandas-dev/pandas/issues/54466\n",
      "        \n",
      "  import pandas as pd\n"
     ]
    }
   ],
   "source": [
    "import pandas as pd\n",
    "import re\n",
    "import pandas as pd\n",
    "import numpy as np\n",
    "from sklearn.preprocessing import LabelEncoder\n",
    "from sklearn.model_selection import train_test_split\n",
    "from sklearn.metrics import classification_report\n",
    "from sklearn.metrics import accuracy_score\n",
    "import math\n",
    "import nltk\n",
    "from sklearn.feature_extraction.text import CountVectorizer\n",
    "from collections import defaultdict"
   ]
  },
  {
   "cell_type": "code",
   "execution_count": 2,
   "id": "c454bac7-b6f9-4933-8e04-8274ce5fb092",
   "metadata": {
    "tags": []
   },
   "outputs": [],
   "source": [
    "def file2list(fname):\n",
    "    with open(fname, encoding='utf-8') as fp:  # Specify the encoding\n",
    "        lines = fp.readlines()\n",
    "        return [line.strip() for line in lines]"
   ]
  },
  {
   "cell_type": "code",
   "execution_count": 3,
   "id": "b8e05723-b53c-4516-a43b-876b6f2f8bc6",
   "metadata": {
    "tags": []
   },
   "outputs": [],
   "source": [
    "pos_text = file2list(\"Downloads/asp_pos (1).txt\")\n",
    "neg_text = file2list(\"Downloads/asp_neg.txt\")"
   ]
  },
  {
   "cell_type": "code",
   "execution_count": 4,
   "id": "78575318-4d32-4b25-8e37-2812ec9fed4d",
   "metadata": {
    "tags": []
   },
   "outputs": [
    {
     "data": {
      "text/html": [
       "<div>\n",
       "<style scoped>\n",
       "    .dataframe tbody tr th:only-of-type {\n",
       "        vertical-align: middle;\n",
       "    }\n",
       "\n",
       "    .dataframe tbody tr th {\n",
       "        vertical-align: top;\n",
       "    }\n",
       "\n",
       "    .dataframe thead th {\n",
       "        text-align: right;\n",
       "    }\n",
       "</style>\n",
       "<table border=\"1\" class=\"dataframe\">\n",
       "  <thead>\n",
       "    <tr style=\"text-align: right;\">\n",
       "      <th></th>\n",
       "      <th>review</th>\n",
       "      <th>label</th>\n",
       "    </tr>\n",
       "  </thead>\n",
       "  <tbody>\n",
       "    <tr>\n",
       "      <th>76</th>\n",
       "      <td>ส่งเร็วนะ ค่อนข้างชอบ เสียอย่างเดียวสีตก เกือบ...</td>\n",
       "      <td>negative</td>\n",
       "    </tr>\n",
       "    <tr>\n",
       "      <th>502</th>\n",
       "      <td>ชอบมากครับ จัดส่งเร็ว ปกติใส่37 แต่สั่ง36 พอดี...</td>\n",
       "      <td>positive</td>\n",
       "    </tr>\n",
       "    <tr>\n",
       "      <th>149</th>\n",
       "      <td>ส่งสินค้าไว แพคมาอย่างดี สีกับแบบตามรูปเลย แต่...</td>\n",
       "      <td>positive</td>\n",
       "    </tr>\n",
       "    <tr>\n",
       "      <th>142</th>\n",
       "      <td>จัดส่งช้ามากมาก เลทกว่าที่เขียนไว้ 2-3 วัน ไม่...</td>\n",
       "      <td>negative</td>\n",
       "    </tr>\n",
       "    <tr>\n",
       "      <th>177</th>\n",
       "      <td>ก็โอเค ทรงสวยดีแต่ใส่ไม่ถนัด ชาร์จไม่เข้าไม่ดีเลย</td>\n",
       "      <td>negative</td>\n",
       "    </tr>\n",
       "    <tr>\n",
       "      <th>...</th>\n",
       "      <td>...</td>\n",
       "      <td>...</td>\n",
       "    </tr>\n",
       "    <tr>\n",
       "      <th>160</th>\n",
       "      <td>ของถึงไวมาก แต่ติดหยุดยาวเลยกดรับช้าค่ะ ปกติใส...</td>\n",
       "      <td>positive</td>\n",
       "    </tr>\n",
       "    <tr>\n",
       "      <th>443</th>\n",
       "      <td>สินค้าดีมีคุณภาพและมาตรฐาน quick silver ใส่สวย...</td>\n",
       "      <td>positive</td>\n",
       "    </tr>\n",
       "    <tr>\n",
       "      <th>106</th>\n",
       "      <td>สินค้าคุณภาพดีเยี่ยมไม่ผิดหวังเลยในการใช้งาน ห...</td>\n",
       "      <td>positive</td>\n",
       "    </tr>\n",
       "    <tr>\n",
       "      <th>588</th>\n",
       "      <td>หลังอ่านรีวิวเลยตัดสินใจกดซื้อช่วงแฟรชเซลล์+ไล...</td>\n",
       "      <td>positive</td>\n",
       "    </tr>\n",
       "    <tr>\n",
       "      <th>163</th>\n",
       "      <td>หม้อใช้ดีค่ะแต่ขอหักหนึ่งดาวแพ็คไม่ค่อยดีไม่ใส...</td>\n",
       "      <td>negative</td>\n",
       "    </tr>\n",
       "  </tbody>\n",
       "</table>\n",
       "<p>100 rows × 2 columns</p>\n",
       "</div>"
      ],
      "text/plain": [
       "                                                review     label\n",
       "76   ส่งเร็วนะ ค่อนข้างชอบ เสียอย่างเดียวสีตก เกือบ...  negative\n",
       "502  ชอบมากครับ จัดส่งเร็ว ปกติใส่37 แต่สั่ง36 พอดี...  positive\n",
       "149  ส่งสินค้าไว แพคมาอย่างดี สีกับแบบตามรูปเลย แต่...  positive\n",
       "142  จัดส่งช้ามากมาก เลทกว่าที่เขียนไว้ 2-3 วัน ไม่...  negative\n",
       "177  ก็โอเค ทรงสวยดีแต่ใส่ไม่ถนัด ชาร์จไม่เข้าไม่ดีเลย  negative\n",
       "..                                                 ...       ...\n",
       "160  ของถึงไวมาก แต่ติดหยุดยาวเลยกดรับช้าค่ะ ปกติใส...  positive\n",
       "443  สินค้าดีมีคุณภาพและมาตรฐาน quick silver ใส่สวย...  positive\n",
       "106  สินค้าคุณภาพดีเยี่ยมไม่ผิดหวังเลยในการใช้งาน ห...  positive\n",
       "588  หลังอ่านรีวิวเลยตัดสินใจกดซื้อช่วงแฟรชเซลล์+ไล...  positive\n",
       "163  หม้อใช้ดีค่ะแต่ขอหักหนึ่งดาวแพ็คไม่ค่อยดีไม่ใส...  negative\n",
       "\n",
       "[100 rows x 2 columns]"
      ]
     },
     "execution_count": 4,
     "metadata": {},
     "output_type": "execute_result"
    }
   ],
   "source": [
    "pos_df = pd.DataFrame(pos_text,columns=['review'])\n",
    "pos_df['label'] = \"positive\"\n",
    "\n",
    "neg_df = pd.DataFrame(neg_text,columns=['review'])\n",
    "neg_df['label'] = \"negative\"\n",
    "neg_df\n",
    "\n",
    "data = pd.concat([pos_df, neg_df])\n",
    "data.sample(100)"
   ]
  },
  {
   "cell_type": "code",
   "execution_count": 5,
   "id": "4d5da3bc-150c-4ad4-a9d0-977c270f5b79",
   "metadata": {
    "tags": []
   },
   "outputs": [
    {
     "data": {
      "text/plain": [
       "label\n",
       "positive    630\n",
       "negative    235\n",
       "Name: count, dtype: int64"
      ]
     },
     "execution_count": 5,
     "metadata": {},
     "output_type": "execute_result"
    }
   ],
   "source": [
    "category_counts = data['label'].value_counts()\n",
    "category_counts"
   ]
  },
  {
   "cell_type": "code",
   "execution_count": 6,
   "id": "201b5e1c-d7e5-43f5-b809-dbcec6caaddc",
   "metadata": {
    "tags": []
   },
   "outputs": [
    {
     "name": "stdout",
     "output_type": "stream",
     "text": [
      "Requirement already satisfied: pythainlp in c:\\users\\gumpun\\anaconda3\\envs\\py310\\lib\\site-packages (5.0.1)\n",
      "Requirement already satisfied: requests>=2.22.0 in c:\\users\\gumpun\\anaconda3\\envs\\py310\\lib\\site-packages (from pythainlp) (2.31.0)\n",
      "Requirement already satisfied: tzdata in c:\\users\\gumpun\\anaconda3\\envs\\py310\\lib\\site-packages (from pythainlp) (2024.1)\n",
      "Requirement already satisfied: charset-normalizer<4,>=2 in c:\\users\\gumpun\\anaconda3\\envs\\py310\\lib\\site-packages (from requests>=2.22.0->pythainlp) (3.3.2)\n",
      "Requirement already satisfied: idna<4,>=2.5 in c:\\users\\gumpun\\anaconda3\\envs\\py310\\lib\\site-packages (from requests>=2.22.0->pythainlp) (3.4)\n",
      "Requirement already satisfied: urllib3<3,>=1.21.1 in c:\\users\\gumpun\\anaconda3\\envs\\py310\\lib\\site-packages (from requests>=2.22.0->pythainlp) (2.1.0)\n",
      "Requirement already satisfied: certifi>=2017.4.17 in c:\\users\\gumpun\\anaconda3\\envs\\py310\\lib\\site-packages (from requests>=2.22.0->pythainlp) (2024.2.2)\n"
     ]
    },
    {
     "name": "stderr",
     "output_type": "stream",
     "text": [
      "WARNING: Ignoring invalid distribution -orch (c:\\users\\gumpun\\anaconda3\\envs\\py310\\lib\\site-packages)\n",
      "WARNING: Ignoring invalid distribution -orch (c:\\users\\gumpun\\anaconda3\\envs\\py310\\lib\\site-packages)\n"
     ]
    }
   ],
   "source": [
    "!pip install pythainlp"
   ]
  },
  {
   "cell_type": "code",
   "execution_count": 7,
   "id": "711669aa-9476-4e4f-b0e7-e813df8e4fa1",
   "metadata": {
    "tags": []
   },
   "outputs": [
    {
     "data": {
      "text/html": [
       "<div>\n",
       "<style scoped>\n",
       "    .dataframe tbody tr th:only-of-type {\n",
       "        vertical-align: middle;\n",
       "    }\n",
       "\n",
       "    .dataframe tbody tr th {\n",
       "        vertical-align: top;\n",
       "    }\n",
       "\n",
       "    .dataframe thead th {\n",
       "        text-align: right;\n",
       "    }\n",
       "</style>\n",
       "<table border=\"1\" class=\"dataframe\">\n",
       "  <thead>\n",
       "    <tr style=\"text-align: right;\">\n",
       "      <th></th>\n",
       "      <th>review</th>\n",
       "      <th>label</th>\n",
       "    </tr>\n",
       "  </thead>\n",
       "  <tbody>\n",
       "    <tr>\n",
       "      <th>44</th>\n",
       "      <td>สินค้า แย่มาก ถัง ปั่น แกะ ออกมา มี รอย ปิ่น ไ...</td>\n",
       "      <td>negative</td>\n",
       "    </tr>\n",
       "    <tr>\n",
       "      <th>176</th>\n",
       "      <td>สินค้า ใช้ ระยะเวลา จัดส่ง นาน มาก ๆ ค่ะ เพราะ...</td>\n",
       "      <td>negative</td>\n",
       "    </tr>\n",
       "    <tr>\n",
       "      <th>550</th>\n",
       "      <td>สินค้า สวย คุณภาพดี แถม ถุงเท้า ให้ 1 คู่</td>\n",
       "      <td>positive</td>\n",
       "    </tr>\n",
       "    <tr>\n",
       "      <th>11</th>\n",
       "      <td>ใช้งาน ดี ใส่ ได้ พอดี จัดส่ง ไว ราคา ถูก ด้วย...</td>\n",
       "      <td>positive</td>\n",
       "    </tr>\n",
       "    <tr>\n",
       "      <th>74</th>\n",
       "      <td>ส่ง ไว ดี สินค้า เป็น ของ ใหม่ และ ของแท้ การข...</td>\n",
       "      <td>positive</td>\n",
       "    </tr>\n",
       "  </tbody>\n",
       "</table>\n",
       "</div>"
      ],
      "text/plain": [
       "                                                review     label\n",
       "44   สินค้า แย่มาก ถัง ปั่น แกะ ออกมา มี รอย ปิ่น ไ...  negative\n",
       "176  สินค้า ใช้ ระยะเวลา จัดส่ง นาน มาก ๆ ค่ะ เพราะ...  negative\n",
       "550         สินค้า สวย คุณภาพดี แถม ถุงเท้า ให้ 1 คู่   positive\n",
       "11   ใช้งาน ดี ใส่ ได้ พอดี จัดส่ง ไว ราคา ถูก ด้วย...  positive\n",
       "74   ส่ง ไว ดี สินค้า เป็น ของ ใหม่ และ ของแท้ การข...  positive"
      ]
     },
     "execution_count": 7,
     "metadata": {},
     "output_type": "execute_result"
    }
   ],
   "source": [
    "from pythainlp.tokenize import word_tokenize\n",
    "import re\n",
    "\n",
    "def deEmojify(text):\n",
    "    regrex_pattern = re.compile(pattern = \"[\"\n",
    "        u\"\\U0001F600-\\U0001F64F\"  # emoticons\n",
    "        u\"\\U0001F300-\\U0001F5FF\"  # symbols & pictographs\n",
    "        u\"\\U0001F680-\\U0001F6FF\"  # transport & map symbols\n",
    "        u\"\\U0001F1E0-\\U0001F1FF\"  # flags (iOS)\n",
    "                           \"]+\", flags = re.UNICODE)\n",
    "    return regrex_pattern.sub(r'',text)\n",
    "\n",
    "def thai_clean_text(text):\n",
    "    st = \"\"\n",
    "\n",
    "    text = deEmojify(text)\n",
    "    text = text.replace(\"\\n\",\" \")\n",
    "    for w in word_tokenize(text):\n",
    "        st = st + w + \" \"\n",
    "\n",
    "    return  re.sub(' +', ' ', st)\n",
    "\n",
    "data['review'] = data.review.apply(thai_clean_text)\n",
    "data.sample(5)"
   ]
  },
  {
   "cell_type": "code",
   "execution_count": 8,
   "id": "3a13f4c9-be43-4c8e-96df-5280ac755fbe",
   "metadata": {
    "tags": []
   },
   "outputs": [],
   "source": [
    "reviews = data['review'].values\n",
    "labels = data['label'].values\n",
    "encoder = LabelEncoder()\n",
    "encoded_labels = encoder.fit_transform(labels)"
   ]
  },
  {
   "cell_type": "code",
   "execution_count": 9,
   "id": "6a941c16-f167-485e-89ff-7eeb34d169f2",
   "metadata": {
    "tags": []
   },
   "outputs": [],
   "source": [
    "train_sentences, test_sentences, train_labels, test_labels = train_test_split(reviews, encoded_labels, stratify=encoded_labels, test_size=0.3, random_state=42)"
   ]
  },
  {
   "cell_type": "code",
   "execution_count": 10,
   "id": "0e53370f",
   "metadata": {
    "tags": []
   },
   "outputs": [
    {
     "name": "stderr",
     "output_type": "stream",
     "text": [
      "100%|██████████| 605/605 [00:00<00:00, 1983.60it/s]\n"
     ]
    }
   ],
   "source": [
    "from tqdm import tqdm\n",
    "vec = CountVectorizer(max_features = 1000)\n",
    "X = vec.fit_transform(train_sentences)\n",
    "vocab = vec.get_feature_names_out()\n",
    "X = X.toarray()\n",
    "word_counts = {}\n",
    "\n",
    "#ใช้ข้อมูล  2 class\n",
    "for l in range(2):\n",
    "    word_counts[l] = defaultdict(lambda: 0)\n",
    "for i in tqdm(range(X.shape[0])):\n",
    "    l = train_labels[i]\n",
    "    for j in range(len(vocab)):\n",
    "        word_counts[l][vocab[j]] += X[i][j]"
   ]
  },
  {
   "cell_type": "code",
   "execution_count": 11,
   "id": "480f4b8e-fb74-41bf-a5ad-a876225d8fe3",
   "metadata": {
    "tags": []
   },
   "outputs": [],
   "source": [
    "def laplace_smoothing(n_label_items, vocab, word_counts, word, text_label):\n",
    "    a = word_counts[text_label][word] + 1\n",
    "    b = n_label_items[text_label] + len(vocab)\n",
    "    return math.log(a/b)\n",
    "\n",
    "def group_by_label(x, y, labels):\n",
    "    data = {}\n",
    "    for l in labels:\n",
    "        data[l] = x[np.where(y == l)]\n",
    "\n",
    "    #print(data)\n",
    "    return data\n",
    "\n",
    "def fit(x, y, labels):\n",
    "    n_label_items = {}\n",
    "    log_label_priors = {}\n",
    "    n = len(x)\n",
    "    grouped_data = group_by_label(x, y, labels)\n",
    "    for l, data in grouped_data.items():\n",
    "\n",
    "        n_label_items[l] = len(data)\n",
    "        log_label_priors[l] = math.log(n_label_items[l] / n)\n",
    "    return n_label_items, log_label_priors\n",
    "\n",
    "def predict(n_label_items, vocab, word_counts, log_label_priors, labels, x):\n",
    "    result = []\n",
    "    for text in x:\n",
    "        label_scores = {l: log_label_priors[l] for l in labels}\n",
    "\n",
    "        words = set(text.strip().split(\" \")) #split text with space\n",
    "        #print(words)\n",
    "        for word in words:\n",
    "            if word not in vocab: continue\n",
    "            for l in labels:\n",
    "                log_w_given_l = laplace_smoothing(n_label_items, vocab, word_counts, word, l)\n",
    "                label_scores[l] += log_w_given_l\n",
    "        #print(max(label_scores, key=label_scores.get))\n",
    "        result.append(max(label_scores, key=label_scores.get))\n",
    "    return result"
   ]
  },
  {
   "cell_type": "code",
   "execution_count": 12,
   "id": "02e0359b-812a-4dd9-bcf0-3f724b0de823",
   "metadata": {
    "tags": []
   },
   "outputs": [],
   "source": [
    "labels = [0,1]\n",
    "n_label_items, log_label_priors = fit(train_sentences,train_labels,labels)"
   ]
  },
  {
   "cell_type": "code",
   "execution_count": 13,
   "id": "64750701-faf1-49a3-b033-fed0f298f9a8",
   "metadata": {
    "tags": []
   },
   "outputs": [
    {
     "name": "stdout",
     "output_type": "stream",
     "text": [
      "Accuracy of prediction on test set :  0.7269230769230769\n"
     ]
    }
   ],
   "source": [
    "pred = predict(n_label_items, vocab, word_counts, log_label_priors, labels, test_sentences)\n",
    "print(\"Accuracy of prediction on test set : \", accuracy_score(test_labels,pred))"
   ]
  },
  {
   "cell_type": "code",
   "execution_count": 14,
   "id": "9efcde02-0d4f-422e-b611-a29795e37a63",
   "metadata": {
    "tags": []
   },
   "outputs": [
    {
     "name": "stdout",
     "output_type": "stream",
     "text": [
      "The text is classified as positive.\n"
     ]
    }
   ],
   "source": [
    "test_text = thai_clean_text(\"สินค้า ถูกต้อง ตามที่ สั่ง ถูก ต้องตาม\")\n",
    "predicted_label = predict(n_label_items, vocab, word_counts, log_label_priors, labels, [test_text])\n",
    "\n",
    "if predicted_label[0] == 0:\n",
    "    print(\"The text is classified as negative.\")\n",
    "else:\n",
    "    print(\"The text is classified as positive.\")"
   ]
  },
  {
   "cell_type": "code",
   "execution_count": 15,
   "id": "77fc9200-972a-4729-9fd7-f5051496735c",
   "metadata": {
    "tags": []
   },
   "outputs": [
    {
     "data": {
      "text/plain": [
       "['สินค้า', 'ถูกต้อง', 'ตามที่', 'สั่ง', 'ถูก', 'ต้องตาม']"
      ]
     },
     "execution_count": 15,
     "metadata": {},
     "output_type": "execute_result"
    }
   ],
   "source": [
    "tokenized_text = word_tokenize(thai_clean_text(test_text), keep_whitespace=False)\n",
    "tokenized_text"
   ]
  },
  {
   "cell_type": "code",
   "execution_count": 16,
   "id": "54a2879b-e76d-43a9-8715-185dde9821f6",
   "metadata": {
    "tags": []
   },
   "outputs": [
    {
     "name": "stdout",
     "output_type": "stream",
     "text": [
      "สินค้า\n",
      "Predicted sentiment: [1]\n",
      "----------------------\n",
      "ถูกต้อง\n",
      "Predicted sentiment: [1]\n",
      "----------------------\n",
      "ตามที่\n",
      "Predicted sentiment: [1]\n",
      "----------------------\n",
      "สั่ง\n",
      "Predicted sentiment: [1]\n",
      "----------------------\n",
      "ถูก\n",
      "Predicted sentiment: [1]\n",
      "----------------------\n",
      "ต้องตาม\n",
      "Predicted sentiment: [1]\n",
      "----------------------\n"
     ]
    }
   ],
   "source": [
    "for i in tokenized_text:\n",
    "    print(i)\n",
    "    test_text = thai_clean_text(i)\n",
    "    sentiment = predict(n_label_items, vocab, word_counts, log_label_priors, labels, [test_text])\n",
    "    print(f\"Predicted sentiment: {sentiment}\")\n",
    "    print(\"----------------------\")"
   ]
  },
  {
   "cell_type": "code",
   "execution_count": 17,
   "id": "f6eff48d-5057-4caf-944d-cfe81b7c03db",
   "metadata": {
    "tags": []
   },
   "outputs": [
    {
     "name": "stdout",
     "output_type": "stream",
     "text": [
      "              precision    recall  f1-score   support\n",
      "\n",
      "           0       0.50      0.01      0.03        71\n",
      "           1       0.73      0.99      0.84       189\n",
      "\n",
      "    accuracy                           0.73       260\n",
      "   macro avg       0.61      0.50      0.43       260\n",
      "weighted avg       0.67      0.73      0.62       260\n",
      "\n"
     ]
    }
   ],
   "source": [
    "from sklearn.metrics import classification_report\n",
    "print(classification_report(test_labels,pred))"
   ]
  }
 ],
 "metadata": {
  "kernelspec": {
   "display_name": "Python 3 (ipykernel)",
   "language": "python",
   "name": "python3"
  },
  "language_info": {
   "codemirror_mode": {
    "name": "ipython",
    "version": 3
   },
   "file_extension": ".py",
   "mimetype": "text/x-python",
   "name": "python",
   "nbconvert_exporter": "python",
   "pygments_lexer": "ipython3",
   "version": "3.10.13"
  }
 },
 "nbformat": 4,
 "nbformat_minor": 5
}
