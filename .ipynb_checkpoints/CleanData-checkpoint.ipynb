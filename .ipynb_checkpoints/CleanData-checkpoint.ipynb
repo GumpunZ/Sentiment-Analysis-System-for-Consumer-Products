{
 "cells": [
  {
   "cell_type": "code",
   "execution_count": 1395,
   "id": "0baf100d-fd3b-4762-a9ea-f3efdd28926f",
   "metadata": {},
   "outputs": [],
   "source": [
    "import pandas as pd\n",
    "import glob\n",
    "import time\n",
    "import re\n",
    "import os"
   ]
  },
  {
   "cell_type": "code",
   "execution_count": 1397,
   "id": "62961a10-500d-4e7a-bbc7-005a0df21643",
   "metadata": {
    "tags": []
   },
   "outputs": [],
   "source": [
    "def remove_emoji(text):\n",
    "    pattern = re.compile(r'[^ก-๙\\s]')\n",
    "    emoji_pattern = re.compile(\"[\"\n",
    "                               \"\\U0001F600-\\U0001F64F\"  # emoticons\n",
    "                               \"\\U0001F300-\\U0001F5FF\"  # symbols & pictographs\n",
    "                               \"\\U0001F680-\\U0001F6FF\"  # transport & map symbols\n",
    "                               \"\\U0001F1E0-\\U0001F1FF\"  # flags (iOS)\n",
    "                               \"\\U00002500-\\U00002BEF\"  # chinese char\n",
    "                               \"\\U00002702-\\U000027B0\"\n",
    "                               \"\\U00002702-\\U000027B0\"\n",
    "                               \"\\U000024C2-\\U0001F251\"\n",
    "                               \"\\U0001f926-\\U0001f937\"\n",
    "                               \"\\U00010000-\\U0010ffff\"\n",
    "                               \"\\u2640-\\u2642\"\n",
    "                               \"\\u2600-\\u2B55\"\n",
    "                               \"\\u200d\"\n",
    "                               \"\\u23cf\"\n",
    "                               \"\\u23e9\"\n",
    "                               \"\\u231a\"\n",
    "                               \"\\ufe0f\"  # dingbats\n",
    "                               \"\\u3030\"\n",
    "                               \"]+\", flags=re.UNICODE)\n",
    "    cleaned_text = emoji_pattern.sub('', text)\n",
    "    cleaned_text = pattern.sub('', cleaned_text)\n",
    "    word_list = cleaned_text.split()  # แปลงข้อความเป็นลิสต์ของคำ\n",
    "    unique_words = []  # สร้างลิสต์เพื่อเก็บคำที่ไม่ซ้ำ\n",
    "    for word in word_list:\n",
    "        if word not in unique_words:\n",
    "            unique_words.append(word)\n",
    "    cleaned_text = ' '.join(unique_words)  # แปลงกลับเป็นข้อความ\n",
    "    return cleaned_text\n"
   ]
  },
  {
   "cell_type": "markdown",
   "id": "5beb4139-b17d-4bbe-a106-62ade1958639",
   "metadata": {},
   "source": [
    "5, 4 Star"
   ]
  },
  {
   "cell_type": "code",
   "execution_count": 1400,
   "id": "98f2466c-c00c-403c-acd5-d339c1955216",
   "metadata": {},
   "outputs": [],
   "source": [
    "# Define the folder path\n",
    "folder_path = 'C:/Users/Gumpun/Sentiment-Analysis-System-for-Consumer-Products/DataReviewProductThai/5-star'\n",
    "\n",
    "# Get a list of all text files in the folder\n",
    "file_list = [file for file in glob.glob(folder_path + \"/*.txt\") if os.path.isfile(file)]\n",
    "\n",
    "# Create an empty list to store DataFrames\n",
    "dfs = []\n",
    "\n",
    "# Iterate over each text file\n",
    "for file_path in file_list:\n",
    "    # Read the text file into a DataFrame\n",
    "    five_star = pd.read_csv(file_path, delimiter=',', encoding='utf-8')  # Assuming files are comma-delimited\n",
    "    \n",
    "    # Remove emojis from the 'Message' column\n",
    "    five_star['Message'] = five_star['Message'].apply(remove_emoji)\n",
    "    \n",
    "    \n",
    "    # Append the DataFrame to the list\n",
    "    dfs.append(five_star)\n",
    "\n",
    "# Concatenate all DataFrames into a single DataFrame\n",
    "five_500_messages = pd.concat(dfs, ignore_index=True)"
   ]
  },
  {
   "cell_type": "code",
   "execution_count": 1402,
   "id": "15935046-503f-4e4e-96a1-ab0f0771b618",
   "metadata": {
    "tags": []
   },
   "outputs": [],
   "source": [
    "random_seed = int(time.time())"
   ]
  },
  {
   "cell_type": "code",
   "execution_count": 1404,
   "id": "9392cf4b-9166-436b-ba70-c1c9a049df12",
   "metadata": {
    "tags": []
   },
   "outputs": [],
   "source": [
    "five_500_messages = five_500_messages.sample(n=500, random_state=random_seed)"
   ]
  },
  {
   "cell_type": "code",
   "execution_count": 1406,
   "id": "1a433262-9369-4316-85c5-a3d25963e2be",
   "metadata": {
    "tags": []
   },
   "outputs": [
    {
     "data": {
      "text/plain": [
       "3498                    ส่งรวดเร็ว ได้สินค้าตรงกับที่สั่ง\n",
       "243     ดีไซน์เก๋ หรูหรา ขอบสีและตัวหนังสือโดดเด่นเห็น...\n",
       "1672    จัดส่งรวดเร็วจากประเทศไทย ผ้าเบาสบายในการเคลื่...\n",
       "5247    สวย คุณภาพดี เก็บความเย็นได้นาน หลอดแข็งแรง พก...\n",
       "1750    สวยยยยยยยยยยยยยยยยยยยยยยยยยยยยยยยยยยยยยยยยยยยย...\n",
       "                              ...                        \n",
       "2769             วัสดุเบา แต่ไม่นุ่ม ขนาดพอดี การออกแบบดี\n",
       "4069                      ดีค่ะ ราคาถูกมาก ผ้าก็ใช้ได้ค่ะ\n",
       "662     การเคลื่อนไหวที่เงียบสงบและราบรื่น มีให้เลือกห...\n",
       "2923    การออกแบบดีๆๆๆๆๆๆๆๆๆๆๆๆๆๆๆๆๆๆๆๆๆๆๆๆๆๆๆๆๆๆๆไไไไ...\n",
       "4654    ได้รับสินค้าเรียบร้อยแล้วค่ะถูกต้องตรงตามที่สั...\n",
       "Name: Message, Length: 500, dtype: object"
      ]
     },
     "execution_count": 1406,
     "metadata": {},
     "output_type": "execute_result"
    }
   ],
   "source": [
    "five_500_messages[\"Message\"]"
   ]
  },
  {
   "cell_type": "code",
   "execution_count": 1408,
   "id": "3ffa6f40-f7a9-47c6-98f3-b5203df37725",
   "metadata": {
    "tags": []
   },
   "outputs": [],
   "source": [
    "# Specify the output text file path\n",
    "output_txt_path = 'C:/Users/Gumpun/Sentiment-Analysis-System-for-Consumer-Products/DataReviewProductThai/Positive.txt'\n",
    "\n",
    "# Save the 'Message' column of the DataFrame to a text file\n",
    "five_500_messages[\"Message\"].to_csv(output_txt_path, index=False, header=False)\n"
   ]
  },
  {
   "cell_type": "markdown",
   "id": "7dbf60fc-8928-4eba-8707-28212dfab83e",
   "metadata": {},
   "source": [
    "3 Star"
   ]
  },
  {
   "cell_type": "code",
   "execution_count": 1411,
   "id": "ca4dbe77-0804-4d55-bc23-e399f71d4b32",
   "metadata": {},
   "outputs": [],
   "source": [
    "\n",
    "# Define the folder path\n",
    "folder_path = 'C:/Users/Gumpun/Sentiment-Analysis-System-for-Consumer-Products/DataReviewProductThai/3-star'\n",
    "\n",
    "# Get a list of all text files in the folder\n",
    "file_list = [file for file in glob.glob(folder_path + \"/*.txt\") if os.path.isfile(file)]\n",
    "\n",
    "# Create an empty list to store DataFrames\n",
    "dfs = []\n",
    "\n",
    "# Iterate over each text file\n",
    "for file_path in file_list:\n",
    "    # Read the text file into a DataFrame\n",
    "    three_star = pd.read_csv(file_path, delimiter=',', encoding='utf-8')  # Assuming files are comma-delimited\n",
    "    \n",
    "    # Remove emojis from the 'Message' column\n",
    "    three_star['Message'] = three_star['Message'].apply(remove_emoji)\n",
    "    \n",
    "    # Append the DataFrame to the list\n",
    "    dfs.append(three_star)\n",
    "\n",
    "# Concatenate all DataFrames into a single DataFrame\n",
    "three_500_messages = pd.concat(dfs, ignore_index=True)"
   ]
  },
  {
   "cell_type": "code",
   "execution_count": 1413,
   "id": "0f7b80ba-6f3c-4920-aac5-9c2d2b65d738",
   "metadata": {
    "tags": []
   },
   "outputs": [],
   "source": [
    "three_500_messages = three_500_messages.sample(n=500, random_state=random_seed)"
   ]
  },
  {
   "cell_type": "code",
   "execution_count": 1415,
   "id": "da903166-1182-47cb-a5b3-c64904630496",
   "metadata": {
    "tags": []
   },
   "outputs": [
    {
     "data": {
      "text/plain": [
       "432      กางเกงมาแล้วเล็กมากเลยค่ะใส่ไม่ได้ค่ะทำยังไงดีคะ\n",
       "26                      สมราคาค่ะแต่แบตชาร์จทนไม่นานก็หมด\n",
       "244     ลองใช้แล้วเสียงไม่ค่อยดัง มันอื่อๆเสียงไม่ชัดส...\n",
       "1178                  สั้งสีดำ กับน้ำเงิน ส่งดำมาทั้ง ตัว\n",
       "333                          สีไม่ตรงตามที่สั่งตัวใหญ่มาก\n",
       "                              ...                        \n",
       "1051             ไซส์เดียวกันแต่ไม่เท่ากันค่ะเนื้อผ้าโอเค\n",
       "1234    ผ้าด้านนอกนิ่มดีค่ะแต่ด้านในแข็งผ้าบางเล็กน้อย...\n",
       "643           ลองใส่มาสักระยะ ไม่สบายเท้าเลย ไม่แนะนำครัย\n",
       "1547                            ซักครั้งแรกเป็นขุย สมราคา\n",
       "462     ดาว เพราะว่ามันมีด้ายที่ตัดไม่เรียบร้อย แล้วเร...\n",
       "Name: Message, Length: 500, dtype: object"
      ]
     },
     "execution_count": 1415,
     "metadata": {},
     "output_type": "execute_result"
    }
   ],
   "source": [
    "three_500_messages[\"Message\"]"
   ]
  },
  {
   "cell_type": "code",
   "execution_count": 1417,
   "id": "abbfc63a-1917-4e5f-868b-c10b4c736c7d",
   "metadata": {
    "tags": []
   },
   "outputs": [],
   "source": [
    "# Specify the output text file path\n",
    "output_txt_path = 'C:/Users/Gumpun/Sentiment-Analysis-System-for-Consumer-Products/DataReviewProductThai/Neutrally.txt'\n",
    "\n",
    "# Save the 'Message' column of the DataFrame to a text file\n",
    "three_500_messages[\"Message\"].to_csv(output_txt_path, index=False, header=False)"
   ]
  },
  {
   "cell_type": "markdown",
   "id": "3c4f7cad-59e0-4707-a54f-bcce59cef1b2",
   "metadata": {},
   "source": [
    "2, 1 Star"
   ]
  },
  {
   "cell_type": "code",
   "execution_count": 1420,
   "id": "35290322-b047-4201-9a52-3b879cc28cc8",
   "metadata": {
    "tags": []
   },
   "outputs": [],
   "source": [
    "# Define the folder path\n",
    "folder_path = 'C:/Users/Gumpun/Sentiment-Analysis-System-for-Consumer-Products/DataReviewProductThai/1-star'\n",
    "\n",
    "# Get a list of all text files in the folder\n",
    "file_list = [file for file in glob.glob(folder_path + \"/*.txt\") if os.path.isfile(file)]\n",
    "\n",
    "# Create an empty list to store DataFrames\n",
    "dfs = []\n",
    "\n",
    "# Iterate over each text file\n",
    "for file_path in file_list:\n",
    "    # Read the text file into a DataFrame\n",
    "    one_star = pd.read_csv(file_path, delimiter=',', encoding='utf-8')  # Assuming files are comma-delimited\n",
    "    \n",
    "    # Remove emojis from the 'Message' column\n",
    "    one_star['Message'] = one_star['Message'].apply(remove_emoji)\n",
    "    \n",
    "    # Append the DataFrame to the list\n",
    "    dfs.append(one_star)\n",
    "\n",
    "# Concatenate all DataFrames into a single DataFrame\n",
    "one_500_messages = pd.concat(dfs, ignore_index=True)"
   ]
  },
  {
   "cell_type": "code",
   "execution_count": 1422,
   "id": "91aa0b89-be3d-46c1-bda2-9cc9876b9db3",
   "metadata": {
    "tags": []
   },
   "outputs": [],
   "source": [
    "one_500_messages = one_500_messages.sample(n=500, random_state=random_seed)"
   ]
  },
  {
   "cell_type": "code",
   "execution_count": 1424,
   "id": "1f6d1e17-684f-4008-8c54-e15a9c418d35",
   "metadata": {
    "tags": []
   },
   "outputs": [
    {
     "data": {
      "text/plain": [
       "1020         สั้นวัดจากเอวถึงปลายขายาวแค่ แต่บอกสินค้ายาว\n",
       "1471    ผ้าขนหนูเป็นอะไรทำไมถึงเช็ดตัวแล้วขนติดเต็มตัว...\n",
       "1126      การเย็บไม่ดีดึงเศษด้ายชิ้นเดียวย้วยออกรอบเอวเลย\n",
       "50      พัดลมมีระดับเปิดแล้วเท่ากันหมดเหมือนไม่มีแรงเป...\n",
       "326                       หูฟัง ดังข้างเดียว เหมือนจะช็อต\n",
       "                              ...                        \n",
       "520                  ได้รับสินค้าแล้ว ตัวเล็กมากใส่ไม่ได้\n",
       "416          แย่มากกกกกก ไม่เหมือนในรูปเลยสีกนิดแย่ที่สุด\n",
       "656                             มาเร็วดีครับใช้งานได้ครับ\n",
       "55                                 แบตเตอรี่หมดเร็วเกินไป\n",
       "550                                         สวยค๊าาสมราคา\n",
       "Name: Message, Length: 500, dtype: object"
      ]
     },
     "execution_count": 1424,
     "metadata": {},
     "output_type": "execute_result"
    }
   ],
   "source": [
    "one_500_messages[\"Message\"]"
   ]
  },
  {
   "cell_type": "code",
   "execution_count": 1426,
   "id": "5627872d-ba6f-46dd-aac3-fd4364f46c0f",
   "metadata": {
    "tags": []
   },
   "outputs": [],
   "source": [
    "# Specify the output text file path\n",
    "output_txt_path = 'C:/Users/Gumpun/Sentiment-Analysis-System-for-Consumer-Products/DataReviewProductThai/Negative.txt'\n",
    "\n",
    "# Save the 'Message' column of the DataFrame to a text file\n",
    "one_500_messages[\"Message\"].to_csv(output_txt_path, index=False, header=False)"
   ]
  },
  {
   "cell_type": "code",
   "execution_count": null,
   "id": "9d064a98-ffd6-42f6-8e8d-f6609f3d3733",
   "metadata": {},
   "outputs": [],
   "source": []
  }
 ],
 "metadata": {
  "kernelspec": {
   "display_name": "Python 3 (ipykernel)",
   "language": "python",
   "name": "python3"
  },
  "language_info": {
   "codemirror_mode": {
    "name": "ipython",
    "version": 3
   },
   "file_extension": ".py",
   "mimetype": "text/x-python",
   "name": "python",
   "nbconvert_exporter": "python",
   "pygments_lexer": "ipython3",
   "version": "3.10.13"
  }
 },
 "nbformat": 4,
 "nbformat_minor": 5
}
