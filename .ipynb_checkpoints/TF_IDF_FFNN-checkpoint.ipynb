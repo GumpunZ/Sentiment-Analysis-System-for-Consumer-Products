{
 "cells": [
  {
   "cell_type": "code",
   "execution_count": null,
   "metadata": {
    "colab": {
     "base_uri": "https://localhost:8080/"
    },
    "id": "fjdJseYNm9_7",
    "outputId": "e0b0bfd4-eefe-4632-ae5f-7988151aa8eb"
   },
   "outputs": [
    {
     "name": "stdout",
     "output_type": "stream",
     "text": [
      "Requirement already satisfied: pythainlp in /usr/local/lib/python3.10/dist-packages (5.0.1)\n",
      "Requirement already satisfied: requests>=2.22.0 in /usr/local/lib/python3.10/dist-packages (from pythainlp) (2.31.0)\n",
      "Requirement already satisfied: charset-normalizer<4,>=2 in /usr/local/lib/python3.10/dist-packages (from requests>=2.22.0->pythainlp) (3.3.2)\n",
      "Requirement already satisfied: idna<4,>=2.5 in /usr/local/lib/python3.10/dist-packages (from requests>=2.22.0->pythainlp) (3.6)\n",
      "Requirement already satisfied: urllib3<3,>=1.21.1 in /usr/local/lib/python3.10/dist-packages (from requests>=2.22.0->pythainlp) (2.0.7)\n",
      "Requirement already satisfied: certifi>=2017.4.17 in /usr/local/lib/python3.10/dist-packages (from requests>=2.22.0->pythainlp) (2024.2.2)\n"
     ]
    }
   ],
   "source": [
    "!pip install pythainlp"
   ]
  },
  {
   "cell_type": "code",
   "execution_count": 14,
   "metadata": {
    "id": "4woUzStTm3s2",
    "tags": []
   },
   "outputs": [],
   "source": [
    "import pandas as pd\n",
    "from sklearn.preprocessing import LabelEncoder\n",
    "from sklearn.model_selection import train_test_split\n",
    "import numpy as np\n",
    "from sklearn.feature_extraction.text import TfidfVectorizer\n",
    "import torch\n",
    "import torch.nn as nn\n",
    "import torch.nn.functional as F\n",
    "import torch.optim as optim"
   ]
  },
  {
   "cell_type": "code",
   "execution_count": 16,
   "metadata": {
    "id": "KdDFWvLTmejq",
    "tags": []
   },
   "outputs": [],
   "source": [
    "pos_text = (\"C:/Users/Gumpun/Sentiment-Analysis-System-for-Consumer-Products/DataReviewProductThai/Positive.csv\")\n",
    "neg_text = (\"C:/Users/Gumpun/Sentiment-Analysis-System-for-Consumer-Products/DataReviewProductThai/Negative.csv\")\n",
    "neu_text = (\"C:/Users/Gumpun/Sentiment-Analysis-System-for-Consumer-Products/DataReviewProductThai/Neutrally.csv\")"
   ]
  },
  {
   "cell_type": "code",
   "execution_count": 18,
   "metadata": {
    "colab": {
     "base_uri": "https://localhost:8080/",
     "height": 423
    },
    "id": "VT1SWsBkm0PV",
    "outputId": "1d6ceb47-1deb-4597-b25b-f86b1d59c368",
    "tags": []
   },
   "outputs": [
    {
     "data": {
      "text/html": [
       "<div>\n",
       "<style scoped>\n",
       "    .dataframe tbody tr th:only-of-type {\n",
       "        vertical-align: middle;\n",
       "    }\n",
       "\n",
       "    .dataframe tbody tr th {\n",
       "        vertical-align: top;\n",
       "    }\n",
       "\n",
       "    .dataframe thead th {\n",
       "        text-align: right;\n",
       "    }\n",
       "</style>\n",
       "<table border=\"1\" class=\"dataframe\">\n",
       "  <thead>\n",
       "    <tr style=\"text-align: right;\">\n",
       "      <th></th>\n",
       "      <th>User</th>\n",
       "      <th>Message</th>\n",
       "      <th>Sentiment</th>\n",
       "    </tr>\n",
       "  </thead>\n",
       "  <tbody>\n",
       "    <tr>\n",
       "      <th>1362</th>\n",
       "      <td>วุดด. เ.</td>\n",
       "      <td>สินค้าใช้ดี มีมาตรฐานส่งเร็วไม่เสียหายคุณภาพดี...</td>\n",
       "      <td>Positive</td>\n",
       "    </tr>\n",
       "    <tr>\n",
       "      <th>339</th>\n",
       "      <td>B***k</td>\n",
       "      <td>ไม่ให้หัวฉีดมา แล้วจะใช้อย่างไร แย่มาก</td>\n",
       "      <td>Negative</td>\n",
       "    </tr>\n",
       "    <tr>\n",
       "      <th>516</th>\n",
       "      <td>สิทธิชัย. พ.</td>\n",
       "      <td>ไห้แต่กระป๋องหัวฉีดไม่ไห้มาจะเอามาใช่อย่างไรรก...</td>\n",
       "      <td>Negative</td>\n",
       "    </tr>\n",
       "    <tr>\n",
       "      <th>1092</th>\n",
       "      <td>M***.</td>\n",
       "      <td>เริ่ดดดดดดดำพำำำพกกกดดดมากกกกกกกกกกกกกกสวยยยยย...</td>\n",
       "      <td>Positive</td>\n",
       "    </tr>\n",
       "    <tr>\n",
       "      <th>273</th>\n",
       "      <td>*******670</td>\n",
       "      <td>เห็นรีวิวถึงซื้อ แต่พอได้ของ สินค้าไม่มีกล่องม...</td>\n",
       "      <td>Neutrally</td>\n",
       "    </tr>\n",
       "    <tr>\n",
       "      <th>...</th>\n",
       "      <td>...</td>\n",
       "      <td>...</td>\n",
       "      <td>...</td>\n",
       "    </tr>\n",
       "    <tr>\n",
       "      <th>221</th>\n",
       "      <td>🌺🔥ოণ Ҩ.</td>\n",
       "      <td>สิ้นค้าไม่มีคุณภาพเก็บความเย็นไม่อยู่ครั้งหน้า...</td>\n",
       "      <td>Negative</td>\n",
       "    </tr>\n",
       "    <tr>\n",
       "      <th>395</th>\n",
       "      <td>9***6</td>\n",
       "      <td>ใส่ไม่ได้เบอไมตรง</td>\n",
       "      <td>Positive</td>\n",
       "    </tr>\n",
       "    <tr>\n",
       "      <th>792</th>\n",
       "      <td>ด***ู</td>\n",
       "      <td>สินค้าห่อมาดีมากครับมีกันกระแทกสินค้าไม่เสียหา...</td>\n",
       "      <td>Positive</td>\n",
       "    </tr>\n",
       "    <tr>\n",
       "      <th>987</th>\n",
       "      <td>น***.</td>\n",
       "      <td>ตัดเย็บด้านในแย่กว่าผ้าโหล</td>\n",
       "      <td>Negative</td>\n",
       "    </tr>\n",
       "    <tr>\n",
       "      <th>350</th>\n",
       "      <td>P***a</td>\n",
       "      <td>ได้รับสินค้าแล้ว ขนาดพกพาได้ เหมาะสมกับราคา ถื...</td>\n",
       "      <td>Positive</td>\n",
       "    </tr>\n",
       "  </tbody>\n",
       "</table>\n",
       "<p>100 rows × 3 columns</p>\n",
       "</div>"
      ],
      "text/plain": [
       "              User                                            Message  \\\n",
       "1362      วุดด. เ.  สินค้าใช้ดี มีมาตรฐานส่งเร็วไม่เสียหายคุณภาพดี...   \n",
       "339          B***k             ไม่ให้หัวฉีดมา แล้วจะใช้อย่างไร แย่มาก   \n",
       "516   สิทธิชัย. พ.  ไห้แต่กระป๋องหัวฉีดไม่ไห้มาจะเอามาใช่อย่างไรรก...   \n",
       "1092         M***.  เริ่ดดดดดดดำพำำำพกกกดดดมากกกกกกกกกกกกกกสวยยยยย...   \n",
       "273     *******670  เห็นรีวิวถึงซื้อ แต่พอได้ของ สินค้าไม่มีกล่องม...   \n",
       "...            ...                                                ...   \n",
       "221        🌺🔥ოণ Ҩ.  สิ้นค้าไม่มีคุณภาพเก็บความเย็นไม่อยู่ครั้งหน้า...   \n",
       "395          9***6                                  ใส่ไม่ได้เบอไมตรง   \n",
       "792          ด***ู  สินค้าห่อมาดีมากครับมีกันกระแทกสินค้าไม่เสียหา...   \n",
       "987          น***.                         ตัดเย็บด้านในแย่กว่าผ้าโหล   \n",
       "350          P***a  ได้รับสินค้าแล้ว ขนาดพกพาได้ เหมาะสมกับราคา ถื...   \n",
       "\n",
       "      Sentiment  \n",
       "1362   Positive  \n",
       "339    Negative  \n",
       "516    Negative  \n",
       "1092   Positive  \n",
       "273   Neutrally  \n",
       "...         ...  \n",
       "221    Negative  \n",
       "395    Positive  \n",
       "792    Positive  \n",
       "987    Negative  \n",
       "350    Positive  \n",
       "\n",
       "[100 rows x 3 columns]"
      ]
     },
     "execution_count": 18,
     "metadata": {},
     "output_type": "execute_result"
    }
   ],
   "source": [
    "pos_df = pd.read_csv(pos_text, delimiter=',', encoding='utf-8').dropna()\n",
    "neg_df = pd.read_csv(neg_text, delimiter=',', encoding='utf-8').dropna()\n",
    "neu_df = pd.read_csv(neu_text, delimiter=',', encoding='utf-8').dropna()\n",
    "\n",
    "data = pd.concat([pos_df, neg_df, neu_df])\n",
    "data.sample(100)"
   ]
  },
  {
   "cell_type": "code",
   "execution_count": 20,
   "metadata": {
    "id": "CMehpAx9m1zm",
    "tags": []
   },
   "outputs": [],
   "source": [
    "from pythainlp.tokenize import word_tokenize"
   ]
  },
  {
   "cell_type": "code",
   "execution_count": 21,
   "metadata": {
    "colab": {
     "base_uri": "https://localhost:8080/",
     "height": 363
    },
    "id": "8rsjcmHRnDUN",
    "outputId": "1dd43a45-d53c-4184-ada9-4e4984a010fe",
    "tags": []
   },
   "outputs": [
    {
     "data": {
      "text/html": [
       "<div>\n",
       "<style scoped>\n",
       "    .dataframe tbody tr th:only-of-type {\n",
       "        vertical-align: middle;\n",
       "    }\n",
       "\n",
       "    .dataframe tbody tr th {\n",
       "        vertical-align: top;\n",
       "    }\n",
       "\n",
       "    .dataframe thead th {\n",
       "        text-align: right;\n",
       "    }\n",
       "</style>\n",
       "<table border=\"1\" class=\"dataframe\">\n",
       "  <thead>\n",
       "    <tr style=\"text-align: right;\">\n",
       "      <th></th>\n",
       "      <th>User</th>\n",
       "      <th>Message</th>\n",
       "      <th>Sentiment</th>\n",
       "    </tr>\n",
       "  </thead>\n",
       "  <tbody>\n",
       "    <tr>\n",
       "      <th>194</th>\n",
       "      <td>Chinjung J.</td>\n",
       "      <td>ดี ๆ ชอบ บๆ ส่ง เร็ว ดี ค่ะ ดี ๆ ชอบ บๆ ส่ง เร...</td>\n",
       "      <td>Negative</td>\n",
       "    </tr>\n",
       "    <tr>\n",
       "      <th>991</th>\n",
       "      <td>รัตนา ส.</td>\n",
       "      <td>สั่ง   ได้มา แค่   ได้ สินค้า ไม่ ครบ นะค แย่ม...</td>\n",
       "      <td>Negative</td>\n",
       "    </tr>\n",
       "    <tr>\n",
       "      <th>1098</th>\n",
       "      <td>0***2</td>\n",
       "      <td>เล็ก เอว แน่ มาก ไม่ ตรง ไซ ร์</td>\n",
       "      <td>Neutrally</td>\n",
       "    </tr>\n",
       "    <tr>\n",
       "      <th>1034</th>\n",
       "      <td>*******638</td>\n",
       "      <td>เล็ก กว่า ไซส์ ที่ ยอก ไว้ นิดห่อย แต่ ก็ ใส่ ได้</td>\n",
       "      <td>Neutrally</td>\n",
       "    </tr>\n",
       "    <tr>\n",
       "      <th>1210</th>\n",
       "      <td>L***.</td>\n",
       "      <td>ไม่ ตรง ปก</td>\n",
       "      <td>Negative</td>\n",
       "    </tr>\n",
       "    <tr>\n",
       "      <th>566</th>\n",
       "      <td>Raemon M.</td>\n",
       "      <td>ส่ง ไว มาก เนื้อผา ก็ดี นะ ผ่าน จะ ให้   ดาว</td>\n",
       "      <td>Neutrally</td>\n",
       "    </tr>\n",
       "    <tr>\n",
       "      <th>1170</th>\n",
       "      <td>Pradthagron K.</td>\n",
       "      <td>เล็ก เกิน   ไม่ น่า ใส่ ได้   แต่ ผ้า ดี   ค่ะ</td>\n",
       "      <td>Neutrally</td>\n",
       "    </tr>\n",
       "    <tr>\n",
       "      <th>842</th>\n",
       "      <td>Wantanee T.</td>\n",
       "      <td>ไม่ ชอบ คะ</td>\n",
       "      <td>Neutrally</td>\n",
       "    </tr>\n",
       "    <tr>\n",
       "      <th>828</th>\n",
       "      <td>0***9</td>\n",
       "      <td>ผ้า บาง มาก   ไม่ กล้า ใส่ ไป ข้าง นอกบ้า</td>\n",
       "      <td>Negative</td>\n",
       "    </tr>\n",
       "    <tr>\n",
       "      <th>1143</th>\n",
       "      <td>ย***.</td>\n",
       "      <td>ไม่ เย็น เลย ค่ะ</td>\n",
       "      <td>Negative</td>\n",
       "    </tr>\n",
       "  </tbody>\n",
       "</table>\n",
       "</div>"
      ],
      "text/plain": [
       "                User                                            Message  \\\n",
       "194      Chinjung J.  ดี ๆ ชอบ บๆ ส่ง เร็ว ดี ค่ะ ดี ๆ ชอบ บๆ ส่ง เร...   \n",
       "991         รัตนา ส.  สั่ง   ได้มา แค่   ได้ สินค้า ไม่ ครบ นะค แย่ม...   \n",
       "1098           0***2                     เล็ก เอว แน่ มาก ไม่ ตรง ไซ ร์   \n",
       "1034      *******638  เล็ก กว่า ไซส์ ที่ ยอก ไว้ นิดห่อย แต่ ก็ ใส่ ได้   \n",
       "1210           L***.                                         ไม่ ตรง ปก   \n",
       "566        Raemon M.       ส่ง ไว มาก เนื้อผา ก็ดี นะ ผ่าน จะ ให้   ดาว   \n",
       "1170  Pradthagron K.     เล็ก เกิน   ไม่ น่า ใส่ ได้   แต่ ผ้า ดี   ค่ะ   \n",
       "842      Wantanee T.                                         ไม่ ชอบ คะ   \n",
       "828            0***9          ผ้า บาง มาก   ไม่ กล้า ใส่ ไป ข้าง นอกบ้า   \n",
       "1143           ย***.                                   ไม่ เย็น เลย ค่ะ   \n",
       "\n",
       "      Sentiment  \n",
       "194    Negative  \n",
       "991    Negative  \n",
       "1098  Neutrally  \n",
       "1034  Neutrally  \n",
       "1210   Negative  \n",
       "566   Neutrally  \n",
       "1170  Neutrally  \n",
       "842   Neutrally  \n",
       "828    Negative  \n",
       "1143   Negative  "
      ]
     },
     "execution_count": 21,
     "metadata": {},
     "output_type": "execute_result"
    }
   ],
   "source": [
    "# สร้างฟังก์ชันสำหรับการลบอักขระที่ซ้ำกันในแต่ละคำเท่านั้น\n",
    "def remove_duplicate_chars(text):\n",
    "    if isinstance(text, str):  # ตรวจสอบว่าข้อความไม่ใช่ NaN\n",
    "        unique_words = []\n",
    "        words = word_tokenize(text)\n",
    "        for word in words:\n",
    "            unique_word = ''\n",
    "            for char in word:\n",
    "                if char not in unique_word:\n",
    "                    unique_word += char\n",
    "            unique_words.append(unique_word)\n",
    "        return ' '.join(unique_words)\n",
    "    else:\n",
    "        return text  # ส่งค่า NaN กลับหากเป็น NaN\n",
    "\n",
    "# ใช้ฟังก์ชัน `remove_duplicate_chars` เพื่อ Tokenize และลบคำที่ซ้ำ\n",
    "data['Message'] = data['Message'].apply(remove_duplicate_chars)\n",
    "data.sample(10)"
   ]
  },
  {
   "cell_type": "code",
   "execution_count": 22,
   "metadata": {
    "colab": {
     "base_uri": "https://localhost:8080/"
    },
    "id": "ptP7yZPVnF_S",
    "outputId": "e899ffe7-3d6f-4ec1-9cd0-5d5d6484175b",
    "tags": []
   },
   "outputs": [
    {
     "name": "stdout",
     "output_type": "stream",
     "text": [
      "Encoded labels: [2 2 2 ... 1 1 1]\n",
      "Mapping of encoded labels to original labels:\n",
      "0: Negative\n",
      "1: Neutrally\n",
      "2: Positive\n"
     ]
    }
   ],
   "source": [
    "Message = data['Message'].values\n",
    "Sentiment = data['Sentiment'].values\n",
    "encoder = LabelEncoder()\n",
    "encoded_labels = encoder.fit_transform(Sentiment)\n",
    "print(\"Encoded labels:\", encoded_labels)\n",
    "print(\"Mapping of encoded labels to original labels:\")\n",
    "\n",
    "for label, original_label in enumerate(encoder.classes_):\n",
    "    print(f\"{label}: {original_label}\")"
   ]
  },
  {
   "cell_type": "code",
   "execution_count": 23,
   "metadata": {
    "id": "_JKaSsgtnVAE",
    "tags": []
   },
   "outputs": [],
   "source": [
    "# แบ่งข้อมูลเป็นชุดฝึกและชุดทดสอบ\n",
    "train_sentences, test_sentences, train_labels, test_labels = train_test_split(Message, encoded_labels, stratify=encoded_labels, test_size=0.1, random_state=42)"
   ]
  },
  {
   "cell_type": "code",
   "execution_count": 24,
   "metadata": {
    "colab": {
     "base_uri": "https://localhost:8080/"
    },
    "id": "gXXREmU1ndv5",
    "outputId": "02a25c7b-8c2d-4efa-a819-bff87cca6f7e",
    "tags": []
   },
   "outputs": [
    {
     "name": "stdout",
     "output_type": "stream",
     "text": [
      "TF-IDF train shape: torch.Size([3816, 1000])\n",
      "TF-IDF test shape: torch.Size([450, 1000])\n",
      "TF-IDF val shape: torch.Size([225, 1000])\n"
     ]
    }
   ],
   "source": [
    "#ทำส่วนของ TF-IDF\n",
    "val_size = int(len(test_sentences)/2)\n",
    "train = list(train_sentences)[:(len(train_sentences)-val_size)]\n",
    "val = list(train_sentences)[(len(train_sentences)-val_size):]\n",
    "test = list(test_sentences)\n",
    "\n",
    "tfidf_vectorizer = TfidfVectorizer(max_features=1000, dtype=np.float32)\n",
    "\n",
    "#ใช้ชุดเทรน ทำ vectorizer\n",
    "tfidfX_train = tfidf_vectorizer.fit_transform(train)\n",
    "tfidfX_train = torch.tensor(tfidfX_train.toarray())\n",
    "\n",
    "tfidfX_val = tfidf_vectorizer.transform(val)\n",
    "tfidfX_val = torch.tensor(tfidfX_val.toarray())\n",
    "\n",
    "tfidfX_test = tfidf_vectorizer.transform(test)\n",
    "tfidfX_test = torch.tensor(tfidfX_test.toarray())\n",
    "\n",
    "print(\"TF-IDF train shape:\", tfidfX_train.shape)\n",
    "print(\"TF-IDF test shape:\", tfidfX_test.shape)\n",
    "print(\"TF-IDF val shape:\", tfidfX_val.shape)"
   ]
  },
  {
   "cell_type": "code",
   "execution_count": 26,
   "metadata": {
    "colab": {
     "base_uri": "https://localhost:8080/"
    },
    "id": "VPVgeq4lnjSw",
    "outputId": "a1c35245-5345-4b01-8eb5-12cb48fe6633",
    "tags": []
   },
   "outputs": [
    {
     "name": "stdout",
     "output_type": "stream",
     "text": [
      "Y train shape: torch.Size([3816])\n",
      "Y test shape: torch.Size([225])\n",
      "Y shape: torch.Size([450])\n"
     ]
    }
   ],
   "source": [
    "#โค้ดที่ให้มาน่าจะใช้สำหรับการแปลงป้ายกำกับของชุดข้อมูลการจำแนกประเภทข้อความให้อยู่ในรูปแบบของ PyTorch\n",
    "Y_train = torch.squeeze(torch.tensor(list(train_labels[:(len(train_sentences)-val_size)])).float())\n",
    "Y_val = torch.squeeze(torch.tensor(train_labels[(len(train_sentences)-val_size):]).float())\n",
    "Y_test = torch.squeeze(torch.tensor(test_labels).float())\n",
    "\n",
    "print(\"Y train shape:\", Y_train.shape)\n",
    "print(\"Y test shape:\", Y_val.shape)\n",
    "print(\"Y shape:\", Y_test.shape)"
   ]
  },
  {
   "cell_type": "code",
   "execution_count": 27,
   "metadata": {
    "colab": {
     "base_uri": "https://localhost:8080/"
    },
    "id": "OKPMQV7SoFOx",
    "outputId": "8b79bdce-6bb2-456f-aa80-fda3b56967f7",
    "tags": []
   },
   "outputs": [
    {
     "name": "stdout",
     "output_type": "stream",
     "text": [
      "Device available for running: \n",
      "cuda\n"
     ]
    }
   ],
   "source": [
    "device = torch.device(\"cuda\" if torch.cuda.is_available() else \"cpu\")\n",
    "print(\"Device available for running: \")\n",
    "print(device)"
   ]
  },
  {
   "cell_type": "code",
   "execution_count": 34,
   "metadata": {
    "id": "Xz3ZmpVooQJq",
    "tags": []
   },
   "outputs": [],
   "source": [
    "class FFNN(nn.Module):\n",
    "    def __init__(self, input_dim, hidden_dim_1, hidden_dim_2, output_dim):\n",
    "        super(FFNN, self).__init__()\n",
    "\n",
    "        # Linear function 1\n",
    "        self.layer_1 = nn.Linear(input_dim, hidden_dim_1)\n",
    "\n",
    "        # Non-linearity 1\n",
    "        self.relu_1 = nn.ReLU()\n",
    "\n",
    "        # Linear function 2\n",
    "        self.layer_2 = nn.Linear(hidden_dim_1, hidden_dim_2)\n",
    "        # Non-linearity 2\n",
    "        self.relu_2 = nn.ReLU()\n",
    "\n",
    "        # Linear function 3\n",
    "        self.layer_3 = nn.Linear(hidden_dim_2, output_dim)\n",
    "\n",
    "    def forward(self, x):\n",
    "        out = self.layer_1(x)\n",
    "        out = self.relu_1(out)\n",
    "\n",
    "        out = self.layer_2(out)\n",
    "        out = self.relu_2(out)\n",
    "\n",
    "        out = self.layer_3(out)\n",
    "\n",
    "        return torch.sigmoid(out)"
   ]
  },
  {
   "cell_type": "code",
   "execution_count": 36,
   "metadata": {
    "colab": {
     "base_uri": "https://localhost:8080/"
    },
    "id": "BUGmuwzHoQ8l",
    "outputId": "6e482dbf-b6b4-4e4c-8fd9-a65331dc08fa",
    "tags": []
   },
   "outputs": [
    {
     "data": {
      "text/plain": [
       "FFNN(\n",
       "  (layer_1): Linear(in_features=1000, out_features=512, bias=True)\n",
       "  (relu_1): ReLU()\n",
       "  (layer_2): Linear(in_features=512, out_features=512, bias=True)\n",
       "  (relu_2): ReLU()\n",
       "  (layer_3): Linear(in_features=512, out_features=3, bias=True)\n",
       ")"
      ]
     },
     "execution_count": 36,
     "metadata": {},
     "output_type": "execute_result"
    }
   ],
   "source": [
    "#กำหนดและสร้างโมเดล Feedforward Neural Network\n",
    "# Define the number of classes\n",
    "num_classes = 3\n",
    "\n",
    "# Define the input and hidden dimensions\n",
    "input_dim = tfidfX_train.shape[1]\n",
    "hidden_dim_1 = 512\n",
    "hidden_dim_2 = 512\n",
    "output_dim = num_classes\n",
    "\n",
    "# Define the model with the appropriate output dimension\n",
    "first_model = FFNN(input_dim, hidden_dim_1, hidden_dim_2, num_classes)\n",
    "\n",
    "# Define the loss function\n",
    "criterion = nn.CrossEntropyLoss().to(device)\n",
    "\n",
    "# Define the optimizer\n",
    "optimizer = optim.Adam(first_model.parameters(), lr=0.1e-4, weight_decay=1e-3)\n",
    "\n",
    "# Transfer the model to the GPU if available\n",
    "first_model.to(device)"
   ]
  },
  {
   "cell_type": "code",
   "execution_count": 40,
   "metadata": {
    "colab": {
     "base_uri": "https://localhost:8080/"
    },
    "id": "gY46xcMVolLZ",
    "outputId": "bcabb30e-212f-4950-f3d3-4620281bd952",
    "tags": []
   },
   "outputs": [
    {
     "name": "stdout",
     "output_type": "stream",
     "text": [
      "epoch 0\n"
     ]
    },
    {
     "name": "stderr",
     "output_type": "stream",
     "text": [
      "239it [00:01, 171.53it/s]\n"
     ]
    },
    {
     "name": "stdout",
     "output_type": "stream",
     "text": [
      "save best_model...\n",
      "Epoch: 0 \n",
      "Train_loss: 1.0985 Train Accuracy: 0.3345 \n",
      "Validation_loss:   1.0986 Validation Accuracy:   0.3111 \n",
      "\n",
      "epoch 1\n"
     ]
    },
    {
     "name": "stderr",
     "output_type": "stream",
     "text": [
      "239it [00:00, 447.57it/s]\n"
     ]
    },
    {
     "name": "stdout",
     "output_type": "stream",
     "text": [
      "save best_model...\n",
      "Epoch: 1 \n",
      "Train_loss: 1.0983 Train Accuracy: 0.3345 \n",
      "Validation_loss:   1.0984 Validation Accuracy:   0.3111 \n",
      "\n",
      "epoch 2\n"
     ]
    },
    {
     "name": "stderr",
     "output_type": "stream",
     "text": [
      "239it [00:00, 538.29it/s]\n"
     ]
    },
    {
     "name": "stdout",
     "output_type": "stream",
     "text": [
      "save best_model...\n",
      "Epoch: 2 \n",
      "Train_loss: 1.0981 Train Accuracy: 0.3345 \n",
      "Validation_loss:   1.0981 Validation Accuracy:   0.3111 \n",
      "\n",
      "epoch 3\n"
     ]
    },
    {
     "name": "stderr",
     "output_type": "stream",
     "text": [
      "239it [00:00, 536.85it/s]\n"
     ]
    },
    {
     "name": "stdout",
     "output_type": "stream",
     "text": [
      "save best_model...\n",
      "Epoch: 3 \n",
      "Train_loss: 1.0979 Train Accuracy: 0.3345 \n",
      "Validation_loss:   1.0979 Validation Accuracy:   0.3111 \n",
      "\n",
      "epoch 4\n"
     ]
    },
    {
     "name": "stderr",
     "output_type": "stream",
     "text": [
      "239it [00:00, 537.06it/s]\n"
     ]
    },
    {
     "name": "stdout",
     "output_type": "stream",
     "text": [
      "save best_model...\n",
      "Epoch: 4 \n",
      "Train_loss: 1.0976 Train Accuracy: 0.3345 \n",
      "Validation_loss:   1.0975 Validation Accuracy:   0.3111 \n",
      "\n",
      "epoch 5\n"
     ]
    },
    {
     "name": "stderr",
     "output_type": "stream",
     "text": [
      "239it [00:00, 525.24it/s]\n"
     ]
    },
    {
     "name": "stdout",
     "output_type": "stream",
     "text": [
      "save best_model...\n",
      "Epoch: 5 \n",
      "Train_loss: 1.0972 Train Accuracy: 0.3363 \n",
      "Validation_loss:   1.097 Validation Accuracy:   0.32 \n",
      "\n",
      "epoch 6\n"
     ]
    },
    {
     "name": "stderr",
     "output_type": "stream",
     "text": [
      "239it [00:00, 510.08it/s]\n"
     ]
    },
    {
     "name": "stdout",
     "output_type": "stream",
     "text": [
      "save best_model...\n",
      "Epoch: 6 \n",
      "Train_loss: 1.0966 Train Accuracy: 0.3598 \n",
      "Validation_loss:   1.0963 Validation Accuracy:   0.3378 \n",
      "\n",
      "epoch 7\n"
     ]
    },
    {
     "name": "stderr",
     "output_type": "stream",
     "text": [
      "239it [00:00, 506.78it/s]\n"
     ]
    },
    {
     "name": "stdout",
     "output_type": "stream",
     "text": [
      "save best_model...\n",
      "Epoch: 7 \n",
      "Train_loss: 1.0958 Train Accuracy: 0.4019 \n",
      "Validation_loss:   1.0952 Validation Accuracy:   0.4311 \n",
      "\n",
      "epoch 8\n"
     ]
    },
    {
     "name": "stderr",
     "output_type": "stream",
     "text": [
      "239it [00:00, 511.82it/s]\n"
     ]
    },
    {
     "name": "stdout",
     "output_type": "stream",
     "text": [
      "save best_model...\n",
      "Epoch: 8 \n",
      "Train_loss: 1.0945 Train Accuracy: 0.4597 \n",
      "Validation_loss:   1.0936 Validation Accuracy:   0.5156 \n",
      "\n",
      "epoch 9\n"
     ]
    },
    {
     "name": "stderr",
     "output_type": "stream",
     "text": [
      "239it [00:00, 485.59it/s]\n"
     ]
    },
    {
     "name": "stdout",
     "output_type": "stream",
     "text": [
      "save best_model...\n",
      "Epoch: 9 \n",
      "Train_loss: 1.0927 Train Accuracy: 0.5092 \n",
      "Validation_loss:   1.0912 Validation Accuracy:   0.5733 \n",
      "\n",
      "epoch 10\n"
     ]
    },
    {
     "name": "stderr",
     "output_type": "stream",
     "text": [
      "239it [00:00, 502.24it/s]\n"
     ]
    },
    {
     "name": "stdout",
     "output_type": "stream",
     "text": [
      "save best_model...\n",
      "Epoch: 10 \n",
      "Train_loss: 1.0899 Train Accuracy: 0.5452 \n",
      "Validation_loss:   1.0876 Validation Accuracy:   0.6178 \n",
      "\n",
      "epoch 11\n"
     ]
    },
    {
     "name": "stderr",
     "output_type": "stream",
     "text": [
      "239it [00:00, 400.27it/s]\n"
     ]
    },
    {
     "name": "stdout",
     "output_type": "stream",
     "text": [
      "save best_model...\n",
      "Epoch: 11 \n",
      "Train_loss: 1.086 Train Accuracy: 0.5667 \n",
      "Validation_loss:   1.0826 Validation Accuracy:   0.6311 \n",
      "\n",
      "epoch 12\n"
     ]
    },
    {
     "name": "stderr",
     "output_type": "stream",
     "text": [
      "239it [00:00, 488.84it/s]\n"
     ]
    },
    {
     "name": "stdout",
     "output_type": "stream",
     "text": [
      "save best_model...\n",
      "Epoch: 12 \n",
      "Train_loss: 1.0807 Train Accuracy: 0.5779 \n",
      "Validation_loss:   1.0758 Validation Accuracy:   0.6489 \n",
      "\n",
      "epoch 13\n"
     ]
    },
    {
     "name": "stderr",
     "output_type": "stream",
     "text": [
      "239it [00:00, 511.76it/s]\n"
     ]
    },
    {
     "name": "stdout",
     "output_type": "stream",
     "text": [
      "save best_model...\n",
      "Epoch: 13 \n",
      "Train_loss: 1.0735 Train Accuracy: 0.5837 \n",
      "Validation_loss:   1.0669 Validation Accuracy:   0.6578 \n",
      "\n",
      "epoch 14\n"
     ]
    },
    {
     "name": "stderr",
     "output_type": "stream",
     "text": [
      "239it [00:00, 527.76it/s]\n"
     ]
    },
    {
     "name": "stdout",
     "output_type": "stream",
     "text": [
      "save best_model...\n",
      "Epoch: 14 \n",
      "Train_loss: 1.0644 Train Accuracy: 0.5897 \n",
      "Validation_loss:   1.0559 Validation Accuracy:   0.6533 \n",
      "\n",
      "epoch 15\n"
     ]
    },
    {
     "name": "stderr",
     "output_type": "stream",
     "text": [
      "239it [00:00, 529.91it/s]\n"
     ]
    },
    {
     "name": "stdout",
     "output_type": "stream",
     "text": [
      "save best_model...\n",
      "Epoch: 15 \n",
      "Train_loss: 1.0534 Train Accuracy: 0.5936 \n",
      "Validation_loss:   1.0428 Validation Accuracy:   0.6444 \n",
      "\n",
      "epoch 16\n"
     ]
    },
    {
     "name": "stderr",
     "output_type": "stream",
     "text": [
      "239it [00:00, 520.48it/s]\n"
     ]
    },
    {
     "name": "stdout",
     "output_type": "stream",
     "text": [
      "save best_model...\n",
      "Epoch: 16 \n",
      "Train_loss: 1.0408 Train Accuracy: 0.5949 \n",
      "Validation_loss:   1.0284 Validation Accuracy:   0.6489 \n",
      "\n",
      "epoch 17\n"
     ]
    },
    {
     "name": "stderr",
     "output_type": "stream",
     "text": [
      "239it [00:00, 559.68it/s]\n"
     ]
    },
    {
     "name": "stdout",
     "output_type": "stream",
     "text": [
      "save best_model...\n",
      "Epoch: 17 \n",
      "Train_loss: 1.0272 Train Accuracy: 0.5941 \n",
      "Validation_loss:   1.0135 Validation Accuracy:   0.6489 \n",
      "\n",
      "epoch 18\n"
     ]
    },
    {
     "name": "stderr",
     "output_type": "stream",
     "text": [
      "239it [00:00, 515.07it/s]\n"
     ]
    },
    {
     "name": "stdout",
     "output_type": "stream",
     "text": [
      "save best_model...\n",
      "Epoch: 18 \n",
      "Train_loss: 1.0136 Train Accuracy: 0.5952 \n",
      "Validation_loss:   0.9988 Validation Accuracy:   0.6489 \n",
      "\n",
      "epoch 19\n"
     ]
    },
    {
     "name": "stderr",
     "output_type": "stream",
     "text": [
      "239it [00:00, 546.01it/s]\n"
     ]
    },
    {
     "name": "stdout",
     "output_type": "stream",
     "text": [
      "save best_model...\n",
      "Epoch: 19 \n",
      "Train_loss: 1.0004 Train Accuracy: 0.5965 \n",
      "Validation_loss:   0.9849 Validation Accuracy:   0.6489 \n",
      "\n",
      "epoch 20\n"
     ]
    },
    {
     "name": "stderr",
     "output_type": "stream",
     "text": [
      "239it [00:00, 541.90it/s]\n"
     ]
    },
    {
     "name": "stdout",
     "output_type": "stream",
     "text": [
      "save best_model...\n",
      "Epoch: 20 \n",
      "Train_loss: 0.9882 Train Accuracy: 0.5968 \n",
      "Validation_loss:   0.9724 Validation Accuracy:   0.6489 \n",
      "\n",
      "epoch 21\n"
     ]
    },
    {
     "name": "stderr",
     "output_type": "stream",
     "text": [
      "239it [00:00, 555.78it/s]\n"
     ]
    },
    {
     "name": "stdout",
     "output_type": "stream",
     "text": [
      "save best_model...\n",
      "Epoch: 21 \n",
      "Train_loss: 0.9773 Train Accuracy: 0.5981 \n",
      "Validation_loss:   0.9614 Validation Accuracy:   0.6489 \n",
      "\n",
      "epoch 22\n"
     ]
    },
    {
     "name": "stderr",
     "output_type": "stream",
     "text": [
      "239it [00:00, 553.24it/s]\n"
     ]
    },
    {
     "name": "stdout",
     "output_type": "stream",
     "text": [
      "save best_model...\n",
      "Epoch: 22 \n",
      "Train_loss: 0.9677 Train Accuracy: 0.5981 \n",
      "Validation_loss:   0.9518 Validation Accuracy:   0.6533 \n",
      "\n",
      "epoch 23\n"
     ]
    },
    {
     "name": "stderr",
     "output_type": "stream",
     "text": [
      "239it [00:00, 544.44it/s]\n"
     ]
    },
    {
     "name": "stdout",
     "output_type": "stream",
     "text": [
      "save best_model...\n",
      "Epoch: 23 \n",
      "Train_loss: 0.9594 Train Accuracy: 0.6028 \n",
      "Validation_loss:   0.9436 Validation Accuracy:   0.6533 \n",
      "\n",
      "epoch 24\n"
     ]
    },
    {
     "name": "stderr",
     "output_type": "stream",
     "text": [
      "239it [00:00, 526.43it/s]\n"
     ]
    },
    {
     "name": "stdout",
     "output_type": "stream",
     "text": [
      "save best_model...\n",
      "Epoch: 24 \n",
      "Train_loss: 0.9522 Train Accuracy: 0.607 \n",
      "Validation_loss:   0.9366 Validation Accuracy:   0.6578 \n",
      "\n",
      "epoch 25\n"
     ]
    },
    {
     "name": "stderr",
     "output_type": "stream",
     "text": [
      "239it [00:00, 491.73it/s]\n"
     ]
    },
    {
     "name": "stdout",
     "output_type": "stream",
     "text": [
      "save best_model...\n",
      "Epoch: 25 \n",
      "Train_loss: 0.946 Train Accuracy: 0.6101 \n",
      "Validation_loss:   0.9306 Validation Accuracy:   0.6578 \n",
      "\n",
      "epoch 26\n"
     ]
    },
    {
     "name": "stderr",
     "output_type": "stream",
     "text": [
      "239it [00:00, 480.89it/s]\n"
     ]
    },
    {
     "name": "stdout",
     "output_type": "stream",
     "text": [
      "save best_model...\n",
      "Epoch: 26 \n",
      "Train_loss: 0.9405 Train Accuracy: 0.613 \n",
      "Validation_loss:   0.9254 Validation Accuracy:   0.6622 \n",
      "\n",
      "epoch 27\n"
     ]
    },
    {
     "name": "stderr",
     "output_type": "stream",
     "text": [
      "239it [00:00, 516.20it/s]\n"
     ]
    },
    {
     "name": "stdout",
     "output_type": "stream",
     "text": [
      "save best_model...\n",
      "Epoch: 27 \n",
      "Train_loss: 0.9358 Train Accuracy: 0.6156 \n",
      "Validation_loss:   0.921 Validation Accuracy:   0.6533 \n",
      "\n",
      "epoch 28\n"
     ]
    },
    {
     "name": "stderr",
     "output_type": "stream",
     "text": [
      "239it [00:00, 512.88it/s]\n"
     ]
    },
    {
     "name": "stdout",
     "output_type": "stream",
     "text": [
      "save best_model...\n",
      "Epoch: 28 \n",
      "Train_loss: 0.9317 Train Accuracy: 0.619 \n",
      "Validation_loss:   0.9171 Validation Accuracy:   0.6444 \n",
      "\n",
      "epoch 29\n"
     ]
    },
    {
     "name": "stderr",
     "output_type": "stream",
     "text": [
      "239it [00:00, 478.96it/s]\n"
     ]
    },
    {
     "name": "stdout",
     "output_type": "stream",
     "text": [
      "save best_model...\n",
      "Epoch: 29 \n",
      "Train_loss: 0.928 Train Accuracy: 0.6234 \n",
      "Validation_loss:   0.9138 Validation Accuracy:   0.64 \n",
      "\n",
      "epoch 30\n"
     ]
    },
    {
     "name": "stderr",
     "output_type": "stream",
     "text": [
      "239it [00:00, 456.11it/s]\n"
     ]
    },
    {
     "name": "stdout",
     "output_type": "stream",
     "text": [
      "save best_model...\n",
      "Epoch: 30 \n",
      "Train_loss: 0.9247 Train Accuracy: 0.6287 \n",
      "Validation_loss:   0.9109 Validation Accuracy:   0.6444 \n",
      "\n",
      "epoch 31\n"
     ]
    },
    {
     "name": "stderr",
     "output_type": "stream",
     "text": [
      "239it [00:00, 459.61it/s]\n"
     ]
    },
    {
     "name": "stdout",
     "output_type": "stream",
     "text": [
      "save best_model...\n",
      "Epoch: 31 \n",
      "Train_loss: 0.9217 Train Accuracy: 0.631 \n",
      "Validation_loss:   0.9083 Validation Accuracy:   0.6533 \n",
      "\n",
      "epoch 32\n"
     ]
    },
    {
     "name": "stderr",
     "output_type": "stream",
     "text": [
      "239it [00:00, 475.12it/s]\n"
     ]
    },
    {
     "name": "stdout",
     "output_type": "stream",
     "text": [
      "save best_model...\n",
      "Epoch: 32 \n",
      "Train_loss: 0.919 Train Accuracy: 0.637 \n",
      "Validation_loss:   0.906 Validation Accuracy:   0.6578 \n",
      "\n",
      "epoch 33\n"
     ]
    },
    {
     "name": "stderr",
     "output_type": "stream",
     "text": [
      "239it [00:00, 558.41it/s]\n"
     ]
    },
    {
     "name": "stdout",
     "output_type": "stream",
     "text": [
      "save best_model...\n",
      "Epoch: 33 \n",
      "Train_loss: 0.9166 Train Accuracy: 0.6394 \n",
      "Validation_loss:   0.904 Validation Accuracy:   0.6622 \n",
      "\n",
      "epoch 34\n"
     ]
    },
    {
     "name": "stderr",
     "output_type": "stream",
     "text": [
      "239it [00:00, 558.41it/s]\n"
     ]
    },
    {
     "name": "stdout",
     "output_type": "stream",
     "text": [
      "save best_model...\n",
      "Epoch: 34 \n",
      "Train_loss: 0.9143 Train Accuracy: 0.6428 \n",
      "Validation_loss:   0.9021 Validation Accuracy:   0.6711 \n",
      "\n",
      "epoch 35\n"
     ]
    },
    {
     "name": "stderr",
     "output_type": "stream",
     "text": [
      "239it [00:00, 558.41it/s]\n"
     ]
    },
    {
     "name": "stdout",
     "output_type": "stream",
     "text": [
      "save best_model...\n",
      "Epoch: 35 \n",
      "Train_loss: 0.9122 Train Accuracy: 0.6475 \n",
      "Validation_loss:   0.9005 Validation Accuracy:   0.6711 \n",
      "\n",
      "epoch 36\n"
     ]
    },
    {
     "name": "stderr",
     "output_type": "stream",
     "text": [
      "239it [00:00, 558.36it/s]\n"
     ]
    },
    {
     "name": "stdout",
     "output_type": "stream",
     "text": [
      "save best_model...\n",
      "Epoch: 36 \n",
      "Train_loss: 0.9103 Train Accuracy: 0.6488 \n",
      "Validation_loss:   0.8989 Validation Accuracy:   0.6667 \n",
      "\n",
      "epoch 37\n"
     ]
    },
    {
     "name": "stderr",
     "output_type": "stream",
     "text": [
      "239it [00:00, 541.92it/s]\n"
     ]
    },
    {
     "name": "stdout",
     "output_type": "stream",
     "text": [
      "save best_model...\n",
      "Epoch: 37 \n",
      "Train_loss: 0.9084 Train Accuracy: 0.6527 \n",
      "Validation_loss:   0.8975 Validation Accuracy:   0.6622 \n",
      "\n",
      "epoch 38\n"
     ]
    },
    {
     "name": "stderr",
     "output_type": "stream",
     "text": [
      "239it [00:00, 542.55it/s]\n"
     ]
    },
    {
     "name": "stdout",
     "output_type": "stream",
     "text": [
      "save best_model...\n",
      "Epoch: 38 \n",
      "Train_loss: 0.9067 Train Accuracy: 0.6556 \n",
      "Validation_loss:   0.8962 Validation Accuracy:   0.6578 \n",
      "\n",
      "epoch 39\n"
     ]
    },
    {
     "name": "stderr",
     "output_type": "stream",
     "text": [
      "239it [00:00, 561.57it/s]\n"
     ]
    },
    {
     "name": "stdout",
     "output_type": "stream",
     "text": [
      "save best_model...\n",
      "Epoch: 39 \n",
      "Train_loss: 0.905 Train Accuracy: 0.6595 \n",
      "Validation_loss:   0.8949 Validation Accuracy:   0.6533 \n",
      "\n",
      "epoch 40\n"
     ]
    },
    {
     "name": "stderr",
     "output_type": "stream",
     "text": [
      "239it [00:00, 559.20it/s]\n"
     ]
    },
    {
     "name": "stdout",
     "output_type": "stream",
     "text": [
      "save best_model...\n",
      "Epoch: 40 \n",
      "Train_loss: 0.9034 Train Accuracy: 0.6621 \n",
      "Validation_loss:   0.8938 Validation Accuracy:   0.6533 \n",
      "\n",
      "epoch 41\n"
     ]
    },
    {
     "name": "stderr",
     "output_type": "stream",
     "text": [
      "239it [00:00, 525.31it/s]\n"
     ]
    },
    {
     "name": "stdout",
     "output_type": "stream",
     "text": [
      "save best_model...\n",
      "Epoch: 41 \n",
      "Train_loss: 0.9019 Train Accuracy: 0.6647 \n",
      "Validation_loss:   0.8927 Validation Accuracy:   0.6578 \n",
      "\n",
      "epoch 42\n"
     ]
    },
    {
     "name": "stderr",
     "output_type": "stream",
     "text": [
      "239it [00:00, 517.32it/s]\n"
     ]
    },
    {
     "name": "stdout",
     "output_type": "stream",
     "text": [
      "save best_model...\n",
      "Epoch: 42 \n",
      "Train_loss: 0.9004 Train Accuracy: 0.6668 \n",
      "Validation_loss:   0.8916 Validation Accuracy:   0.6578 \n",
      "\n",
      "epoch 43\n"
     ]
    },
    {
     "name": "stderr",
     "output_type": "stream",
     "text": [
      "239it [00:00, 513.98it/s]\n"
     ]
    },
    {
     "name": "stdout",
     "output_type": "stream",
     "text": [
      "save best_model...\n",
      "Epoch: 43 \n",
      "Train_loss: 0.899 Train Accuracy: 0.6692 \n",
      "Validation_loss:   0.8906 Validation Accuracy:   0.6622 \n",
      "\n",
      "epoch 44\n"
     ]
    },
    {
     "name": "stderr",
     "output_type": "stream",
     "text": [
      "239it [00:00, 510.68it/s]\n"
     ]
    },
    {
     "name": "stdout",
     "output_type": "stream",
     "text": [
      "save best_model...\n",
      "Epoch: 44 \n",
      "Train_loss: 0.8976 Train Accuracy: 0.6715 \n",
      "Validation_loss:   0.8896 Validation Accuracy:   0.6667 \n",
      "\n",
      "epoch 45\n"
     ]
    },
    {
     "name": "stderr",
     "output_type": "stream",
     "text": [
      "239it [00:00, 509.48it/s]\n"
     ]
    },
    {
     "name": "stdout",
     "output_type": "stream",
     "text": [
      "save best_model...\n",
      "Epoch: 45 \n",
      "Train_loss: 0.8963 Train Accuracy: 0.6747 \n",
      "Validation_loss:   0.8886 Validation Accuracy:   0.6667 \n",
      "\n",
      "epoch 46\n"
     ]
    },
    {
     "name": "stderr",
     "output_type": "stream",
     "text": [
      "239it [00:00, 504.25it/s]\n"
     ]
    },
    {
     "name": "stdout",
     "output_type": "stream",
     "text": [
      "save best_model...\n",
      "Epoch: 46 \n",
      "Train_loss: 0.8949 Train Accuracy: 0.6757 \n",
      "Validation_loss:   0.8876 Validation Accuracy:   0.6667 \n",
      "\n",
      "epoch 47\n"
     ]
    },
    {
     "name": "stderr",
     "output_type": "stream",
     "text": [
      "239it [00:00, 495.85it/s]\n"
     ]
    },
    {
     "name": "stdout",
     "output_type": "stream",
     "text": [
      "save best_model...\n",
      "Epoch: 47 \n",
      "Train_loss: 0.8936 Train Accuracy: 0.6807 \n",
      "Validation_loss:   0.8867 Validation Accuracy:   0.6667 \n",
      "\n",
      "epoch 48\n"
     ]
    },
    {
     "name": "stderr",
     "output_type": "stream",
     "text": [
      "239it [00:00, 491.78it/s]\n"
     ]
    },
    {
     "name": "stdout",
     "output_type": "stream",
     "text": [
      "save best_model...\n",
      "Epoch: 48 \n",
      "Train_loss: 0.8923 Train Accuracy: 0.6838 \n",
      "Validation_loss:   0.8857 Validation Accuracy:   0.6578 \n",
      "\n",
      "epoch 49\n"
     ]
    },
    {
     "name": "stderr",
     "output_type": "stream",
     "text": [
      "239it [00:00, 498.99it/s]\n"
     ]
    },
    {
     "name": "stdout",
     "output_type": "stream",
     "text": [
      "save best_model...\n",
      "Epoch: 49 \n",
      "Train_loss: 0.891 Train Accuracy: 0.6854 \n",
      "Validation_loss:   0.8848 Validation Accuracy:   0.6622 \n",
      "\n",
      "epoch 50\n"
     ]
    },
    {
     "name": "stderr",
     "output_type": "stream",
     "text": [
      "239it [00:00, 494.82it/s]\n"
     ]
    },
    {
     "name": "stdout",
     "output_type": "stream",
     "text": [
      "save best_model...\n",
      "Epoch: 50 \n",
      "Train_loss: 0.8897 Train Accuracy: 0.6891 \n",
      "Validation_loss:   0.8838 Validation Accuracy:   0.6622 \n",
      "\n",
      "epoch 51\n"
     ]
    },
    {
     "name": "stderr",
     "output_type": "stream",
     "text": [
      "239it [00:00, 445.04it/s]\n"
     ]
    },
    {
     "name": "stdout",
     "output_type": "stream",
     "text": [
      "save best_model...\n",
      "Epoch: 51 \n",
      "Train_loss: 0.8884 Train Accuracy: 0.6917 \n",
      "Validation_loss:   0.8829 Validation Accuracy:   0.6756 \n",
      "\n",
      "epoch 52\n"
     ]
    },
    {
     "name": "stderr",
     "output_type": "stream",
     "text": [
      "239it [00:00, 382.38it/s]\n"
     ]
    },
    {
     "name": "stdout",
     "output_type": "stream",
     "text": [
      "save best_model...\n",
      "Epoch: 52 \n",
      "Train_loss: 0.8871 Train Accuracy: 0.6927 \n",
      "Validation_loss:   0.8819 Validation Accuracy:   0.6756 \n",
      "\n",
      "epoch 53\n"
     ]
    },
    {
     "name": "stderr",
     "output_type": "stream",
     "text": [
      "239it [00:00, 451.79it/s]\n"
     ]
    },
    {
     "name": "stdout",
     "output_type": "stream",
     "text": [
      "save best_model...\n",
      "Epoch: 53 \n",
      "Train_loss: 0.8858 Train Accuracy: 0.6953 \n",
      "Validation_loss:   0.8809 Validation Accuracy:   0.6844 \n",
      "\n",
      "epoch 54\n"
     ]
    },
    {
     "name": "stderr",
     "output_type": "stream",
     "text": [
      "239it [00:00, 525.28it/s]\n"
     ]
    },
    {
     "name": "stdout",
     "output_type": "stream",
     "text": [
      "save best_model...\n",
      "Epoch: 54 \n",
      "Train_loss: 0.8845 Train Accuracy: 0.6972 \n",
      "Validation_loss:   0.8799 Validation Accuracy:   0.68 \n",
      "\n",
      "epoch 55\n"
     ]
    },
    {
     "name": "stderr",
     "output_type": "stream",
     "text": [
      "239it [00:00, 522.98it/s]\n"
     ]
    },
    {
     "name": "stdout",
     "output_type": "stream",
     "text": [
      "save best_model...\n",
      "Epoch: 55 \n",
      "Train_loss: 0.8832 Train Accuracy: 0.6998 \n",
      "Validation_loss:   0.8789 Validation Accuracy:   0.6756 \n",
      "\n",
      "epoch 56\n"
     ]
    },
    {
     "name": "stderr",
     "output_type": "stream",
     "text": [
      "239it [00:00, 526.43it/s]\n"
     ]
    },
    {
     "name": "stdout",
     "output_type": "stream",
     "text": [
      "save best_model...\n",
      "Epoch: 56 \n",
      "Train_loss: 0.8819 Train Accuracy: 0.7006 \n",
      "Validation_loss:   0.8778 Validation Accuracy:   0.68 \n",
      "\n",
      "epoch 57\n"
     ]
    },
    {
     "name": "stderr",
     "output_type": "stream",
     "text": [
      "239it [00:00, 448.38it/s]\n"
     ]
    },
    {
     "name": "stdout",
     "output_type": "stream",
     "text": [
      "save best_model...\n",
      "Epoch: 57 \n",
      "Train_loss: 0.8805 Train Accuracy: 0.7011 \n",
      "Validation_loss:   0.8768 Validation Accuracy:   0.68 \n",
      "\n",
      "epoch 58\n"
     ]
    },
    {
     "name": "stderr",
     "output_type": "stream",
     "text": [
      "239it [00:00, 414.21it/s]\n"
     ]
    },
    {
     "name": "stdout",
     "output_type": "stream",
     "text": [
      "save best_model...\n",
      "Epoch: 58 \n",
      "Train_loss: 0.8791 Train Accuracy: 0.7024 \n",
      "Validation_loss:   0.8756 Validation Accuracy:   0.6844 \n",
      "\n",
      "epoch 59\n"
     ]
    },
    {
     "name": "stderr",
     "output_type": "stream",
     "text": [
      "239it [00:00, 519.56it/s]\n"
     ]
    },
    {
     "name": "stdout",
     "output_type": "stream",
     "text": [
      "save best_model...\n",
      "Epoch: 59 \n",
      "Train_loss: 0.8777 Train Accuracy: 0.7045 \n",
      "Validation_loss:   0.8745 Validation Accuracy:   0.6889 \n",
      "\n",
      "epoch 60\n"
     ]
    },
    {
     "name": "stderr",
     "output_type": "stream",
     "text": [
      "239it [00:00, 528.73it/s]\n"
     ]
    },
    {
     "name": "stdout",
     "output_type": "stream",
     "text": [
      "save best_model...\n",
      "Epoch: 60 \n",
      "Train_loss: 0.8763 Train Accuracy: 0.7063 \n",
      "Validation_loss:   0.8733 Validation Accuracy:   0.6889 \n",
      "\n",
      "epoch 61\n"
     ]
    },
    {
     "name": "stderr",
     "output_type": "stream",
     "text": [
      "239it [00:00, 517.32it/s]\n"
     ]
    },
    {
     "name": "stdout",
     "output_type": "stream",
     "text": [
      "save best_model...\n",
      "Epoch: 61 \n",
      "Train_loss: 0.8748 Train Accuracy: 0.7069 \n",
      "Validation_loss:   0.8721 Validation Accuracy:   0.6933 \n",
      "\n",
      "epoch 62\n"
     ]
    },
    {
     "name": "stderr",
     "output_type": "stream",
     "text": [
      "239it [00:00, 483.83it/s]\n"
     ]
    },
    {
     "name": "stdout",
     "output_type": "stream",
     "text": [
      "save best_model...\n",
      "Epoch: 62 \n",
      "Train_loss: 0.8733 Train Accuracy: 0.7097 \n",
      "Validation_loss:   0.8708 Validation Accuracy:   0.6933 \n",
      "\n",
      "epoch 63\n"
     ]
    },
    {
     "name": "stderr",
     "output_type": "stream",
     "text": [
      "239it [00:00, 464.98it/s]\n"
     ]
    },
    {
     "name": "stdout",
     "output_type": "stream",
     "text": [
      "save best_model...\n",
      "Epoch: 63 \n",
      "Train_loss: 0.8718 Train Accuracy: 0.7113 \n",
      "Validation_loss:   0.8695 Validation Accuracy:   0.6933 \n",
      "\n",
      "epoch 64\n"
     ]
    },
    {
     "name": "stderr",
     "output_type": "stream",
     "text": [
      "239it [00:00, 465.89it/s]\n"
     ]
    },
    {
     "name": "stdout",
     "output_type": "stream",
     "text": [
      "save best_model...\n",
      "Epoch: 64 \n",
      "Train_loss: 0.8702 Train Accuracy: 0.715 \n",
      "Validation_loss:   0.8682 Validation Accuracy:   0.6978 \n",
      "\n",
      "epoch 65\n"
     ]
    },
    {
     "name": "stderr",
     "output_type": "stream",
     "text": [
      "239it [00:00, 471.40it/s]\n"
     ]
    },
    {
     "name": "stdout",
     "output_type": "stream",
     "text": [
      "save best_model...\n",
      "Epoch: 65 \n",
      "Train_loss: 0.8686 Train Accuracy: 0.7165 \n",
      "Validation_loss:   0.8668 Validation Accuracy:   0.6978 \n",
      "\n",
      "epoch 66\n"
     ]
    },
    {
     "name": "stderr",
     "output_type": "stream",
     "text": [
      "239it [00:00, 468.63it/s]\n"
     ]
    },
    {
     "name": "stdout",
     "output_type": "stream",
     "text": [
      "save best_model...\n",
      "Epoch: 66 \n",
      "Train_loss: 0.867 Train Accuracy: 0.7165 \n",
      "Validation_loss:   0.8654 Validation Accuracy:   0.6978 \n",
      "\n",
      "epoch 67\n"
     ]
    },
    {
     "name": "stderr",
     "output_type": "stream",
     "text": [
      "239it [00:00, 490.76it/s]\n"
     ]
    },
    {
     "name": "stdout",
     "output_type": "stream",
     "text": [
      "save best_model...\n",
      "Epoch: 67 \n",
      "Train_loss: 0.8653 Train Accuracy: 0.7191 \n",
      "Validation_loss:   0.8639 Validation Accuracy:   0.6933 \n",
      "\n",
      "epoch 68\n"
     ]
    },
    {
     "name": "stderr",
     "output_type": "stream",
     "text": [
      "239it [00:00, 401.66it/s]\n"
     ]
    },
    {
     "name": "stdout",
     "output_type": "stream",
     "text": [
      "save best_model...\n",
      "Epoch: 68 \n",
      "Train_loss: 0.8637 Train Accuracy: 0.7204 \n",
      "Validation_loss:   0.8624 Validation Accuracy:   0.6978 \n",
      "\n",
      "epoch 69\n"
     ]
    },
    {
     "name": "stderr",
     "output_type": "stream",
     "text": [
      "239it [00:00, 477.99it/s]\n"
     ]
    },
    {
     "name": "stdout",
     "output_type": "stream",
     "text": [
      "save best_model...\n",
      "Epoch: 69 \n",
      "Train_loss: 0.862 Train Accuracy: 0.7212 \n",
      "Validation_loss:   0.8609 Validation Accuracy:   0.7067 \n",
      "\n",
      "epoch 70\n"
     ]
    },
    {
     "name": "stderr",
     "output_type": "stream",
     "text": [
      "239it [00:00, 531.11it/s]\n"
     ]
    },
    {
     "name": "stdout",
     "output_type": "stream",
     "text": [
      "save best_model...\n",
      "Epoch: 70 \n",
      "Train_loss: 0.8602 Train Accuracy: 0.7246 \n",
      "Validation_loss:   0.8594 Validation Accuracy:   0.7156 \n",
      "\n",
      "epoch 71\n"
     ]
    },
    {
     "name": "stderr",
     "output_type": "stream",
     "text": [
      "239it [00:00, 525.27it/s]\n"
     ]
    },
    {
     "name": "stdout",
     "output_type": "stream",
     "text": [
      "save best_model...\n",
      "Epoch: 71 \n",
      "Train_loss: 0.8585 Train Accuracy: 0.7265 \n",
      "Validation_loss:   0.8578 Validation Accuracy:   0.72 \n",
      "\n",
      "epoch 72\n"
     ]
    },
    {
     "name": "stderr",
     "output_type": "stream",
     "text": [
      "239it [00:00, 534.67it/s]\n"
     ]
    },
    {
     "name": "stdout",
     "output_type": "stream",
     "text": [
      "save best_model...\n",
      "Epoch: 72 \n",
      "Train_loss: 0.8568 Train Accuracy: 0.7267 \n",
      "Validation_loss:   0.8563 Validation Accuracy:   0.7289 \n",
      "\n",
      "epoch 73\n"
     ]
    },
    {
     "name": "stderr",
     "output_type": "stream",
     "text": [
      "239it [00:00, 517.28it/s]\n"
     ]
    },
    {
     "name": "stdout",
     "output_type": "stream",
     "text": [
      "save best_model...\n",
      "Epoch: 73 \n",
      "Train_loss: 0.855 Train Accuracy: 0.7288 \n",
      "Validation_loss:   0.8547 Validation Accuracy:   0.7289 \n",
      "\n",
      "epoch 74\n"
     ]
    },
    {
     "name": "stderr",
     "output_type": "stream",
     "text": [
      "239it [00:00, 519.53it/s]\n"
     ]
    },
    {
     "name": "stdout",
     "output_type": "stream",
     "text": [
      "save best_model...\n",
      "Epoch: 74 \n",
      "Train_loss: 0.8532 Train Accuracy: 0.7317 \n",
      "Validation_loss:   0.8532 Validation Accuracy:   0.7333 \n",
      "\n",
      "epoch 75\n"
     ]
    },
    {
     "name": "stderr",
     "output_type": "stream",
     "text": [
      "239it [00:00, 512.85it/s]\n"
     ]
    },
    {
     "name": "stdout",
     "output_type": "stream",
     "text": [
      "save best_model...\n",
      "Epoch: 75 \n",
      "Train_loss: 0.8515 Train Accuracy: 0.7333 \n",
      "Validation_loss:   0.8517 Validation Accuracy:   0.7333 \n",
      "\n",
      "epoch 76\n"
     ]
    },
    {
     "name": "stderr",
     "output_type": "stream",
     "text": [
      "239it [00:00, 502.09it/s]\n"
     ]
    },
    {
     "name": "stdout",
     "output_type": "stream",
     "text": [
      "save best_model...\n",
      "Epoch: 76 \n",
      "Train_loss: 0.8498 Train Accuracy: 0.7343 \n",
      "Validation_loss:   0.8502 Validation Accuracy:   0.7333 \n",
      "\n",
      "epoch 77\n"
     ]
    },
    {
     "name": "stderr",
     "output_type": "stream",
     "text": [
      "239it [00:00, 473.27it/s]\n"
     ]
    },
    {
     "name": "stdout",
     "output_type": "stream",
     "text": [
      "save best_model...\n",
      "Epoch: 77 \n",
      "Train_loss: 0.848 Train Accuracy: 0.7354 \n",
      "Validation_loss:   0.8487 Validation Accuracy:   0.7333 \n",
      "\n",
      "epoch 78\n"
     ]
    },
    {
     "name": "stderr",
     "output_type": "stream",
     "text": [
      "239it [00:00, 473.27it/s]\n"
     ]
    },
    {
     "name": "stdout",
     "output_type": "stream",
     "text": [
      "save best_model...\n",
      "Epoch: 78 \n",
      "Train_loss: 0.8464 Train Accuracy: 0.7369 \n",
      "Validation_loss:   0.8473 Validation Accuracy:   0.7333 \n",
      "\n",
      "epoch 79\n"
     ]
    },
    {
     "name": "stderr",
     "output_type": "stream",
     "text": [
      "239it [00:00, 487.76it/s]\n"
     ]
    },
    {
     "name": "stdout",
     "output_type": "stream",
     "text": [
      "save best_model...\n",
      "Epoch: 79 \n",
      "Train_loss: 0.8447 Train Accuracy: 0.7385 \n",
      "Validation_loss:   0.8459 Validation Accuracy:   0.7333 \n",
      "\n",
      "epoch 80\n"
     ]
    },
    {
     "name": "stderr",
     "output_type": "stream",
     "text": [
      "239it [00:00, 399.65it/s]\n"
     ]
    },
    {
     "name": "stdout",
     "output_type": "stream",
     "text": [
      "save best_model...\n",
      "Epoch: 80 \n",
      "Train_loss: 0.8431 Train Accuracy: 0.7388 \n",
      "Validation_loss:   0.8445 Validation Accuracy:   0.7333 \n",
      "\n",
      "epoch 81\n"
     ]
    },
    {
     "name": "stderr",
     "output_type": "stream",
     "text": [
      "239it [00:00, 519.60it/s]\n"
     ]
    },
    {
     "name": "stdout",
     "output_type": "stream",
     "text": [
      "save best_model...\n",
      "Epoch: 81 \n",
      "Train_loss: 0.8415 Train Accuracy: 0.739 \n",
      "Validation_loss:   0.8432 Validation Accuracy:   0.7333 \n",
      "\n",
      "epoch 82\n"
     ]
    },
    {
     "name": "stderr",
     "output_type": "stream",
     "text": [
      "239it [00:00, 512.87it/s]\n"
     ]
    },
    {
     "name": "stdout",
     "output_type": "stream",
     "text": [
      "save best_model...\n",
      "Epoch: 82 \n",
      "Train_loss: 0.8399 Train Accuracy: 0.7403 \n",
      "Validation_loss:   0.842 Validation Accuracy:   0.7333 \n",
      "\n",
      "epoch 83\n"
     ]
    },
    {
     "name": "stderr",
     "output_type": "stream",
     "text": [
      "239it [00:00, 529.93it/s]\n"
     ]
    },
    {
     "name": "stdout",
     "output_type": "stream",
     "text": [
      "save best_model...\n",
      "Epoch: 83 \n",
      "Train_loss: 0.8385 Train Accuracy: 0.7406 \n",
      "Validation_loss:   0.8408 Validation Accuracy:   0.7333 \n",
      "\n",
      "epoch 84\n"
     ]
    },
    {
     "name": "stderr",
     "output_type": "stream",
     "text": [
      "239it [00:00, 528.76it/s]\n"
     ]
    },
    {
     "name": "stdout",
     "output_type": "stream",
     "text": [
      "save best_model...\n",
      "Epoch: 84 \n",
      "Train_loss: 0.837 Train Accuracy: 0.7411 \n",
      "Validation_loss:   0.8397 Validation Accuracy:   0.7333 \n",
      "\n",
      "epoch 85\n"
     ]
    },
    {
     "name": "stderr",
     "output_type": "stream",
     "text": [
      "239it [00:00, 539.50it/s]\n"
     ]
    },
    {
     "name": "stdout",
     "output_type": "stream",
     "text": [
      "save best_model...\n",
      "Epoch: 85 \n",
      "Train_loss: 0.8356 Train Accuracy: 0.7432 \n",
      "Validation_loss:   0.8386 Validation Accuracy:   0.7333 \n",
      "\n",
      "epoch 86\n"
     ]
    },
    {
     "name": "stderr",
     "output_type": "stream",
     "text": [
      "239it [00:00, 522.94it/s]\n"
     ]
    },
    {
     "name": "stdout",
     "output_type": "stream",
     "text": [
      "save best_model...\n",
      "Epoch: 86 \n",
      "Train_loss: 0.8342 Train Accuracy: 0.7432 \n",
      "Validation_loss:   0.8376 Validation Accuracy:   0.7333 \n",
      "\n",
      "epoch 87\n"
     ]
    },
    {
     "name": "stderr",
     "output_type": "stream",
     "text": [
      "239it [00:00, 507.43it/s]\n"
     ]
    },
    {
     "name": "stdout",
     "output_type": "stream",
     "text": [
      "save best_model...\n",
      "Epoch: 87 \n",
      "Train_loss: 0.8329 Train Accuracy: 0.744 \n",
      "Validation_loss:   0.8367 Validation Accuracy:   0.7289 \n",
      "\n",
      "epoch 88\n"
     ]
    },
    {
     "name": "stderr",
     "output_type": "stream",
     "text": [
      "239it [00:00, 506.32it/s]\n"
     ]
    },
    {
     "name": "stdout",
     "output_type": "stream",
     "text": [
      "save best_model...\n",
      "Epoch: 88 \n",
      "Train_loss: 0.8317 Train Accuracy: 0.745 \n",
      "Validation_loss:   0.8357 Validation Accuracy:   0.7289 \n",
      "\n",
      "epoch 89\n"
     ]
    },
    {
     "name": "stderr",
     "output_type": "stream",
     "text": [
      "239it [00:00, 491.77it/s]\n"
     ]
    },
    {
     "name": "stdout",
     "output_type": "stream",
     "text": [
      "save best_model...\n",
      "Epoch: 89 \n",
      "Train_loss: 0.8304 Train Accuracy: 0.7448 \n",
      "Validation_loss:   0.8349 Validation Accuracy:   0.7289 \n",
      "\n",
      "epoch 90\n"
     ]
    },
    {
     "name": "stderr",
     "output_type": "stream",
     "text": [
      "239it [00:00, 487.73it/s]\n"
     ]
    },
    {
     "name": "stdout",
     "output_type": "stream",
     "text": [
      "save best_model...\n",
      "Epoch: 90 \n",
      "Train_loss: 0.8292 Train Accuracy: 0.7463 \n",
      "Validation_loss:   0.834 Validation Accuracy:   0.7289 \n",
      "\n",
      "epoch 91\n"
     ]
    },
    {
     "name": "stderr",
     "output_type": "stream",
     "text": [
      "239it [00:00, 486.73it/s]\n"
     ]
    },
    {
     "name": "stdout",
     "output_type": "stream",
     "text": [
      "save best_model...\n",
      "Epoch: 91 \n",
      "Train_loss: 0.8281 Train Accuracy: 0.7474 \n",
      "Validation_loss:   0.8333 Validation Accuracy:   0.7289 \n",
      "\n",
      "epoch 92\n"
     ]
    },
    {
     "name": "stderr",
     "output_type": "stream",
     "text": [
      "239it [00:00, 481.86it/s]\n"
     ]
    },
    {
     "name": "stdout",
     "output_type": "stream",
     "text": [
      "save best_model...\n",
      "Epoch: 92 \n",
      "Train_loss: 0.827 Train Accuracy: 0.7482 \n",
      "Validation_loss:   0.8325 Validation Accuracy:   0.7289 \n",
      "\n",
      "epoch 93\n"
     ]
    },
    {
     "name": "stderr",
     "output_type": "stream",
     "text": [
      "239it [00:00, 493.77it/s]\n"
     ]
    },
    {
     "name": "stdout",
     "output_type": "stream",
     "text": [
      "save best_model...\n",
      "Epoch: 93 \n",
      "Train_loss: 0.8259 Train Accuracy: 0.7492 \n",
      "Validation_loss:   0.8318 Validation Accuracy:   0.7289 \n",
      "\n",
      "epoch 94\n"
     ]
    },
    {
     "name": "stderr",
     "output_type": "stream",
     "text": [
      "239it [00:00, 486.79it/s]\n"
     ]
    },
    {
     "name": "stdout",
     "output_type": "stream",
     "text": [
      "save best_model...\n",
      "Epoch: 94 \n",
      "Train_loss: 0.8248 Train Accuracy: 0.749 \n",
      "Validation_loss:   0.8311 Validation Accuracy:   0.7289 \n",
      "\n",
      "epoch 95\n"
     ]
    },
    {
     "name": "stderr",
     "output_type": "stream",
     "text": [
      "239it [00:00, 462.28it/s]\n"
     ]
    },
    {
     "name": "stdout",
     "output_type": "stream",
     "text": [
      "save best_model...\n",
      "Epoch: 95 \n",
      "Train_loss: 0.8238 Train Accuracy: 0.7503 \n",
      "Validation_loss:   0.8305 Validation Accuracy:   0.7289 \n",
      "\n",
      "epoch 96\n"
     ]
    },
    {
     "name": "stderr",
     "output_type": "stream",
     "text": [
      "239it [00:00, 476.10it/s]\n"
     ]
    },
    {
     "name": "stdout",
     "output_type": "stream",
     "text": [
      "save best_model...\n",
      "Epoch: 96 \n",
      "Train_loss: 0.8228 Train Accuracy: 0.7508 \n",
      "Validation_loss:   0.8299 Validation Accuracy:   0.7289 \n",
      "\n",
      "epoch 97\n"
     ]
    },
    {
     "name": "stderr",
     "output_type": "stream",
     "text": [
      "239it [00:00, 409.24it/s]\n"
     ]
    },
    {
     "name": "stdout",
     "output_type": "stream",
     "text": [
      "save best_model...\n",
      "Epoch: 97 \n",
      "Train_loss: 0.8219 Train Accuracy: 0.7521 \n",
      "Validation_loss:   0.8293 Validation Accuracy:   0.7289 \n",
      "\n",
      "epoch 98\n"
     ]
    },
    {
     "name": "stderr",
     "output_type": "stream",
     "text": [
      "239it [00:00, 438.55it/s]\n"
     ]
    },
    {
     "name": "stdout",
     "output_type": "stream",
     "text": [
      "save best_model...\n",
      "Epoch: 98 \n",
      "Train_loss: 0.821 Train Accuracy: 0.7539 \n",
      "Validation_loss:   0.8287 Validation Accuracy:   0.7333 \n",
      "\n",
      "epoch 99\n"
     ]
    },
    {
     "name": "stderr",
     "output_type": "stream",
     "text": [
      "239it [00:00, 529.90it/s]"
     ]
    },
    {
     "name": "stdout",
     "output_type": "stream",
     "text": [
      "save best_model...\n",
      "Epoch: 99 \n",
      "Train_loss: 0.8201 Train Accuracy: 0.7544 \n",
      "Validation_loss:   0.8282 Validation Accuracy:   0.7333 \n",
      "\n"
     ]
    },
    {
     "name": "stderr",
     "output_type": "stream",
     "text": [
      "\n"
     ]
    }
   ],
   "source": [
    "from tqdm import tqdm\n",
    "\n",
    "# Define the function to calculate accuracy\n",
    "def calculate_accuracy(y_true, y_pred):\n",
    "    _, predicted = torch.max(y_pred, 1)\n",
    "    correct = (predicted == y_true).float()\n",
    "    acc = correct.sum() / len(correct)\n",
    "    return acc\n",
    "\n",
    "# Define batch size\n",
    "batch_size = 16\n",
    "\n",
    "# Epochs\n",
    "num_epochs = 100\n",
    "\n",
    "# Split train dataset into mini-batches\n",
    "X_train_mini_batches = torch.split(tfidfX_train, batch_size)\n",
    "Y_train_mini_batches = torch.split(Y_train, batch_size)\n",
    "\n",
    "# Initialize lists to store losses and accuracies\n",
    "train_losses = []\n",
    "train_accuracies = []\n",
    "val_losses = []\n",
    "val_accuracies = []\n",
    "min_loss = float('inf')\n",
    "\n",
    "# Start training\n",
    "for epoch in range(num_epochs):\n",
    "    print('epoch', epoch)\n",
    "    epoch_loss = 0\n",
    "    epoch_accuracy = 0\n",
    "\n",
    "    for X_train_mini_batch, Y_train_mini_batch in tqdm(zip(X_train_mini_batches, Y_train_mini_batches)):\n",
    "        X_train_mini_batch = X_train_mini_batch.to(device)\n",
    "        Y_train_mini_batch = Y_train_mini_batch.to(device)\n",
    "\n",
    "        # Forward pass to get output\n",
    "        train_prediction = first_model(X_train_mini_batch.float())\n",
    "\n",
    "        # Calculate Loss\n",
    "        train_loss = criterion(train_prediction, Y_train_mini_batch.long())  # Convert Y_train_mini_batch to long type\n",
    "\n",
    "        # Clearing up accumulated gradients\n",
    "        optimizer.zero_grad()\n",
    "\n",
    "        # Getting gradients\n",
    "        train_loss.backward()\n",
    "\n",
    "        # Updating parameters\n",
    "        optimizer.step()\n",
    "\n",
    "        # Add each mini batch's loss\n",
    "        epoch_loss += train_loss.item()\n",
    "\n",
    "        # Add each mini batch's accuracy\n",
    "        epoch_accuracy += calculate_accuracy(Y_train_mini_batch, train_prediction)\n",
    "\n",
    "    # Print loss and accuracy for some epochs\n",
    "    if epoch % 1 == 0:\n",
    "        tfidfX_val = tfidfX_val.to(device)\n",
    "        Y_val = Y_val.to(device)\n",
    "\n",
    "        # Forward pass to get output\n",
    "        val_prediction = first_model(tfidfX_val.float())\n",
    "\n",
    "        # Calculate Loss\n",
    "        val_loss = criterion(val_prediction, Y_val.long())  # Convert Y_val to long type\n",
    "\n",
    "        epoch_loss /= len(X_train_mini_batches)\n",
    "        epoch_accuracy /= len(X_train_mini_batches)\n",
    "        val_losses.append(val_loss.item())\n",
    "        train_losses.append(epoch_loss)\n",
    "        train_accuracies.append(epoch_accuracy)\n",
    "        val_accuracies.append(calculate_accuracy(Y_val, val_prediction))\n",
    "\n",
    "        if val_loss.item() < min_loss:\n",
    "            min_loss = val_loss.item()\n",
    "            torch.save(first_model.state_dict(), 'best_model.pt')\n",
    "            print('save best_model...')\n",
    "\n",
    "        print(\"Epoch:\", epoch, \"\\n\"\n",
    "              \"Train_loss:\", round(epoch_loss, 4), \"Train Accuracy:\", round(epoch_accuracy.item(), 4), \"\\n\"\n",
    "              \"Validation_loss:  \", round(val_loss.item(), 4), \"Validation Accuracy:  \", round(val_accuracies[-1].item(), 4), \"\\n\")\n"
   ]
  },
  {
   "cell_type": "code",
   "execution_count": 44,
   "metadata": {
    "colab": {
     "base_uri": "https://localhost:8080/",
     "height": 683
    },
    "id": "17e7nw1toxUd",
    "outputId": "ec3373e5-6456-4005-c54b-fef84f6509dd",
    "tags": []
   },
   "outputs": [
    {
     "data": {
      "image/png": "[encoded data removed]",
      "text/plain": [
       "<Figure size 800x800 with 1 Axes>"
      ]
     },
     "metadata": {},
     "output_type": "display_data"
    }
   ],
   "source": [
    "import matplotlib.pyplot as plt\n",
    "from matplotlib.pyplot import figure\n",
    "\n",
    "figure(figsize=(8,8))\n",
    "plt.plot(train_losses)\n",
    "plt.plot(val_losses)\n",
    "plt.title('First Model Loss')\n",
    "plt.ylabel('Loss')\n",
    "plt.xlabel('Epoch')\n",
    "plt.legend(['train', 'val'], loc='upper right')\n",
    "plt.show()"
   ]
  },
  {
   "cell_type": "code",
   "execution_count": 46,
   "metadata": {
    "id": "oGLcRckdoyNi",
    "tags": []
   },
   "outputs": [],
   "source": [
    "model = FFNN(input_dim, hidden_dim_1, hidden_dim_2, output_dim).to(device)"
   ]
  },
  {
   "cell_type": "code",
   "execution_count": 48,
   "metadata": {
    "colab": {
     "base_uri": "https://localhost:8080/"
    },
    "id": "qeeE636jo3VY",
    "outputId": "3558ca02-4187-4ab3-bb86-a4704f5edc71",
    "tags": []
   },
   "outputs": [
    {
     "data": {
      "text/plain": [
       "FFNN(\n",
       "  (layer_1): Linear(in_features=1000, out_features=512, bias=True)\n",
       "  (relu_1): ReLU()\n",
       "  (layer_2): Linear(in_features=512, out_features=512, bias=True)\n",
       "  (relu_2): ReLU()\n",
       "  (layer_3): Linear(in_features=512, out_features=3, bias=True)\n",
       ")"
      ]
     },
     "execution_count": 48,
     "metadata": {},
     "output_type": "execute_result"
    }
   ],
   "source": [
    "model.load_state_dict(torch.load('best_model.pt'))\n",
    "model.eval()"
   ]
  },
  {
   "cell_type": "code",
   "execution_count": 50,
   "metadata": {
    "colab": {
     "base_uri": "https://localhost:8080/"
    },
    "id": "4EmUJexBo5IA",
    "outputId": "170394ee-686f-4093-ef56-deaef0582a1b",
    "tags": []
   },
   "outputs": [
    {
     "name": "stdout",
     "output_type": "stream",
     "text": [
      "Test Accuracy: 0.7 \n",
      "\n"
     ]
    }
   ],
   "source": [
    "#ลองทำนายจากชุดเทส\n",
    "tfidfX_test = tfidfX_test.to(device)\n",
    "Y_test = Y_test.to(device)\n",
    "\n",
    "# Forward pass to get output\n",
    "model.eval()\n",
    "test_prediction = model.forward(tfidfX_test.float())\n",
    "test_prediction = torch.squeeze(test_prediction)\n",
    "\n",
    "#Calculate accuracy on test set\n",
    "test_accuracy = calculate_accuracy(Y_test,test_prediction)\n",
    "\n",
    "print(\"Test Accuracy:\",round(test_accuracy.item(),4), \"\\n\")"
   ]
  },
  {
   "cell_type": "code",
   "execution_count": 54,
   "metadata": {
    "colab": {
     "base_uri": "https://localhost:8080/"
    },
    "id": "eLQln5atyHK8",
    "outputId": "3d531c46-6500-4b47-efcc-36c4cf66c691",
    "tags": []
   },
   "outputs": [
    {
     "name": "stdout",
     "output_type": "stream",
     "text": [
      "Predicted Sentiment: Neutrally\n"
     ]
    }
   ],
   "source": [
    "# Preprocess the test text\n",
    "test_text = \"พอใช้ได้ ตามราคาค่ะ\"\n",
    "preprocessed_text = remove_duplicate_chars(test_text)\n",
    "\n",
    "# Convert preprocessed text into TF-IDF vector\n",
    "tfidf_vector = tfidf_vectorizer.transform([preprocessed_text])\n",
    "\n",
    "# Convert TF-IDF vector into PyTorch tensor\n",
    "tfidf_tensor = torch.tensor(tfidf_vector.toarray())\n",
    "\n",
    "# Move tensor to the appropriate device if GPU is available\n",
    "tfidf_tensor = tfidf_tensor.to(device)\n",
    "\n",
    "# Pass the tensor through the trained model to get the prediction\n",
    "with torch.no_grad():\n",
    "    model.eval()  # Set the model to evaluation mode\n",
    "    prediction = model(tfidf_tensor.float())\n",
    "\n",
    "# Convert prediction to human-readable label\n",
    "_, predicted_label = torch.max(prediction, 1)\n",
    "\n",
    "# Decode the predicted label using the label encoder\n",
    "predicted_sentiment = encoder.classes_[predicted_label.item()]\n",
    "\n",
    "print(\"Predicted Sentiment:\", predicted_sentiment)"
   ]
  }
 ],
 "metadata": {
  "accelerator": "GPU",
  "colab": {
   "gpuType": "T4",
   "provenance": []
  },
  "kernelspec": {
   "display_name": "Python 3 (ipykernel)",
   "language": "python",
   "name": "python3"
  },
  "language_info": {
   "codemirror_mode": {
    "name": "ipython",
    "version": 3
   },
   "file_extension": ".py",
   "mimetype": "text/x-python",
   "name": "python",
   "nbconvert_exporter": "python",
   "pygments_lexer": "ipython3",
   "version": "3.10.13"
  }
 },
 "nbformat": 4,
 "nbformat_minor": 4
}
