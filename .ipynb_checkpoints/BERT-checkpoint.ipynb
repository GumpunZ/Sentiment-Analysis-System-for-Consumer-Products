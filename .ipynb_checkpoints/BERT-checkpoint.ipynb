{
 "cells": [
  {
   "cell_type": "code",
   "execution_count": 21,
   "id": "22aaa206-ee0c-4e76-8952-39c36b72e150",
   "metadata": {
    "tags": []
   },
   "outputs": [],
   "source": [
    "import os\n",
    "from torch.optim import AdamW\n",
    "from torch import nn\n",
    "from torch.utils.data import DataLoader, Dataset\n",
    "from transformers import BertTokenizer, BertModel, get_linear_schedule_with_warmup\n",
    "from sklearn.model_selection import train_test_split\n",
    "from sklearn.metrics import accuracy_score, classification_report\n",
    "import pandas as pd\n",
    "import torch"
   ]
  },
  {
   "cell_type": "code",
   "execution_count": 2,
   "id": "8a179119-4aab-4e82-9b9a-9bd87463eb79",
   "metadata": {
    "tags": []
   },
   "outputs": [],
   "source": [
    "def file2list(fname):\n",
    "    with open(fname, encoding='utf-8') as fp:  # Specify the encoding\n",
    "        lines = fp.readlines()\n",
    "        return [line.strip() for line in lines]"
   ]
  },
  {
   "cell_type": "code",
   "execution_count": 3,
   "id": "3d6c97e4-88ef-4dbf-9165-236400dd4fe2",
   "metadata": {
    "tags": []
   },
   "outputs": [],
   "source": [
    "pos_text = file2list(\"Downloads/asp_pos (1).txt\")\n",
    "neg_text = file2list(\"Downloads/asp_neg.txt\")"
   ]
  },
  {
   "cell_type": "code",
   "execution_count": 4,
   "id": "8e970c4b-3027-4b89-8174-7dbb9c85221b",
   "metadata": {
    "tags": []
   },
   "outputs": [
    {
     "data": {
      "text/html": [
       "<div>\n",
       "<style scoped>\n",
       "    .dataframe tbody tr th:only-of-type {\n",
       "        vertical-align: middle;\n",
       "    }\n",
       "\n",
       "    .dataframe tbody tr th {\n",
       "        vertical-align: top;\n",
       "    }\n",
       "\n",
       "    .dataframe thead th {\n",
       "        text-align: right;\n",
       "    }\n",
       "</style>\n",
       "<table border=\"1\" class=\"dataframe\">\n",
       "  <thead>\n",
       "    <tr style=\"text-align: right;\">\n",
       "      <th></th>\n",
       "      <th>review</th>\n",
       "      <th>label</th>\n",
       "    </tr>\n",
       "  </thead>\n",
       "  <tbody>\n",
       "    <tr>\n",
       "      <th>553</th>\n",
       "      <td>ได้รับถูกต้องตามที่สั่ง จัดส่งไม่เร็วและไม่ช้า...</td>\n",
       "      <td>positive</td>\n",
       "    </tr>\n",
       "    <tr>\n",
       "      <th>296</th>\n",
       "      <td>กดสบายและเสียงคมชัดพอใจมาก แรกๆ ไม่เข้าใจปุ่มห...</td>\n",
       "      <td>positive</td>\n",
       "    </tr>\n",
       "    <tr>\n",
       "      <th>311</th>\n",
       "      <td>ส่งไว แพ็กมาดี ตรงตามที่สั่งรถสชาติอร่อย มี 5 ...</td>\n",
       "      <td>positive</td>\n",
       "    </tr>\n",
       "    <tr>\n",
       "      <th>560</th>\n",
       "      <td>ทุกคนฟังดิฉันนะคะ คือเสื้อมันผ้าดีมากมันเริ่ดด...</td>\n",
       "      <td>positive</td>\n",
       "    </tr>\n",
       "    <tr>\n",
       "      <th>230</th>\n",
       "      <td>ได้รับสินค้าแล้วนะคะทางร้านจัดส่งรวดเร็วทันใจบ...</td>\n",
       "      <td>positive</td>\n",
       "    </tr>\n",
       "    <tr>\n",
       "      <th>...</th>\n",
       "      <td>...</td>\n",
       "      <td>...</td>\n",
       "    </tr>\n",
       "    <tr>\n",
       "      <th>508</th>\n",
       "      <td>เป็นครีมที่มีรีวิวเยอะมากมีกลิ่นหอมอ่อนๆไม่ฟุ้...</td>\n",
       "      <td>positive</td>\n",
       "    </tr>\n",
       "    <tr>\n",
       "      <th>140</th>\n",
       "      <td>สินค้าชำรุดที่ฝานิดหน่อยคับ แต่ทางร้านส่งฝามาใ...</td>\n",
       "      <td>negative</td>\n",
       "    </tr>\n",
       "    <tr>\n",
       "      <th>563</th>\n",
       "      <td>คุณภาพสมราคา สะพายถ่ายรูปชิคๆได้ เเต่ไม่น่าจะท...</td>\n",
       "      <td>positive</td>\n",
       "    </tr>\n",
       "    <tr>\n",
       "      <th>102</th>\n",
       "      <td>สินค้าดี ราคาาไม่แพงง ขนส่งงบริการรดี คุ้มมค่า...</td>\n",
       "      <td>positive</td>\n",
       "    </tr>\n",
       "    <tr>\n",
       "      <th>27</th>\n",
       "      <td>ใช้ยังไม่ถึงอาทิตย์ ตอนนี้เปิดไม่ได้ เปิดไม่ได...</td>\n",
       "      <td>negative</td>\n",
       "    </tr>\n",
       "  </tbody>\n",
       "</table>\n",
       "<p>100 rows × 2 columns</p>\n",
       "</div>"
      ],
      "text/plain": [
       "                                                review     label\n",
       "553  ได้รับถูกต้องตามที่สั่ง จัดส่งไม่เร็วและไม่ช้า...  positive\n",
       "296  กดสบายและเสียงคมชัดพอใจมาก แรกๆ ไม่เข้าใจปุ่มห...  positive\n",
       "311  ส่งไว แพ็กมาดี ตรงตามที่สั่งรถสชาติอร่อย มี 5 ...  positive\n",
       "560  ทุกคนฟังดิฉันนะคะ คือเสื้อมันผ้าดีมากมันเริ่ดด...  positive\n",
       "230  ได้รับสินค้าแล้วนะคะทางร้านจัดส่งรวดเร็วทันใจบ...  positive\n",
       "..                                                 ...       ...\n",
       "508  เป็นครีมที่มีรีวิวเยอะมากมีกลิ่นหอมอ่อนๆไม่ฟุ้...  positive\n",
       "140  สินค้าชำรุดที่ฝานิดหน่อยคับ แต่ทางร้านส่งฝามาใ...  negative\n",
       "563  คุณภาพสมราคา สะพายถ่ายรูปชิคๆได้ เเต่ไม่น่าจะท...  positive\n",
       "102  สินค้าดี ราคาาไม่แพงง ขนส่งงบริการรดี คุ้มมค่า...  positive\n",
       "27   ใช้ยังไม่ถึงอาทิตย์ ตอนนี้เปิดไม่ได้ เปิดไม่ได...  negative\n",
       "\n",
       "[100 rows x 2 columns]"
      ]
     },
     "execution_count": 4,
     "metadata": {},
     "output_type": "execute_result"
    }
   ],
   "source": [
    "pos_df = pd.DataFrame(pos_text,columns=['review'])\n",
    "pos_df['label'] = \"positive\"\n",
    "\n",
    "neg_df = pd.DataFrame(neg_text,columns=['review'])\n",
    "neg_df['label'] = \"negative\"\n",
    "neg_df\n",
    "\n",
    "data = pd.concat([pos_df, neg_df])\n",
    "data.sample(100)"
   ]
  },
  {
   "cell_type": "code",
   "execution_count": 5,
   "id": "2e54c327-76f2-4ff2-9488-9bc1bec2344a",
   "metadata": {
    "tags": []
   },
   "outputs": [
    {
     "data": {
      "text/plain": [
       "label\n",
       "positive    630\n",
       "negative    235\n",
       "Name: count, dtype: int64"
      ]
     },
     "execution_count": 5,
     "metadata": {},
     "output_type": "execute_result"
    }
   ],
   "source": [
    "category_counts = data['label'].value_counts()\n",
    "category_counts"
   ]
  },
  {
   "cell_type": "code",
   "execution_count": 6,
   "id": "0f34c495-76c8-4288-ac7a-7072c7e53dd1",
   "metadata": {
    "tags": []
   },
   "outputs": [
    {
     "name": "stdout",
     "output_type": "stream",
     "text": [
      "Requirement already satisfied: pythainlp in c:\\users\\gumpun\\anaconda3\\envs\\py310\\lib\\site-packages (5.0.1)\n",
      "Requirement already satisfied: requests>=2.22.0 in c:\\users\\gumpun\\anaconda3\\envs\\py310\\lib\\site-packages (from pythainlp) (2.31.0)\n",
      "Requirement already satisfied: tzdata in c:\\users\\gumpun\\anaconda3\\envs\\py310\\lib\\site-packages (from pythainlp) (2024.1)\n",
      "Requirement already satisfied: charset-normalizer<4,>=2 in c:\\users\\gumpun\\anaconda3\\envs\\py310\\lib\\site-packages (from requests>=2.22.0->pythainlp) (3.3.2)\n",
      "Requirement already satisfied: idna<4,>=2.5 in c:\\users\\gumpun\\anaconda3\\envs\\py310\\lib\\site-packages (from requests>=2.22.0->pythainlp) (3.4)\n",
      "Requirement already satisfied: urllib3<3,>=1.21.1 in c:\\users\\gumpun\\anaconda3\\envs\\py310\\lib\\site-packages (from requests>=2.22.0->pythainlp) (2.1.0)\n",
      "Requirement already satisfied: certifi>=2017.4.17 in c:\\users\\gumpun\\anaconda3\\envs\\py310\\lib\\site-packages (from requests>=2.22.0->pythainlp) (2024.2.2)\n"
     ]
    },
    {
     "name": "stderr",
     "output_type": "stream",
     "text": [
      "WARNING: Ignoring invalid distribution -orch (c:\\users\\gumpun\\anaconda3\\envs\\py310\\lib\\site-packages)\n",
      "WARNING: Ignoring invalid distribution -orch (c:\\users\\gumpun\\anaconda3\\envs\\py310\\lib\\site-packages)\n"
     ]
    }
   ],
   "source": [
    "!pip install pythainlp"
   ]
  },
  {
   "cell_type": "code",
   "execution_count": 7,
   "id": "5405d397-10f1-4339-8e3c-13093ba995e6",
   "metadata": {
    "tags": []
   },
   "outputs": [
    {
     "data": {
      "text/html": [
       "<div>\n",
       "<style scoped>\n",
       "    .dataframe tbody tr th:only-of-type {\n",
       "        vertical-align: middle;\n",
       "    }\n",
       "\n",
       "    .dataframe tbody tr th {\n",
       "        vertical-align: top;\n",
       "    }\n",
       "\n",
       "    .dataframe thead th {\n",
       "        text-align: right;\n",
       "    }\n",
       "</style>\n",
       "<table border=\"1\" class=\"dataframe\">\n",
       "  <thead>\n",
       "    <tr style=\"text-align: right;\">\n",
       "      <th></th>\n",
       "      <th>review</th>\n",
       "      <th>label</th>\n",
       "    </tr>\n",
       "  </thead>\n",
       "  <tbody>\n",
       "    <tr>\n",
       "      <th>176</th>\n",
       "      <td>สินค้า ใช้ ระยะเวลา จัดส่ง นาน มาก ๆ ค่ะ เพราะ...</td>\n",
       "      <td>negative</td>\n",
       "    </tr>\n",
       "    <tr>\n",
       "      <th>622</th>\n",
       "      <td>ร้านค้า จัด ส่งสินค้า ให้ ไว มาก กก กก กก การ ...</td>\n",
       "      <td>positive</td>\n",
       "    </tr>\n",
       "    <tr>\n",
       "      <th>4</th>\n",
       "      <td>สินค้า ตรง ปก ไม่ จก ตา ราคา จับต้อง ได้ ใช้ โ...</td>\n",
       "      <td>positive</td>\n",
       "    </tr>\n",
       "    <tr>\n",
       "      <th>220</th>\n",
       "      <td>เนื้อผ้า ดี หนา มาก คุ้มค่า คุ้ม ราคา ดีไซน์ ด...</td>\n",
       "      <td>positive</td>\n",
       "    </tr>\n",
       "    <tr>\n",
       "      <th>156</th>\n",
       "      <td>สินค้า ตรง ตาม ปก ร้านค้า บริการ ดี บริการ รวด...</td>\n",
       "      <td>positive</td>\n",
       "    </tr>\n",
       "  </tbody>\n",
       "</table>\n",
       "</div>"
      ],
      "text/plain": [
       "                                                review     label\n",
       "176  สินค้า ใช้ ระยะเวลา จัดส่ง นาน มาก ๆ ค่ะ เพราะ...  negative\n",
       "622  ร้านค้า จัด ส่งสินค้า ให้ ไว มาก กก กก กก การ ...  positive\n",
       "4    สินค้า ตรง ปก ไม่ จก ตา ราคา จับต้อง ได้ ใช้ โ...  positive\n",
       "220  เนื้อผ้า ดี หนา มาก คุ้มค่า คุ้ม ราคา ดีไซน์ ด...  positive\n",
       "156  สินค้า ตรง ตาม ปก ร้านค้า บริการ ดี บริการ รวด...  positive"
      ]
     },
     "execution_count": 7,
     "metadata": {},
     "output_type": "execute_result"
    }
   ],
   "source": [
    "from pythainlp.tokenize import word_tokenize\n",
    "import re\n",
    "\n",
    "def deEmojify(text):\n",
    "    regrex_pattern = re.compile(pattern = \"[\"\n",
    "        u\"\\U0001F600-\\U0001F64F\"  # emoticons\n",
    "        u\"\\U0001F300-\\U0001F5FF\"  # symbols & pictographs\n",
    "        u\"\\U0001F680-\\U0001F6FF\"  # transport & map symbols\n",
    "        u\"\\U0001F1E0-\\U0001F1FF\"  # flags (iOS)\n",
    "                           \"]+\", flags = re.UNICODE)\n",
    "    return regrex_pattern.sub(r'',text)\n",
    "\n",
    "def thai_clean_text(text):\n",
    "    st = \"\"\n",
    "\n",
    "    text = deEmojify(text)\n",
    "    text = text.replace(\"\\n\",\" \")\n",
    "    for w in word_tokenize(text):\n",
    "        st = st + w + \" \"\n",
    "\n",
    "    return  re.sub(' +', ' ', st)\n",
    "\n",
    "data['review'] = data.review.apply(thai_clean_text)\n",
    "data.sample(5)"
   ]
  },
  {
   "cell_type": "code",
   "execution_count": 8,
   "id": "6953b013-4323-40dc-9005-c2a1cbf27f6e",
   "metadata": {
    "tags": []
   },
   "outputs": [],
   "source": [
    "from sklearn.preprocessing import LabelEncoder\n",
    "reviews = data['review'].values\n",
    "labels = data['label'].values\n",
    "encoder = LabelEncoder()\n",
    "encoded_labels = encoder.fit_transform(labels)"
   ]
  },
  {
   "cell_type": "code",
   "execution_count": 9,
   "id": "5ff91332-103d-4ec0-b6cc-3ef648c181de",
   "metadata": {
    "tags": []
   },
   "outputs": [],
   "source": [
    "train_sentences, test_sentences, train_labels, test_labels = train_test_split(reviews, encoded_labels, stratify=encoded_labels, test_size=0.3, random_state=42)"
   ]
  },
  {
   "cell_type": "code",
   "execution_count": 10,
   "id": "1123c15a-6d1d-49a0-a59c-891736ceb4df",
   "metadata": {
    "tags": []
   },
   "outputs": [],
   "source": [
    "class BERTClassifier(nn.Module):\n",
    "    def __init__(self, bert_model_name, num_classes):\n",
    "        super(BERTClassifier, self).__init__()\n",
    "        self.bert = BertModel.from_pretrained(bert_model_name)\n",
    "        self.dropout = nn.Dropout(0.1)\n",
    "        self.fc = nn.Linear(self.bert.config.hidden_size, num_classes)\n",
    "\n",
    "    def forward(self, input_ids, attention_mask):\n",
    "        outputs = self.bert(input_ids=input_ids, attention_mask=attention_mask)\n",
    "        pooled_output = outputs.pooler_output\n",
    "        x = self.dropout(pooled_output)\n",
    "        logits = self.fc(x)\n",
    "        return logits"
   ]
  },
  {
   "cell_type": "code",
   "execution_count": 11,
   "id": "db490af6-a8bb-497a-b5c9-618494d84da8",
   "metadata": {
    "tags": []
   },
   "outputs": [],
   "source": [
    "def train(model, data_loader, optimizer, scheduler, device):\n",
    "    model.train()\n",
    "    for batch in data_loader:\n",
    "        optimizer.zero_grad()\n",
    "        input_ids = batch['input_ids'].to(device)\n",
    "        attention_mask = batch['attention_mask'].to(device)\n",
    "        labels = batch['label'].to(device).long()  # Convert to Long\n",
    "        outputs = model(input_ids=input_ids, attention_mask=attention_mask)\n",
    "        loss = nn.CrossEntropyLoss()(outputs, labels)\n",
    "        loss.backward()\n",
    "        optimizer.step()\n",
    "        scheduler.step()"
   ]
  },
  {
   "cell_type": "code",
   "execution_count": 12,
   "id": "7f0f40c5-6fd6-4092-934c-489b65e0d478",
   "metadata": {
    "tags": []
   },
   "outputs": [],
   "source": [
    "def evaluate(model, data_loader, device):\n",
    "    model.eval()\n",
    "    predictions = []\n",
    "    actual_labels = []\n",
    "    with torch.no_grad():\n",
    "        for batch in data_loader:\n",
    "            input_ids = batch['input_ids'].to(device)\n",
    "            attention_mask = batch['attention_mask'].to(device)\n",
    "            labels = batch['label'].to(device)\n",
    "            outputs = model(input_ids=input_ids, attention_mask=attention_mask)\n",
    "            _, preds = torch.max(outputs, dim=1)\n",
    "            predictions.extend(preds.cpu().tolist())\n",
    "            actual_labels.extend(labels.cpu().tolist())\n",
    "    return accuracy_score(actual_labels, predictions), classification_report(actual_labels, predictions, zero_division=1)"
   ]
  },
  {
   "cell_type": "code",
   "execution_count": 13,
   "id": "7f50117e-93e9-4e8a-ba0f-129938ddfbbe",
   "metadata": {
    "tags": []
   },
   "outputs": [],
   "source": [
    " bert_model_name = 'bert-base-uncased'\n",
    " num_classes = 2\n",
    " max_length = 128\n",
    " batch_size = 16\n",
    " num_epochs = 10\n",
    " learning_rate = 2e-5"
   ]
  },
  {
   "cell_type": "code",
   "execution_count": 14,
   "id": "c2964d90-ffc5-4b1e-960c-631570f47915",
   "metadata": {
    "tags": []
   },
   "outputs": [],
   "source": [
    "class TextClassificationDataset(Dataset):\n",
    "    def __init__(self, texts, labels, tokenizer, max_length):\n",
    "        self.texts = texts\n",
    "        self.labels = labels\n",
    "        self.tokenizer = tokenizer\n",
    "        self.max_length = max_length\n",
    "    def __len__(self):\n",
    "        return len(self.texts)\n",
    "    def __getitem__(self, idx):\n",
    "        text = self.texts[idx]\n",
    "        label = self.labels[idx]\n",
    "        encoding = self.tokenizer(text, return_tensors='pt', max_length=self.max_length, padding='max_length', truncation=True)\n",
    "        return {'input_ids': encoding['input_ids'].flatten(), 'attention_mask': encoding['attention_mask'].flatten(), 'label': torch.tensor(label)}"
   ]
  },
  {
   "cell_type": "code",
   "execution_count": 15,
   "id": "e08ebc27-99ba-4dbc-b183-5602a8804a18",
   "metadata": {
    "tags": []
   },
   "outputs": [
    {
     "data": {
      "application/vnd.jupyter.widget-view+json": {
       "model_id": "c38cb54cb76944e8aa5294bf0ee305d5",
       "version_major": 2,
       "version_minor": 0
      },
      "text/plain": [
       "tokenizer_config.json:   0%|          | 0.00/48.0 [00:00<?, ?B/s]"
      ]
     },
     "metadata": {},
     "output_type": "display_data"
    },
    {
     "name": "stderr",
     "output_type": "stream",
     "text": [
      "C:\\Users\\Gumpun\\anaconda3\\envs\\py310\\lib\\site-packages\\huggingface_hub\\file_download.py:149: UserWarning: `huggingface_hub` cache-system uses symlinks by default to efficiently store duplicated files but your machine does not support them in C:\\Users\\Gumpun\\.cache\\huggingface\\hub\\models--bert-base-uncased. Caching files will still work but in a degraded version that might require more space on your disk. This warning can be disabled by setting the `HF_HUB_DISABLE_SYMLINKS_WARNING` environment variable. For more details, see https://huggingface.co/docs/huggingface_hub/how-to-cache#limitations.\n",
      "To support symlinks on Windows, you either need to activate Developer Mode or to run Python as an administrator. In order to see activate developer mode, see this article: https://docs.microsoft.com/en-us/windows/apps/get-started/enable-your-device-for-development\n",
      "  warnings.warn(message)\n"
     ]
    },
    {
     "data": {
      "application/vnd.jupyter.widget-view+json": {
       "model_id": "352e453861cf4ae999053f92a5e31e90",
       "version_major": 2,
       "version_minor": 0
      },
      "text/plain": [
       "vocab.txt:   0%|          | 0.00/232k [00:00<?, ?B/s]"
      ]
     },
     "metadata": {},
     "output_type": "display_data"
    },
    {
     "data": {
      "application/vnd.jupyter.widget-view+json": {
       "model_id": "0f28b267bb64421b830f78d4e991ea5a",
       "version_major": 2,
       "version_minor": 0
      },
      "text/plain": [
       "tokenizer.json:   0%|          | 0.00/466k [00:00<?, ?B/s]"
      ]
     },
     "metadata": {},
     "output_type": "display_data"
    },
    {
     "data": {
      "application/vnd.jupyter.widget-view+json": {
       "model_id": "81f28b38d4fd442bbd364edd46562170",
       "version_major": 2,
       "version_minor": 0
      },
      "text/plain": [
       "config.json:   0%|          | 0.00/570 [00:00<?, ?B/s]"
      ]
     },
     "metadata": {},
     "output_type": "display_data"
    }
   ],
   "source": [
    "tokenizer = BertTokenizer.from_pretrained(bert_model_name)\n",
    "train_dataset = TextClassificationDataset(train_sentences, train_labels, tokenizer, max_length)\n",
    "train_dataloader = DataLoader(train_dataset, batch_size=batch_size, shuffle=True)\n",
    "val_dataset = TextClassificationDataset(test_sentences, test_labels, tokenizer, max_length)\n",
    "val_dataloader = DataLoader(val_dataset, batch_size=batch_size)"
   ]
  },
  {
   "cell_type": "code",
   "execution_count": 29,
   "id": "c9e100a3-9c0e-4d3b-91b4-578398636756",
   "metadata": {
    "tags": []
   },
   "outputs": [
    {
     "data": {
      "text/plain": [
       "device(type='cuda')"
      ]
     },
     "execution_count": 29,
     "metadata": {},
     "output_type": "execute_result"
    }
   ],
   "source": [
    "device = torch.device(\"cuda\" if torch.cuda.is_available() else \"cpu\")\n",
    "device"
   ]
  },
  {
   "cell_type": "code",
   "execution_count": 23,
   "id": "09326db2-e9c2-4b08-841e-c3d902b7e787",
   "metadata": {
    "tags": []
   },
   "outputs": [
    {
     "data": {
      "application/vnd.jupyter.widget-view+json": {
       "model_id": "292ccd6c4afa4e19afe16bce2824a8ad",
       "version_major": 2,
       "version_minor": 0
      },
      "text/plain": [
       "model.safetensors:   0%|          | 0.00/440M [00:00<?, ?B/s]"
      ]
     },
     "metadata": {},
     "output_type": "display_data"
    }
   ],
   "source": [
    "model = BERTClassifier(bert_model_name, num_classes).to(device)"
   ]
  },
  {
   "cell_type": "code",
   "execution_count": 24,
   "id": "29b1da49-9848-4118-9da7-0b2e90ffbca4",
   "metadata": {
    "tags": []
   },
   "outputs": [],
   "source": [
    "optimizer = AdamW(model.parameters(), lr=learning_rate)\n",
    "total_steps = len(train_dataloader) * num_epochs\n",
    "scheduler = get_linear_schedule_with_warmup(optimizer, num_warmup_steps=0, num_training_steps=total_steps)"
   ]
  },
  {
   "cell_type": "code",
   "execution_count": 25,
   "id": "8a8247b0-a782-490e-ae65-2c8396a9ac14",
   "metadata": {
    "tags": []
   },
   "outputs": [
    {
     "name": "stdout",
     "output_type": "stream",
     "text": [
      "Epoch 1/10\n",
      "Validation Accuracy: 0.7115\n",
      "              precision    recall  f1-score   support\n",
      "\n",
      "           0       0.25      0.03      0.05        71\n",
      "           1       0.73      0.97      0.83       189\n",
      "\n",
      "    accuracy                           0.71       260\n",
      "   macro avg       0.49      0.50      0.44       260\n",
      "weighted avg       0.60      0.71      0.62       260\n",
      "\n",
      "Epoch 2/10\n",
      "Validation Accuracy: 0.7269\n",
      "              precision    recall  f1-score   support\n",
      "\n",
      "           0       1.00      0.00      0.00        71\n",
      "           1       0.73      1.00      0.84       189\n",
      "\n",
      "    accuracy                           0.73       260\n",
      "   macro avg       0.86      0.50      0.42       260\n",
      "weighted avg       0.80      0.73      0.61       260\n",
      "\n",
      "Epoch 3/10\n",
      "Validation Accuracy: 0.7269\n",
      "              precision    recall  f1-score   support\n",
      "\n",
      "           0       1.00      0.00      0.00        71\n",
      "           1       0.73      1.00      0.84       189\n",
      "\n",
      "    accuracy                           0.73       260\n",
      "   macro avg       0.86      0.50      0.42       260\n",
      "weighted avg       0.80      0.73      0.61       260\n",
      "\n",
      "Epoch 4/10\n",
      "Validation Accuracy: 0.7269\n",
      "              precision    recall  f1-score   support\n",
      "\n",
      "           0       1.00      0.00      0.00        71\n",
      "           1       0.73      1.00      0.84       189\n",
      "\n",
      "    accuracy                           0.73       260\n",
      "   macro avg       0.86      0.50      0.42       260\n",
      "weighted avg       0.80      0.73      0.61       260\n",
      "\n",
      "Epoch 5/10\n",
      "Validation Accuracy: 0.7269\n",
      "              precision    recall  f1-score   support\n",
      "\n",
      "           0       1.00      0.00      0.00        71\n",
      "           1       0.73      1.00      0.84       189\n",
      "\n",
      "    accuracy                           0.73       260\n",
      "   macro avg       0.86      0.50      0.42       260\n",
      "weighted avg       0.80      0.73      0.61       260\n",
      "\n",
      "Epoch 6/10\n",
      "Validation Accuracy: 0.7269\n",
      "              precision    recall  f1-score   support\n",
      "\n",
      "           0       1.00      0.00      0.00        71\n",
      "           1       0.73      1.00      0.84       189\n",
      "\n",
      "    accuracy                           0.73       260\n",
      "   macro avg       0.86      0.50      0.42       260\n",
      "weighted avg       0.80      0.73      0.61       260\n",
      "\n",
      "Epoch 7/10\n",
      "Validation Accuracy: 0.7462\n",
      "              precision    recall  f1-score   support\n",
      "\n",
      "           0       0.86      0.08      0.15        71\n",
      "           1       0.74      0.99      0.85       189\n",
      "\n",
      "    accuracy                           0.75       260\n",
      "   macro avg       0.80      0.54      0.50       260\n",
      "weighted avg       0.77      0.75      0.66       260\n",
      "\n",
      "Epoch 8/10\n",
      "Validation Accuracy: 0.7423\n",
      "              precision    recall  f1-score   support\n",
      "\n",
      "           0       0.75      0.08      0.15        71\n",
      "           1       0.74      0.99      0.85       189\n",
      "\n",
      "    accuracy                           0.74       260\n",
      "   macro avg       0.75      0.54      0.50       260\n",
      "weighted avg       0.74      0.74      0.66       260\n",
      "\n",
      "Epoch 9/10\n",
      "Validation Accuracy: 0.7577\n",
      "              precision    recall  f1-score   support\n",
      "\n",
      "           0       0.60      0.35      0.44        71\n",
      "           1       0.79      0.91      0.85       189\n",
      "\n",
      "    accuracy                           0.76       260\n",
      "   macro avg       0.69      0.63      0.64       260\n",
      "weighted avg       0.74      0.76      0.74       260\n",
      "\n",
      "Epoch 10/10\n",
      "Validation Accuracy: 0.7385\n",
      "              precision    recall  f1-score   support\n",
      "\n",
      "           0       0.55      0.25      0.35        71\n",
      "           1       0.77      0.92      0.84       189\n",
      "\n",
      "    accuracy                           0.74       260\n",
      "   macro avg       0.66      0.59      0.59       260\n",
      "weighted avg       0.71      0.74      0.70       260\n",
      "\n"
     ]
    }
   ],
   "source": [
    "for epoch in range(num_epochs):\n",
    "        print(f\"Epoch {epoch + 1}/{num_epochs}\")\n",
    "        train(model, train_dataloader, optimizer, scheduler, device)\n",
    "        accuracy, report = evaluate(model, val_dataloader, device)\n",
    "        print(f\"Validation Accuracy: {accuracy:.4f}\")\n",
    "        print(report)"
   ]
  },
  {
   "cell_type": "code",
   "execution_count": null,
   "id": "2e1867cb-0b94-48b6-9252-0308908a2323",
   "metadata": {},
   "outputs": [],
   "source": [
    "torch.save(model.state_dict(), \"bert_classifier.pt\")"
   ]
  },
  {
   "cell_type": "code",
   "execution_count": null,
   "id": "073c416f-c681-4575-b672-c1a6ab876849",
   "metadata": {
    "tags": []
   },
   "outputs": [],
   "source": [
    "def predict_sentiment(text, model, tokenizer, device, max_length=128):\n",
    "    model.eval()\n",
    "    encoding = tokenizer(text, return_tensors='pt', max_length=max_length, padding='max_length', truncation=True)\n",
    "    input_ids = encoding['input_ids'].to(device)\n",
    "    attention_mask = encoding['attention_mask'].to(device)\n",
    "\n",
    "    with torch.no_grad():\n",
    "        outputs = model(input_ids=input_ids, attention_mask=attention_mask)\n",
    "        _, preds = torch.max(outputs, dim=1)\n",
    "    return \"positive\" if preds.item() == 1 else \"negative\""
   ]
  },
  {
   "cell_type": "code",
   "execution_count": null,
   "id": "9f95cf16-a4fb-4cb3-aba5-b57cab1957e4",
   "metadata": {
    "tags": []
   },
   "outputs": [],
   "source": [
    "test_text = thai_clean_text(\"สินค้าเยี่ยมมาก\")\n",
    "sentiment = predict_sentiment(test_text, model, tokenizer, device)\n",
    "print(f\"Predicted sentiment: {sentiment}\")\n"
   ]
  },
  {
   "cell_type": "code",
   "execution_count": null,
   "id": "5d149ac8-1039-4bb0-8fed-217f74de94a0",
   "metadata": {
    "tags": []
   },
   "outputs": [],
   "source": [
    "tokenized_text = word_tokenize(thai_clean_text(test_text), keep_whitespace=False)\n",
    "tokenized_text"
   ]
  },
  {
   "cell_type": "code",
   "execution_count": null,
   "id": "b2b18b75-767e-4915-a515-38bc0356b50a",
   "metadata": {
    "tags": []
   },
   "outputs": [],
   "source": [
    "for i in tokenized_text:\n",
    "    print(i)\n",
    "    test_text = thai_clean_text(i)\n",
    "    sentiment = predict_sentiment(test_text, model, tokenizer, device)\n",
    "    print(f\"Predicted sentiment: {sentiment}\")\n",
    "    print(\"----------------------\")"
   ]
  },
  {
   "cell_type": "code",
   "execution_count": null,
   "id": "820e96c7-f0fc-4590-8590-e1fddc082549",
   "metadata": {},
   "outputs": [],
   "source": []
  }
 ],
 "metadata": {
  "kernelspec": {
   "display_name": "Python 3 (ipykernel)",
   "language": "python",
   "name": "python3"
  },
  "language_info": {
   "codemirror_mode": {
    "name": "ipython",
    "version": 3
   },
   "file_extension": ".py",
   "mimetype": "text/x-python",
   "name": "python",
   "nbconvert_exporter": "python",
   "pygments_lexer": "ipython3",
   "version": "3.10.13"
  }
 },
 "nbformat": 4,
 "nbformat_minor": 5
}
