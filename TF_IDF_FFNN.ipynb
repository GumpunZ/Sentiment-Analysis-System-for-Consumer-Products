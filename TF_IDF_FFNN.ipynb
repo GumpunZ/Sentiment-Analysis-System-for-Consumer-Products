{
 "cells": [
  {
   "cell_type": "code",
   "execution_count": null,
   "metadata": {
    "colab": {
     "base_uri": "https://localhost:8080/"
    },
    "id": "fjdJseYNm9_7",
    "outputId": "e0b0bfd4-eefe-4632-ae5f-7988151aa8eb"
   },
   "outputs": [
    {
     "name": "stdout",
     "output_type": "stream",
     "text": [
      "Requirement already satisfied: pythainlp in /usr/local/lib/python3.10/dist-packages (5.0.1)\n",
      "Requirement already satisfied: requests>=2.22.0 in /usr/local/lib/python3.10/dist-packages (from pythainlp) (2.31.0)\n",
      "Requirement already satisfied: charset-normalizer<4,>=2 in /usr/local/lib/python3.10/dist-packages (from requests>=2.22.0->pythainlp) (3.3.2)\n",
      "Requirement already satisfied: idna<4,>=2.5 in /usr/local/lib/python3.10/dist-packages (from requests>=2.22.0->pythainlp) (3.6)\n",
      "Requirement already satisfied: urllib3<3,>=1.21.1 in /usr/local/lib/python3.10/dist-packages (from requests>=2.22.0->pythainlp) (2.0.7)\n",
      "Requirement already satisfied: certifi>=2017.4.17 in /usr/local/lib/python3.10/dist-packages (from requests>=2.22.0->pythainlp) (2024.2.2)\n"
     ]
    }
   ],
   "source": [
    "!pip install pythainlp"
   ]
  },
  {
   "cell_type": "code",
   "execution_count": null,
   "metadata": {
    "id": "4woUzStTm3s2"
   },
   "outputs": [],
   "source": [
    "import pandas as pd\n",
    "from sklearn.preprocessing import LabelEncoder\n",
    "from sklearn.model_selection import train_test_split\n",
    "import numpy as np\n",
    "from sklearn.feature_extraction.text import TfidfVectorizer\n",
    "import torch\n",
    "import torch.nn as nn\n",
    "import torch.nn.functional as F\n",
    "import torch.optim as optim"
   ]
  },
  {
   "cell_type": "code",
   "execution_count": null,
   "metadata": {
    "id": "KdDFWvLTmejq"
   },
   "outputs": [],
   "source": [
    "pos_text = (\"/content/Positive.csv\")\n",
    "neg_text = (\"/content/Negative.csv\")\n",
    "neu_text = (\"/content/Neutrally.csv\")"
   ]
  },
  {
   "cell_type": "code",
   "execution_count": null,
   "metadata": {
    "colab": {
     "base_uri": "https://localhost:8080/",
     "height": 423
    },
    "id": "VT1SWsBkm0PV",
    "outputId": "1d6ceb47-1deb-4597-b25b-f86b1d59c368"
   },
   "outputs": [
    {
     "data": {
      "application/vnd.google.colaboratory.intrinsic+json": {
       "summary": "{\n  \"name\": \"data\",\n  \"rows\": 100,\n  \"fields\": [\n    {\n      \"column\": \"User\",\n      \"properties\": {\n        \"dtype\": \"string\",\n        \"num_unique_values\": 97,\n        \"samples\": [\n          \"Qcc\",\n          \"*******034\",\n          \"M***t\"\n        ],\n        \"semantic_type\": \"\",\n        \"description\": \"\"\n      }\n    },\n    {\n      \"column\": \"Message\",\n      \"properties\": {\n        \"dtype\": \"string\",\n        \"num_unique_values\": 99,\n        \"samples\": [\n          \"\\u0e27\\u0e31\\u0e2a\\u0e14\\u0e38 \\u0e02\\u0e19\\u0e32\\u0e14 \\u0e01\\u0e32\\u0e23\\u0e2d\\u0e2d\\u0e01\\u0e41\\u0e1a\\u0e1a \\u0e01\\u0e32\\u0e07\\u0e40\\u0e01\\u0e07\\u0e01\\u0e47\\u0e44\\u0e21\\u0e48\\u0e21\\u0e35\\u0e01\\u0e23\\u0e30\\u0e40\\u0e1b\\u0e4b\\u0e32 \\u0e40\\u0e2d\\u0e32\\u0e1c\\u0e49\\u0e32\\u0e42\\u0e2b\\u0e25\\u0e21\\u0e32\\u0e40\\u0e22\\u0e47\\u0e1a\\u0e1a\\u0e2d\\u0e01\\u0e02\\u0e32\\u0e22\\u0e23\\u0e32\\u0e04\\u0e32\\u0e16\\u0e39\\u0e01\\u0e21\\u0e31\\u0e19\\u0e2b\\u0e25\\u0e2d\\u0e01\",\n          \"\\u0e2a\\u0e34\\u0e19\\u0e04\\u0e49\\u0e32\\u0e44\\u0e21\\u0e48\\u0e40\\u0e2b\\u0e21\\u0e37\\u0e2d\\u0e19\\u0e43\\u0e19\\u0e23\\u0e39\\u0e1b \\u0e41\\u0e15\\u0e48\\u0e40\\u0e2b\\u0e21\\u0e32\\u0e30\\u0e2a\\u0e21\\u0e01\\u0e31\\u0e1a\\u0e23\\u0e32\\u0e04\\u0e32\",\n          \"\\u0e40\\u0e02\\u0e35\\u0e22\\u0e27\\u0e2a\\u0e30\\u0e17\\u0e49\\u0e2d\\u0e19\\u0e41\\u0e2a\\u0e07 \\u0e17\\u0e32\\u0e07\\u0e23\\u0e49\\u0e32\\u0e19\\u0e2a\\u0e48\\u0e07\\u0e21\\u0e32\\u0e1c\\u0e34\\u0e14\\u0e44\\u0e0b\\u0e2a\\u0e4c\\u0e17\\u0e33\\u0e01\\u0e32\\u0e23\\u0e04\\u0e37\\u0e19\\u0e40\\u0e07\\u0e34\\u0e19\\u0e19\\u0e32\\u0e19\\u0e21\\u0e32\\u0e01\"\n        ],\n        \"semantic_type\": \"\",\n        \"description\": \"\"\n      }\n    },\n    {\n      \"column\": \"Sentiment\",\n      \"properties\": {\n        \"dtype\": \"category\",\n        \"num_unique_values\": 3,\n        \"samples\": [\n          \"Negative\",\n          \"Positive\",\n          \"Neutrally\"\n        ],\n        \"semantic_type\": \"\",\n        \"description\": \"\"\n      }\n    }\n  ]\n}",
       "type": "dataframe"
      },
      "text/html": [
       "\n",
       "  <div id=\"df-925c2346-294d-4d4c-b3ba-162fd81ee8e8\" class=\"colab-df-container\">\n",
       "    <div>\n",
       "<style scoped>\n",
       "    .dataframe tbody tr th:only-of-type {\n",
       "        vertical-align: middle;\n",
       "    }\n",
       "\n",
       "    .dataframe tbody tr th {\n",
       "        vertical-align: top;\n",
       "    }\n",
       "\n",
       "    .dataframe thead th {\n",
       "        text-align: right;\n",
       "    }\n",
       "</style>\n",
       "<table border=\"1\" class=\"dataframe\">\n",
       "  <thead>\n",
       "    <tr style=\"text-align: right;\">\n",
       "      <th></th>\n",
       "      <th>User</th>\n",
       "      <th>Message</th>\n",
       "      <th>Sentiment</th>\n",
       "    </tr>\n",
       "  </thead>\n",
       "  <tbody>\n",
       "    <tr>\n",
       "      <th>1305</th>\n",
       "      <td>0***7</td>\n",
       "      <td>สั่งอีกลายได้อีกลายเห้อ</td>\n",
       "      <td>Negative</td>\n",
       "    </tr>\n",
       "    <tr>\n",
       "      <th>150</th>\n",
       "      <td>B***.</td>\n",
       "      <td>พัสดุจัดส่งรวดเร็วมากค่ะ แพ็คเก็จเรียบร้อยดี ส...</td>\n",
       "      <td>Positive</td>\n",
       "    </tr>\n",
       "    <tr>\n",
       "      <th>209</th>\n",
       "      <td>0***8</td>\n",
       "      <td>ผ้าเช็ดขนาดมาตรฐาน เนื้อนุ่มดีสีสวย ครบจำนวนตา...</td>\n",
       "      <td>Positive</td>\n",
       "    </tr>\n",
       "    <tr>\n",
       "      <th>810</th>\n",
       "      <td>รัชนี ส.</td>\n",
       "      <td>น้ำหนัก เอวได้แต่ขาเล็กไปนิดค่ะ เนื้อผ้าดี โอเ...</td>\n",
       "      <td>Neutrally</td>\n",
       "    </tr>\n",
       "    <tr>\n",
       "      <th>329</th>\n",
       "      <td>C***.</td>\n",
       "      <td>เอวยางยืดทรงพอดี เหมาะสำหรับกิจกรรมกีฬา ผ้าสบา...</td>\n",
       "      <td>Negative</td>\n",
       "    </tr>\n",
       "    <tr>\n",
       "      <th>...</th>\n",
       "      <td>...</td>\n",
       "      <td>...</td>\n",
       "      <td>...</td>\n",
       "    </tr>\n",
       "    <tr>\n",
       "      <th>193</th>\n",
       "      <td>*******731</td>\n",
       "      <td>แพคเกจจิ้งดี จัดส่งไว ไม่มีการบุบสลายของสินค้า...</td>\n",
       "      <td>Positive</td>\n",
       "    </tr>\n",
       "    <tr>\n",
       "      <th>1492</th>\n",
       "      <td>M***t</td>\n",
       "      <td>เขียวสะท้อนแสง ทางร้านส่งมาผิดไซส์ทำการคืนเงิน...</td>\n",
       "      <td>Positive</td>\n",
       "    </tr>\n",
       "    <tr>\n",
       "      <th>551</th>\n",
       "      <td>Charnchai C.</td>\n",
       "      <td>กางเกงที่ตัดเย็บไม่มาตราฐานเสียดายเงิน</td>\n",
       "      <td>Negative</td>\n",
       "    </tr>\n",
       "    <tr>\n",
       "      <th>643</th>\n",
       "      <td>pattanachat</td>\n",
       "      <td>วัสดุ ขนาด การออกแบบ</td>\n",
       "      <td>Positive</td>\n",
       "    </tr>\n",
       "    <tr>\n",
       "      <th>1331</th>\n",
       "      <td>Pusanaporm</td>\n",
       "      <td>พอใช้ได้ ตามราคาค่ะ</td>\n",
       "      <td>Neutrally</td>\n",
       "    </tr>\n",
       "  </tbody>\n",
       "</table>\n",
       "<p>100 rows × 3 columns</p>\n",
       "</div>\n",
       "    <div class=\"colab-df-buttons\">\n",
       "\n",
       "  <div class=\"colab-df-container\">\n",
       "    <button class=\"colab-df-convert\" onclick=\"convertToInteractive('df-925c2346-294d-4d4c-b3ba-162fd81ee8e8')\"\n",
       "            title=\"Convert this dataframe to an interactive table.\"\n",
       "            style=\"display:none;\">\n",
       "\n",
       "  <svg xmlns=\"http://www.w3.org/2000/svg\" height=\"24px\" viewBox=\"0 -960 960 960\">\n",
       "    <path d=\"M120-120v-720h720v720H120Zm60-500h600v-160H180v160Zm220 220h160v-160H400v160Zm0 220h160v-160H400v160ZM180-400h160v-160H180v160Zm440 0h160v-160H620v160ZM180-180h160v-160H180v160Zm440 0h160v-160H620v160Z\"/>\n",
       "  </svg>\n",
       "    </button>\n",
       "\n",
       "  <style>\n",
       "    .colab-df-container {\n",
       "      display:flex;\n",
       "      gap: 12px;\n",
       "    }\n",
       "\n",
       "    .colab-df-convert {\n",
       "      background-color: #E8F0FE;\n",
       "      border: none;\n",
       "      border-radius: 50%;\n",
       "      cursor: pointer;\n",
       "      display: none;\n",
       "      fill: #1967D2;\n",
       "      height: 32px;\n",
       "      padding: 0 0 0 0;\n",
       "      width: 32px;\n",
       "    }\n",
       "\n",
       "    .colab-df-convert:hover {\n",
       "      background-color: #E2EBFA;\n",
       "      box-shadow: 0px 1px 2px rgba(60, 64, 67, 0.3), 0px 1px 3px 1px rgba(60, 64, 67, 0.15);\n",
       "      fill: #174EA6;\n",
       "    }\n",
       "\n",
       "    .colab-df-buttons div {\n",
       "      margin-bottom: 4px;\n",
       "    }\n",
       "\n",
       "    [theme=dark] .colab-df-convert {\n",
       "      background-color: #3B4455;\n",
       "      fill: #D2E3FC;\n",
       "    }\n",
       "\n",
       "    [theme=dark] .colab-df-convert:hover {\n",
       "      background-color: #434B5C;\n",
       "      box-shadow: 0px 1px 3px 1px rgba(0, 0, 0, 0.15);\n",
       "      filter: drop-shadow(0px 1px 2px rgba(0, 0, 0, 0.3));\n",
       "      fill: #FFFFFF;\n",
       "    }\n",
       "  </style>\n",
       "\n",
       "    <script>\n",
       "      const buttonEl =\n",
       "        document.querySelector('#df-925c2346-294d-4d4c-b3ba-162fd81ee8e8 button.colab-df-convert');\n",
       "      buttonEl.style.display =\n",
       "        google.colab.kernel.accessAllowed ? 'block' : 'none';\n",
       "\n",
       "      async function convertToInteractive(key) {\n",
       "        const element = document.querySelector('#df-925c2346-294d-4d4c-b3ba-162fd81ee8e8');\n",
       "        const dataTable =\n",
       "          await google.colab.kernel.invokeFunction('convertToInteractive',\n",
       "                                                    [key], {});\n",
       "        if (!dataTable) return;\n",
       "\n",
       "        const docLinkHtml = 'Like what you see? Visit the ' +\n",
       "          '<a target=\"_blank\" href=https://colab.research.google.com/notebooks/data_table.ipynb>data table notebook</a>'\n",
       "          + ' to learn more about interactive tables.';\n",
       "        element.innerHTML = '';\n",
       "        dataTable['output_type'] = 'display_data';\n",
       "        await google.colab.output.renderOutput(dataTable, element);\n",
       "        const docLink = document.createElement('div');\n",
       "        docLink.innerHTML = docLinkHtml;\n",
       "        element.appendChild(docLink);\n",
       "      }\n",
       "    </script>\n",
       "  </div>\n",
       "\n",
       "\n",
       "<div id=\"df-3035469e-af7d-4f70-a6b7-5e9227fa5c4d\">\n",
       "  <button class=\"colab-df-quickchart\" onclick=\"quickchart('df-3035469e-af7d-4f70-a6b7-5e9227fa5c4d')\"\n",
       "            title=\"Suggest charts\"\n",
       "            style=\"display:none;\">\n",
       "\n",
       "<svg xmlns=\"http://www.w3.org/2000/svg\" height=\"24px\"viewBox=\"0 0 24 24\"\n",
       "     width=\"24px\">\n",
       "    <g>\n",
       "        <path d=\"M19 3H5c-1.1 0-2 .9-2 2v14c0 1.1.9 2 2 2h14c1.1 0 2-.9 2-2V5c0-1.1-.9-2-2-2zM9 17H7v-7h2v7zm4 0h-2V7h2v10zm4 0h-2v-4h2v4z\"/>\n",
       "    </g>\n",
       "</svg>\n",
       "  </button>\n",
       "\n",
       "<style>\n",
       "  .colab-df-quickchart {\n",
       "      --bg-color: #E8F0FE;\n",
       "      --fill-color: #1967D2;\n",
       "      --hover-bg-color: #E2EBFA;\n",
       "      --hover-fill-color: #174EA6;\n",
       "      --disabled-fill-color: #AAA;\n",
       "      --disabled-bg-color: #DDD;\n",
       "  }\n",
       "\n",
       "  [theme=dark] .colab-df-quickchart {\n",
       "      --bg-color: #3B4455;\n",
       "      --fill-color: #D2E3FC;\n",
       "      --hover-bg-color: #434B5C;\n",
       "      --hover-fill-color: #FFFFFF;\n",
       "      --disabled-bg-color: #3B4455;\n",
       "      --disabled-fill-color: #666;\n",
       "  }\n",
       "\n",
       "  .colab-df-quickchart {\n",
       "    background-color: var(--bg-color);\n",
       "    border: none;\n",
       "    border-radius: 50%;\n",
       "    cursor: pointer;\n",
       "    display: none;\n",
       "    fill: var(--fill-color);\n",
       "    height: 32px;\n",
       "    padding: 0;\n",
       "    width: 32px;\n",
       "  }\n",
       "\n",
       "  .colab-df-quickchart:hover {\n",
       "    background-color: var(--hover-bg-color);\n",
       "    box-shadow: 0 1px 2px rgba(60, 64, 67, 0.3), 0 1px 3px 1px rgba(60, 64, 67, 0.15);\n",
       "    fill: var(--button-hover-fill-color);\n",
       "  }\n",
       "\n",
       "  .colab-df-quickchart-complete:disabled,\n",
       "  .colab-df-quickchart-complete:disabled:hover {\n",
       "    background-color: var(--disabled-bg-color);\n",
       "    fill: var(--disabled-fill-color);\n",
       "    box-shadow: none;\n",
       "  }\n",
       "\n",
       "  .colab-df-spinner {\n",
       "    border: 2px solid var(--fill-color);\n",
       "    border-color: transparent;\n",
       "    border-bottom-color: var(--fill-color);\n",
       "    animation:\n",
       "      spin 1s steps(1) infinite;\n",
       "  }\n",
       "\n",
       "  @keyframes spin {\n",
       "    0% {\n",
       "      border-color: transparent;\n",
       "      border-bottom-color: var(--fill-color);\n",
       "      border-left-color: var(--fill-color);\n",
       "    }\n",
       "    20% {\n",
       "      border-color: transparent;\n",
       "      border-left-color: var(--fill-color);\n",
       "      border-top-color: var(--fill-color);\n",
       "    }\n",
       "    30% {\n",
       "      border-color: transparent;\n",
       "      border-left-color: var(--fill-color);\n",
       "      border-top-color: var(--fill-color);\n",
       "      border-right-color: var(--fill-color);\n",
       "    }\n",
       "    40% {\n",
       "      border-color: transparent;\n",
       "      border-right-color: var(--fill-color);\n",
       "      border-top-color: var(--fill-color);\n",
       "    }\n",
       "    60% {\n",
       "      border-color: transparent;\n",
       "      border-right-color: var(--fill-color);\n",
       "    }\n",
       "    80% {\n",
       "      border-color: transparent;\n",
       "      border-right-color: var(--fill-color);\n",
       "      border-bottom-color: var(--fill-color);\n",
       "    }\n",
       "    90% {\n",
       "      border-color: transparent;\n",
       "      border-bottom-color: var(--fill-color);\n",
       "    }\n",
       "  }\n",
       "</style>\n",
       "\n",
       "  <script>\n",
       "    async function quickchart(key) {\n",
       "      const quickchartButtonEl =\n",
       "        document.querySelector('#' + key + ' button');\n",
       "      quickchartButtonEl.disabled = true;  // To prevent multiple clicks.\n",
       "      quickchartButtonEl.classList.add('colab-df-spinner');\n",
       "      try {\n",
       "        const charts = await google.colab.kernel.invokeFunction(\n",
       "            'suggestCharts', [key], {});\n",
       "      } catch (error) {\n",
       "        console.error('Error during call to suggestCharts:', error);\n",
       "      }\n",
       "      quickchartButtonEl.classList.remove('colab-df-spinner');\n",
       "      quickchartButtonEl.classList.add('colab-df-quickchart-complete');\n",
       "    }\n",
       "    (() => {\n",
       "      let quickchartButtonEl =\n",
       "        document.querySelector('#df-3035469e-af7d-4f70-a6b7-5e9227fa5c4d button');\n",
       "      quickchartButtonEl.style.display =\n",
       "        google.colab.kernel.accessAllowed ? 'block' : 'none';\n",
       "    })();\n",
       "  </script>\n",
       "</div>\n",
       "    </div>\n",
       "  </div>\n"
      ],
      "text/plain": [
       "              User                                            Message  \\\n",
       "1305         0***7                            สั่งอีกลายได้อีกลายเห้อ   \n",
       "150          B***.  พัสดุจัดส่งรวดเร็วมากค่ะ แพ็คเก็จเรียบร้อยดี ส...   \n",
       "209          0***8  ผ้าเช็ดขนาดมาตรฐาน เนื้อนุ่มดีสีสวย ครบจำนวนตา...   \n",
       "810       รัชนี ส.  น้ำหนัก เอวได้แต่ขาเล็กไปนิดค่ะ เนื้อผ้าดี โอเ...   \n",
       "329          C***.  เอวยางยืดทรงพอดี เหมาะสำหรับกิจกรรมกีฬา ผ้าสบา...   \n",
       "...            ...                                                ...   \n",
       "193     *******731  แพคเกจจิ้งดี จัดส่งไว ไม่มีการบุบสลายของสินค้า...   \n",
       "1492         M***t  เขียวสะท้อนแสง ทางร้านส่งมาผิดไซส์ทำการคืนเงิน...   \n",
       "551   Charnchai C.             กางเกงที่ตัดเย็บไม่มาตราฐานเสียดายเงิน   \n",
       "643    pattanachat                               วัสดุ ขนาด การออกแบบ   \n",
       "1331    Pusanaporm                                พอใช้ได้ ตามราคาค่ะ   \n",
       "\n",
       "      Sentiment  \n",
       "1305   Negative  \n",
       "150    Positive  \n",
       "209    Positive  \n",
       "810   Neutrally  \n",
       "329    Negative  \n",
       "...         ...  \n",
       "193    Positive  \n",
       "1492   Positive  \n",
       "551    Negative  \n",
       "643    Positive  \n",
       "1331  Neutrally  \n",
       "\n",
       "[100 rows x 3 columns]"
      ]
     },
     "execution_count": 4,
     "metadata": {},
     "output_type": "execute_result"
    }
   ],
   "source": [
    "pos_df = pd.read_csv(pos_text, delimiter=',', encoding='utf-8').dropna()\n",
    "neg_df = pd.read_csv(neg_text, delimiter=',', encoding='utf-8').dropna()\n",
    "neu_df = pd.read_csv(neu_text, delimiter=',', encoding='utf-8').dropna()\n",
    "\n",
    "data = pd.concat([pos_df, neg_df, neu_df])\n",
    "data.sample(100)"
   ]
  },
  {
   "cell_type": "code",
   "execution_count": null,
   "metadata": {
    "id": "CMehpAx9m1zm"
   },
   "outputs": [],
   "source": [
    "from pythainlp.tokenize import word_tokenize"
   ]
  },
  {
   "cell_type": "code",
   "execution_count": null,
   "metadata": {
    "colab": {
     "base_uri": "https://localhost:8080/",
     "height": 363
    },
    "id": "8rsjcmHRnDUN",
    "outputId": "1dd43a45-d53c-4184-ada9-4e4984a010fe"
   },
   "outputs": [
    {
     "data": {
      "application/vnd.google.colaboratory.intrinsic+json": {
       "summary": "{\n  \"name\": \"data\",\n  \"rows\": 10,\n  \"fields\": [\n    {\n      \"column\": \"User\",\n      \"properties\": {\n        \"dtype\": \"string\",\n        \"num_unique_values\": 10,\n        \"samples\": [\n          \"\\u0e20***\\u0e4c\",\n          \"\\u0e13\\u0e31\\u0e10\\u0e1e\\u0e31\\u0e0a\\u0e23\\u0e4c \\u0e23.\",\n          \"\\u0e2a\\u0e38\\u0e01\\u0e31\\u0e0d\\u0e0d\\u0e32 \\u0e1e.\"\n        ],\n        \"semantic_type\": \"\",\n        \"description\": \"\"\n      }\n    },\n    {\n      \"column\": \"Message\",\n      \"properties\": {\n        \"dtype\": \"string\",\n        \"num_unique_values\": 10,\n        \"samples\": [\n          \"\\u0e2a\\u0e1a\\u0e32\\u0e22 \\u0e41\\u0e25\\u0e30 \\u0e14\\u0e39\\u0e35   \\u0e04\\u0e38\\u0e49\\u0e21\\u0e48\\u0e32 \\u0e01\\u0e31\\u0e1a \\u0e23\\u0e32 \\u0e04\\u0e32\\u0e17\\u0e35\\u0e48 \\u0e14\\u0e35   \\u0e40\\u0e2b\\u0e21\\u0e32\\u0e30\\u0e2a\\u0e33\\u0e23\\u0e31\\u0e1a \\u0e43\\u0e0a\\u0e49 \\u0e43\\u0e19 \\u0e23\\u0e48\\u0e21 \\u0e41\\u0e25\\u0e30 \\u0e01\\u0e25\\u0e32\\u0e07\\u0e41\\u0e08\\u0e49   \\u0e44\\u0e21\\u0e48 \\u0e25\\u0e37\\u0e48\\u0e19 \\u0e41\\u0e25\\u0e30 \\u0e01\\u0e31\\u0e19\\u0e49\\u0e33 \\u0e44\\u0e14\\u0e49\",\n          \"\\u0e21\\u0e35\\u0e14 \\u0e2a\\u0e35 \\u0e22\\u0e07 \\u0e2a\\u0e30\\u0e17\\u0e49\\u0e2d\\u0e19\",\n          \"\\u0e40\\u0e2a\\u0e35\\u0e22\\u0e07 \\u0e40\\u0e1a\\u0e32 \\u0e44\\u0e1b \\u0e2b\\u0e19\\u0e48\\u0e2d\\u0e22\"\n        ],\n        \"semantic_type\": \"\",\n        \"description\": \"\"\n      }\n    },\n    {\n      \"column\": \"Sentiment\",\n      \"properties\": {\n        \"dtype\": \"category\",\n        \"num_unique_values\": 3,\n        \"samples\": [\n          \"Positive\",\n          \"Neutrally\",\n          \"Negative\"\n        ],\n        \"semantic_type\": \"\",\n        \"description\": \"\"\n      }\n    }\n  ]\n}",
       "type": "dataframe"
      },
      "text/html": [
       "\n",
       "  <div id=\"df-d9b55e98-be41-4579-81f1-08b15dfbe22b\" class=\"colab-df-container\">\n",
       "    <div>\n",
       "<style scoped>\n",
       "    .dataframe tbody tr th:only-of-type {\n",
       "        vertical-align: middle;\n",
       "    }\n",
       "\n",
       "    .dataframe tbody tr th {\n",
       "        vertical-align: top;\n",
       "    }\n",
       "\n",
       "    .dataframe thead th {\n",
       "        text-align: right;\n",
       "    }\n",
       "</style>\n",
       "<table border=\"1\" class=\"dataframe\">\n",
       "  <thead>\n",
       "    <tr style=\"text-align: right;\">\n",
       "      <th></th>\n",
       "      <th>User</th>\n",
       "      <th>Message</th>\n",
       "      <th>Sentiment</th>\n",
       "    </tr>\n",
       "  </thead>\n",
       "  <tbody>\n",
       "    <tr>\n",
       "      <th>182</th>\n",
       "      <td>B***.</td>\n",
       "      <td>วัสดุ คุณภาพ ดีมาก</td>\n",
       "      <td>Positive</td>\n",
       "    </tr>\n",
       "    <tr>\n",
       "      <th>326</th>\n",
       "      <td>ณัฐพัชร์ ร.</td>\n",
       "      <td>มีด สี ยง สะท้อน</td>\n",
       "      <td>Neutrally</td>\n",
       "    </tr>\n",
       "    <tr>\n",
       "      <th>935</th>\n",
       "      <td>0***6</td>\n",
       "      <td>สัง ่ อัน ได้ อัน เดียว</td>\n",
       "      <td>Negative</td>\n",
       "    </tr>\n",
       "    <tr>\n",
       "      <th>1450</th>\n",
       "      <td>S***.</td>\n",
       "      <td>พอใช้ได</td>\n",
       "      <td>Neutrally</td>\n",
       "    </tr>\n",
       "    <tr>\n",
       "      <th>347</th>\n",
       "      <td>Oh Y.</td>\n",
       "      <td>ตัว ใหญ่ ผ้า บาง</td>\n",
       "      <td>Negative</td>\n",
       "    </tr>\n",
       "    <tr>\n",
       "      <th>409</th>\n",
       "      <td>สุกัญญา พ.</td>\n",
       "      <td>เสียง เบา ไป หน่อย</td>\n",
       "      <td>Neutrally</td>\n",
       "    </tr>\n",
       "    <tr>\n",
       "      <th>7</th>\n",
       "      <td>C***.</td>\n",
       "      <td>ตาม ราค</td>\n",
       "      <td>Positive</td>\n",
       "    </tr>\n",
       "    <tr>\n",
       "      <th>355</th>\n",
       "      <td>เล'ดิ้'ด- เ.</td>\n",
       "      <td>ใส่ ได้ พอดี ค่ะ ไม่ หลวม ไม่ แน่ ค่ะ แต่ ถ้า ...</td>\n",
       "      <td>Positive</td>\n",
       "    </tr>\n",
       "    <tr>\n",
       "      <th>1201</th>\n",
       "      <td>ภ***์</td>\n",
       "      <td>สบาย และ ดูี   คุ้ม่า กับ รา คาที่ ดี   เหมาะส...</td>\n",
       "      <td>Neutrally</td>\n",
       "    </tr>\n",
       "    <tr>\n",
       "      <th>811</th>\n",
       "      <td>C***t</td>\n",
       "      <td>สินค้า คุณภาพดี   ราค เหมาะส   การจัดเตียม สิน...</td>\n",
       "      <td>Positive</td>\n",
       "    </tr>\n",
       "  </tbody>\n",
       "</table>\n",
       "</div>\n",
       "    <div class=\"colab-df-buttons\">\n",
       "\n",
       "  <div class=\"colab-df-container\">\n",
       "    <button class=\"colab-df-convert\" onclick=\"convertToInteractive('df-d9b55e98-be41-4579-81f1-08b15dfbe22b')\"\n",
       "            title=\"Convert this dataframe to an interactive table.\"\n",
       "            style=\"display:none;\">\n",
       "\n",
       "  <svg xmlns=\"http://www.w3.org/2000/svg\" height=\"24px\" viewBox=\"0 -960 960 960\">\n",
       "    <path d=\"M120-120v-720h720v720H120Zm60-500h600v-160H180v160Zm220 220h160v-160H400v160Zm0 220h160v-160H400v160ZM180-400h160v-160H180v160Zm440 0h160v-160H620v160ZM180-180h160v-160H180v160Zm440 0h160v-160H620v160Z\"/>\n",
       "  </svg>\n",
       "    </button>\n",
       "\n",
       "  <style>\n",
       "    .colab-df-container {\n",
       "      display:flex;\n",
       "      gap: 12px;\n",
       "    }\n",
       "\n",
       "    .colab-df-convert {\n",
       "      background-color: #E8F0FE;\n",
       "      border: none;\n",
       "      border-radius: 50%;\n",
       "      cursor: pointer;\n",
       "      display: none;\n",
       "      fill: #1967D2;\n",
       "      height: 32px;\n",
       "      padding: 0 0 0 0;\n",
       "      width: 32px;\n",
       "    }\n",
       "\n",
       "    .colab-df-convert:hover {\n",
       "      background-color: #E2EBFA;\n",
       "      box-shadow: 0px 1px 2px rgba(60, 64, 67, 0.3), 0px 1px 3px 1px rgba(60, 64, 67, 0.15);\n",
       "      fill: #174EA6;\n",
       "    }\n",
       "\n",
       "    .colab-df-buttons div {\n",
       "      margin-bottom: 4px;\n",
       "    }\n",
       "\n",
       "    [theme=dark] .colab-df-convert {\n",
       "      background-color: #3B4455;\n",
       "      fill: #D2E3FC;\n",
       "    }\n",
       "\n",
       "    [theme=dark] .colab-df-convert:hover {\n",
       "      background-color: #434B5C;\n",
       "      box-shadow: 0px 1px 3px 1px rgba(0, 0, 0, 0.15);\n",
       "      filter: drop-shadow(0px 1px 2px rgba(0, 0, 0, 0.3));\n",
       "      fill: #FFFFFF;\n",
       "    }\n",
       "  </style>\n",
       "\n",
       "    <script>\n",
       "      const buttonEl =\n",
       "        document.querySelector('#df-d9b55e98-be41-4579-81f1-08b15dfbe22b button.colab-df-convert');\n",
       "      buttonEl.style.display =\n",
       "        google.colab.kernel.accessAllowed ? 'block' : 'none';\n",
       "\n",
       "      async function convertToInteractive(key) {\n",
       "        const element = document.querySelector('#df-d9b55e98-be41-4579-81f1-08b15dfbe22b');\n",
       "        const dataTable =\n",
       "          await google.colab.kernel.invokeFunction('convertToInteractive',\n",
       "                                                    [key], {});\n",
       "        if (!dataTable) return;\n",
       "\n",
       "        const docLinkHtml = 'Like what you see? Visit the ' +\n",
       "          '<a target=\"_blank\" href=https://colab.research.google.com/notebooks/data_table.ipynb>data table notebook</a>'\n",
       "          + ' to learn more about interactive tables.';\n",
       "        element.innerHTML = '';\n",
       "        dataTable['output_type'] = 'display_data';\n",
       "        await google.colab.output.renderOutput(dataTable, element);\n",
       "        const docLink = document.createElement('div');\n",
       "        docLink.innerHTML = docLinkHtml;\n",
       "        element.appendChild(docLink);\n",
       "      }\n",
       "    </script>\n",
       "  </div>\n",
       "\n",
       "\n",
       "<div id=\"df-55784033-01db-4eac-ab24-f40d32f21663\">\n",
       "  <button class=\"colab-df-quickchart\" onclick=\"quickchart('df-55784033-01db-4eac-ab24-f40d32f21663')\"\n",
       "            title=\"Suggest charts\"\n",
       "            style=\"display:none;\">\n",
       "\n",
       "<svg xmlns=\"http://www.w3.org/2000/svg\" height=\"24px\"viewBox=\"0 0 24 24\"\n",
       "     width=\"24px\">\n",
       "    <g>\n",
       "        <path d=\"M19 3H5c-1.1 0-2 .9-2 2v14c0 1.1.9 2 2 2h14c1.1 0 2-.9 2-2V5c0-1.1-.9-2-2-2zM9 17H7v-7h2v7zm4 0h-2V7h2v10zm4 0h-2v-4h2v4z\"/>\n",
       "    </g>\n",
       "</svg>\n",
       "  </button>\n",
       "\n",
       "<style>\n",
       "  .colab-df-quickchart {\n",
       "      --bg-color: #E8F0FE;\n",
       "      --fill-color: #1967D2;\n",
       "      --hover-bg-color: #E2EBFA;\n",
       "      --hover-fill-color: #174EA6;\n",
       "      --disabled-fill-color: #AAA;\n",
       "      --disabled-bg-color: #DDD;\n",
       "  }\n",
       "\n",
       "  [theme=dark] .colab-df-quickchart {\n",
       "      --bg-color: #3B4455;\n",
       "      --fill-color: #D2E3FC;\n",
       "      --hover-bg-color: #434B5C;\n",
       "      --hover-fill-color: #FFFFFF;\n",
       "      --disabled-bg-color: #3B4455;\n",
       "      --disabled-fill-color: #666;\n",
       "  }\n",
       "\n",
       "  .colab-df-quickchart {\n",
       "    background-color: var(--bg-color);\n",
       "    border: none;\n",
       "    border-radius: 50%;\n",
       "    cursor: pointer;\n",
       "    display: none;\n",
       "    fill: var(--fill-color);\n",
       "    height: 32px;\n",
       "    padding: 0;\n",
       "    width: 32px;\n",
       "  }\n",
       "\n",
       "  .colab-df-quickchart:hover {\n",
       "    background-color: var(--hover-bg-color);\n",
       "    box-shadow: 0 1px 2px rgba(60, 64, 67, 0.3), 0 1px 3px 1px rgba(60, 64, 67, 0.15);\n",
       "    fill: var(--button-hover-fill-color);\n",
       "  }\n",
       "\n",
       "  .colab-df-quickchart-complete:disabled,\n",
       "  .colab-df-quickchart-complete:disabled:hover {\n",
       "    background-color: var(--disabled-bg-color);\n",
       "    fill: var(--disabled-fill-color);\n",
       "    box-shadow: none;\n",
       "  }\n",
       "\n",
       "  .colab-df-spinner {\n",
       "    border: 2px solid var(--fill-color);\n",
       "    border-color: transparent;\n",
       "    border-bottom-color: var(--fill-color);\n",
       "    animation:\n",
       "      spin 1s steps(1) infinite;\n",
       "  }\n",
       "\n",
       "  @keyframes spin {\n",
       "    0% {\n",
       "      border-color: transparent;\n",
       "      border-bottom-color: var(--fill-color);\n",
       "      border-left-color: var(--fill-color);\n",
       "    }\n",
       "    20% {\n",
       "      border-color: transparent;\n",
       "      border-left-color: var(--fill-color);\n",
       "      border-top-color: var(--fill-color);\n",
       "    }\n",
       "    30% {\n",
       "      border-color: transparent;\n",
       "      border-left-color: var(--fill-color);\n",
       "      border-top-color: var(--fill-color);\n",
       "      border-right-color: var(--fill-color);\n",
       "    }\n",
       "    40% {\n",
       "      border-color: transparent;\n",
       "      border-right-color: var(--fill-color);\n",
       "      border-top-color: var(--fill-color);\n",
       "    }\n",
       "    60% {\n",
       "      border-color: transparent;\n",
       "      border-right-color: var(--fill-color);\n",
       "    }\n",
       "    80% {\n",
       "      border-color: transparent;\n",
       "      border-right-color: var(--fill-color);\n",
       "      border-bottom-color: var(--fill-color);\n",
       "    }\n",
       "    90% {\n",
       "      border-color: transparent;\n",
       "      border-bottom-color: var(--fill-color);\n",
       "    }\n",
       "  }\n",
       "</style>\n",
       "\n",
       "  <script>\n",
       "    async function quickchart(key) {\n",
       "      const quickchartButtonEl =\n",
       "        document.querySelector('#' + key + ' button');\n",
       "      quickchartButtonEl.disabled = true;  // To prevent multiple clicks.\n",
       "      quickchartButtonEl.classList.add('colab-df-spinner');\n",
       "      try {\n",
       "        const charts = await google.colab.kernel.invokeFunction(\n",
       "            'suggestCharts', [key], {});\n",
       "      } catch (error) {\n",
       "        console.error('Error during call to suggestCharts:', error);\n",
       "      }\n",
       "      quickchartButtonEl.classList.remove('colab-df-spinner');\n",
       "      quickchartButtonEl.classList.add('colab-df-quickchart-complete');\n",
       "    }\n",
       "    (() => {\n",
       "      let quickchartButtonEl =\n",
       "        document.querySelector('#df-55784033-01db-4eac-ab24-f40d32f21663 button');\n",
       "      quickchartButtonEl.style.display =\n",
       "        google.colab.kernel.accessAllowed ? 'block' : 'none';\n",
       "    })();\n",
       "  </script>\n",
       "</div>\n",
       "    </div>\n",
       "  </div>\n"
      ],
      "text/plain": [
       "              User                                            Message  \\\n",
       "182          B***.                                 วัสดุ คุณภาพ ดีมาก   \n",
       "326    ณัฐพัชร์ ร.                                   มีด สี ยง สะท้อน   \n",
       "935          0***6                            สัง ่ อัน ได้ อัน เดียว   \n",
       "1450         S***.                                            พอใช้ได   \n",
       "347          Oh Y.                                   ตัว ใหญ่ ผ้า บาง   \n",
       "409     สุกัญญา พ.                                 เสียง เบา ไป หน่อย   \n",
       "7            C***.                                            ตาม ราค   \n",
       "355   เล'ดิ้'ด- เ.  ใส่ ได้ พอดี ค่ะ ไม่ หลวม ไม่ แน่ ค่ะ แต่ ถ้า ...   \n",
       "1201         ภ***์  สบาย และ ดูี   คุ้ม่า กับ รา คาที่ ดี   เหมาะส...   \n",
       "811          C***t  สินค้า คุณภาพดี   ราค เหมาะส   การจัดเตียม สิน...   \n",
       "\n",
       "      Sentiment  \n",
       "182    Positive  \n",
       "326   Neutrally  \n",
       "935    Negative  \n",
       "1450  Neutrally  \n",
       "347    Negative  \n",
       "409   Neutrally  \n",
       "7      Positive  \n",
       "355    Positive  \n",
       "1201  Neutrally  \n",
       "811    Positive  "
      ]
     },
     "execution_count": 6,
     "metadata": {},
     "output_type": "execute_result"
    }
   ],
   "source": [
    "# สร้างฟังก์ชันสำหรับการลบอักขระที่ซ้ำกันในแต่ละคำเท่านั้น\n",
    "def remove_duplicate_chars(text):\n",
    "    if isinstance(text, str):  # ตรวจสอบว่าข้อความไม่ใช่ NaN\n",
    "        unique_words = []\n",
    "        words = word_tokenize(text)\n",
    "        for word in words:\n",
    "            unique_word = ''\n",
    "            for char in word:\n",
    "                if char not in unique_word:\n",
    "                    unique_word += char\n",
    "            unique_words.append(unique_word)\n",
    "        return ' '.join(unique_words)\n",
    "    else:\n",
    "        return text  # ส่งค่า NaN กลับหากเป็น NaN\n",
    "\n",
    "# ใช้ฟังก์ชัน `remove_duplicate_chars` เพื่อ Tokenize และลบคำที่ซ้ำ\n",
    "data['Message'] = data['Message'].apply(remove_duplicate_chars)\n",
    "data.sample(10)"
   ]
  },
  {
   "cell_type": "code",
   "execution_count": null,
   "metadata": {
    "colab": {
     "base_uri": "https://localhost:8080/"
    },
    "id": "ptP7yZPVnF_S",
    "outputId": "e899ffe7-3d6f-4ec1-9cd0-5d5d6484175b"
   },
   "outputs": [
    {
     "name": "stdout",
     "output_type": "stream",
     "text": [
      "Encoded labels: [2 2 2 ... 1 1 1]\n",
      "Mapping of encoded labels to original labels:\n",
      "0: Negative\n",
      "1: Neutrally\n",
      "2: Positive\n"
     ]
    }
   ],
   "source": [
    "Message = data['Message'].values\n",
    "Sentiment = data['Sentiment'].values\n",
    "encoder = LabelEncoder()\n",
    "encoded_labels = encoder.fit_transform(Sentiment)\n",
    "print(\"Encoded labels:\", encoded_labels)\n",
    "print(\"Mapping of encoded labels to original labels:\")\n",
    "\n",
    "for label, original_label in enumerate(encoder.classes_):\n",
    "    print(f\"{label}: {original_label}\")"
   ]
  },
  {
   "cell_type": "code",
   "execution_count": null,
   "metadata": {
    "id": "_JKaSsgtnVAE"
   },
   "outputs": [],
   "source": [
    "# แบ่งข้อมูลเป็นชุดฝึกและชุดทดสอบ\n",
    "train_sentences, test_sentences, train_labels, test_labels = train_test_split(Message, encoded_labels, stratify=encoded_labels, test_size=0.1, random_state=42)"
   ]
  },
  {
   "cell_type": "code",
   "execution_count": null,
   "metadata": {
    "colab": {
     "base_uri": "https://localhost:8080/"
    },
    "id": "gXXREmU1ndv5",
    "outputId": "02a25c7b-8c2d-4efa-a819-bff87cca6f7e"
   },
   "outputs": [
    {
     "name": "stdout",
     "output_type": "stream",
     "text": [
      "TF-IDF train shape: torch.Size([3816, 1000])\n",
      "TF-IDF test shape: torch.Size([450, 1000])\n",
      "TF-IDF val shape: torch.Size([225, 1000])\n"
     ]
    }
   ],
   "source": [
    "val_size = int(len(test_sentences)/2)\n",
    "train = list(train_sentences)[:(len(train_sentences)-val_size)]\n",
    "val = list(train_sentences)[(len(train_sentences)-val_size):]\n",
    "test = list(test_sentences)\n",
    "\n",
    "tfidf_vectorizer = TfidfVectorizer(max_features=1000, dtype=np.float32)\n",
    "\n",
    "#ใช้ชุดเทรน ทำ vectorizer\n",
    "tfidfX_train = tfidf_vectorizer.fit_transform(train)\n",
    "tfidfX_train = torch.tensor(tfidfX_train.toarray())\n",
    "\n",
    "tfidfX_val = tfidf_vectorizer.transform(val)\n",
    "tfidfX_val = torch.tensor(tfidfX_val.toarray())\n",
    "\n",
    "tfidfX_test = tfidf_vectorizer.transform(test)\n",
    "tfidfX_test = torch.tensor(tfidfX_test.toarray())\n",
    "\n",
    "print(\"TF-IDF train shape:\", tfidfX_train.shape)\n",
    "print(\"TF-IDF test shape:\", tfidfX_test.shape)\n",
    "print(\"TF-IDF val shape:\", tfidfX_val.shape)"
   ]
  },
  {
   "cell_type": "code",
   "execution_count": null,
   "metadata": {
    "colab": {
     "base_uri": "https://localhost:8080/"
    },
    "id": "VPVgeq4lnjSw",
    "outputId": "a1c35245-5345-4b01-8eb5-12cb48fe6633"
   },
   "outputs": [
    {
     "name": "stdout",
     "output_type": "stream",
     "text": [
      "Y train shape: torch.Size([3816])\n",
      "Y test shape: torch.Size([225])\n",
      "Y shape: torch.Size([450])\n"
     ]
    }
   ],
   "source": [
    "Y_train = torch.squeeze(torch.tensor(list(train_labels[:(len(train_sentences)-val_size)])).float())\n",
    "Y_val = torch.squeeze(torch.tensor(train_labels[(len(train_sentences)-val_size):]).float())\n",
    "Y_test = torch.squeeze(torch.tensor(test_labels).float())\n",
    "\n",
    "print(\"Y train shape:\", Y_train.shape)\n",
    "print(\"Y test shape:\", Y_val.shape)\n",
    "print(\"Y shape:\", Y_test.shape)"
   ]
  },
  {
   "cell_type": "code",
   "execution_count": null,
   "metadata": {
    "colab": {
     "base_uri": "https://localhost:8080/"
    },
    "id": "OKPMQV7SoFOx",
    "outputId": "8b79bdce-6bb2-456f-aa80-fda3b56967f7"
   },
   "outputs": [
    {
     "name": "stdout",
     "output_type": "stream",
     "text": [
      "Device available for running: \n",
      "cuda\n"
     ]
    }
   ],
   "source": [
    "device = torch.device(\"cuda\" if torch.cuda.is_available() else \"cpu\")\n",
    "print(\"Device available for running: \")\n",
    "print(device)"
   ]
  },
  {
   "cell_type": "code",
   "execution_count": null,
   "metadata": {
    "id": "Xz3ZmpVooQJq"
   },
   "outputs": [],
   "source": [
    "class FFNN(nn.Module):\n",
    "    def __init__(self, input_dim, hidden_dim_1, hidden_dim_2, output_dim):\n",
    "        super(FFNN, self).__init__()\n",
    "\n",
    "        # Linear function 1\n",
    "        self.layer_1 = nn.Linear(input_dim, hidden_dim_1)\n",
    "\n",
    "        # Non-linearity 1\n",
    "        self.relu_1 = nn.ReLU()\n",
    "\n",
    "        # Linear function 2\n",
    "        self.layer_2 = nn.Linear(hidden_dim_1, hidden_dim_2)\n",
    "        # Non-linearity 2\n",
    "        self.relu_2 = nn.ReLU()\n",
    "\n",
    "        # Linear function 3\n",
    "        self.layer_3 = nn.Linear(hidden_dim_2, output_dim)\n",
    "\n",
    "    def forward(self, x):\n",
    "        out = self.layer_1(x)\n",
    "        out = self.relu_1(out)\n",
    "\n",
    "        out = self.layer_2(out)\n",
    "        out = self.relu_2(out)\n",
    "\n",
    "        out = self.layer_3(out)\n",
    "\n",
    "        return torch.sigmoid(out)"
   ]
  },
  {
   "cell_type": "code",
   "execution_count": null,
   "metadata": {
    "colab": {
     "base_uri": "https://localhost:8080/"
    },
    "id": "BUGmuwzHoQ8l",
    "outputId": "6e482dbf-b6b4-4e4c-8fd9-a65331dc08fa"
   },
   "outputs": [
    {
     "data": {
      "text/plain": [
       "FFNN(\n",
       "  (layer_1): Linear(in_features=1000, out_features=512, bias=True)\n",
       "  (relu_1): ReLU()\n",
       "  (layer_2): Linear(in_features=512, out_features=512, bias=True)\n",
       "  (relu_2): ReLU()\n",
       "  (layer_3): Linear(in_features=512, out_features=3, bias=True)\n",
       ")"
      ]
     },
     "execution_count": 35,
     "metadata": {},
     "output_type": "execute_result"
    }
   ],
   "source": [
    "# Define the number of classes\n",
    "num_classes = 3\n",
    "\n",
    "# Define the input and hidden dimensions\n",
    "input_dim = tfidfX_train.shape[1]\n",
    "hidden_dim_1 = 512\n",
    "hidden_dim_2 = 512\n",
    "output_dim = num_classes\n",
    "\n",
    "# Define the model with the appropriate output dimension\n",
    "first_model = FFNN(input_dim, hidden_dim_1, hidden_dim_2, num_classes)\n",
    "\n",
    "# Define the loss function\n",
    "criterion = nn.CrossEntropyLoss().to(device)\n",
    "\n",
    "# Define the optimizer\n",
    "optimizer = optim.Adam(first_model.parameters(), lr=0.1e-4, weight_decay=1e-3)\n",
    "\n",
    "# Transfer the model to the GPU if available\n",
    "first_model.to(device)"
   ]
  },
  {
   "cell_type": "code",
   "execution_count": null,
   "metadata": {
    "colab": {
     "base_uri": "https://localhost:8080/"
    },
    "id": "gY46xcMVolLZ",
    "outputId": "bcabb30e-212f-4950-f3d3-4620281bd952"
   },
   "outputs": [
    {
     "name": "stdout",
     "output_type": "stream",
     "text": [
      "epoch 0\n"
     ]
    },
    {
     "name": "stderr",
     "output_type": "stream",
     "text": [
      "239it [00:00, 257.47it/s]\n"
     ]
    },
    {
     "name": "stdout",
     "output_type": "stream",
     "text": [
      "save best_model...\n",
      "Epoch: 0 \n",
      "Train_loss: 1.0986 Train Accuracy: 0.3345 \n",
      "Validation_loss:   1.0989 Validation Accuracy:   0.3111 \n",
      "\n",
      "epoch 1\n"
     ]
    },
    {
     "name": "stderr",
     "output_type": "stream",
     "text": [
      "239it [00:00, 358.82it/s]\n"
     ]
    },
    {
     "name": "stdout",
     "output_type": "stream",
     "text": [
      "save best_model...\n",
      "Epoch: 1 \n",
      "Train_loss: 1.0983 Train Accuracy: 0.3345 \n",
      "Validation_loss:   1.0987 Validation Accuracy:   0.3111 \n",
      "\n",
      "epoch 2\n"
     ]
    },
    {
     "name": "stderr",
     "output_type": "stream",
     "text": [
      "239it [00:01, 231.56it/s]\n"
     ]
    },
    {
     "name": "stdout",
     "output_type": "stream",
     "text": [
      "save best_model...\n",
      "Epoch: 2 \n",
      "Train_loss: 1.0981 Train Accuracy: 0.3345 \n",
      "Validation_loss:   1.0985 Validation Accuracy:   0.3111 \n",
      "\n",
      "epoch 3\n"
     ]
    },
    {
     "name": "stderr",
     "output_type": "stream",
     "text": [
      "239it [00:01, 222.87it/s]\n"
     ]
    },
    {
     "name": "stdout",
     "output_type": "stream",
     "text": [
      "save best_model...\n",
      "Epoch: 3 \n",
      "Train_loss: 1.0979 Train Accuracy: 0.3345 \n",
      "Validation_loss:   1.0982 Validation Accuracy:   0.3111 \n",
      "\n",
      "epoch 4\n"
     ]
    },
    {
     "name": "stderr",
     "output_type": "stream",
     "text": [
      "239it [00:00, 428.92it/s]\n"
     ]
    },
    {
     "name": "stdout",
     "output_type": "stream",
     "text": [
      "save best_model...\n",
      "Epoch: 4 \n",
      "Train_loss: 1.0976 Train Accuracy: 0.3345 \n",
      "Validation_loss:   1.0978 Validation Accuracy:   0.3111 \n",
      "\n",
      "epoch 5\n"
     ]
    },
    {
     "name": "stderr",
     "output_type": "stream",
     "text": [
      "239it [00:00, 508.11it/s]\n"
     ]
    },
    {
     "name": "stdout",
     "output_type": "stream",
     "text": [
      "save best_model...\n",
      "Epoch: 5 \n",
      "Train_loss: 1.0972 Train Accuracy: 0.3371 \n",
      "Validation_loss:   1.0973 Validation Accuracy:   0.32 \n",
      "\n",
      "epoch 6\n"
     ]
    },
    {
     "name": "stderr",
     "output_type": "stream",
     "text": [
      "239it [00:00, 517.70it/s]\n"
     ]
    },
    {
     "name": "stdout",
     "output_type": "stream",
     "text": [
      "save best_model...\n",
      "Epoch: 6 \n",
      "Train_loss: 1.0966 Train Accuracy: 0.3593 \n",
      "Validation_loss:   1.0965 Validation Accuracy:   0.3378 \n",
      "\n",
      "epoch 7\n"
     ]
    },
    {
     "name": "stderr",
     "output_type": "stream",
     "text": [
      "239it [00:00, 515.29it/s]\n"
     ]
    },
    {
     "name": "stdout",
     "output_type": "stream",
     "text": [
      "save best_model...\n",
      "Epoch: 7 \n",
      "Train_loss: 1.0957 Train Accuracy: 0.4255 \n",
      "Validation_loss:   1.0953 Validation Accuracy:   0.48 \n",
      "\n",
      "epoch 8\n"
     ]
    },
    {
     "name": "stderr",
     "output_type": "stream",
     "text": [
      "239it [00:00, 528.41it/s]\n"
     ]
    },
    {
     "name": "stdout",
     "output_type": "stream",
     "text": [
      "save best_model...\n",
      "Epoch: 8 \n",
      "Train_loss: 1.0944 Train Accuracy: 0.5165 \n",
      "Validation_loss:   1.0935 Validation Accuracy:   0.6133 \n",
      "\n",
      "epoch 9\n"
     ]
    },
    {
     "name": "stderr",
     "output_type": "stream",
     "text": [
      "239it [00:00, 511.22it/s]\n"
     ]
    },
    {
     "name": "stdout",
     "output_type": "stream",
     "text": [
      "save best_model...\n",
      "Epoch: 9 \n",
      "Train_loss: 1.0924 Train Accuracy: 0.5884 \n",
      "Validation_loss:   1.0909 Validation Accuracy:   0.6533 \n",
      "\n",
      "epoch 10\n"
     ]
    },
    {
     "name": "stderr",
     "output_type": "stream",
     "text": [
      "239it [00:00, 496.99it/s]\n"
     ]
    },
    {
     "name": "stdout",
     "output_type": "stream",
     "text": [
      "save best_model...\n",
      "Epoch: 10 \n",
      "Train_loss: 1.0895 Train Accuracy: 0.6247 \n",
      "Validation_loss:   1.0869 Validation Accuracy:   0.7022 \n",
      "\n",
      "epoch 11\n"
     ]
    },
    {
     "name": "stderr",
     "output_type": "stream",
     "text": [
      "239it [00:00, 517.49it/s]\n"
     ]
    },
    {
     "name": "stdout",
     "output_type": "stream",
     "text": [
      "save best_model...\n",
      "Epoch: 11 \n",
      "Train_loss: 1.0852 Train Accuracy: 0.6438 \n",
      "Validation_loss:   1.0813 Validation Accuracy:   0.6844 \n",
      "\n",
      "epoch 12\n"
     ]
    },
    {
     "name": "stderr",
     "output_type": "stream",
     "text": [
      "239it [00:00, 528.51it/s]\n"
     ]
    },
    {
     "name": "stdout",
     "output_type": "stream",
     "text": [
      "save best_model...\n",
      "Epoch: 12 \n",
      "Train_loss: 1.0791 Train Accuracy: 0.6462 \n",
      "Validation_loss:   1.0736 Validation Accuracy:   0.6933 \n",
      "\n",
      "epoch 13\n"
     ]
    },
    {
     "name": "stderr",
     "output_type": "stream",
     "text": [
      "239it [00:00, 520.61it/s]\n"
     ]
    },
    {
     "name": "stdout",
     "output_type": "stream",
     "text": [
      "save best_model...\n",
      "Epoch: 13 \n",
      "Train_loss: 1.071 Train Accuracy: 0.6574 \n",
      "Validation_loss:   1.0636 Validation Accuracy:   0.6933 \n",
      "\n",
      "epoch 14\n"
     ]
    },
    {
     "name": "stderr",
     "output_type": "stream",
     "text": [
      "239it [00:00, 527.11it/s]\n"
     ]
    },
    {
     "name": "stdout",
     "output_type": "stream",
     "text": [
      "save best_model...\n",
      "Epoch: 14 \n",
      "Train_loss: 1.0608 Train Accuracy: 0.6634 \n",
      "Validation_loss:   1.0514 Validation Accuracy:   0.6933 \n",
      "\n",
      "epoch 15\n"
     ]
    },
    {
     "name": "stderr",
     "output_type": "stream",
     "text": [
      "239it [00:00, 518.37it/s]\n"
     ]
    },
    {
     "name": "stdout",
     "output_type": "stream",
     "text": [
      "save best_model...\n",
      "Epoch: 15 \n",
      "Train_loss: 1.0487 Train Accuracy: 0.6642 \n",
      "Validation_loss:   1.0373 Validation Accuracy:   0.6844 \n",
      "\n",
      "epoch 16\n"
     ]
    },
    {
     "name": "stderr",
     "output_type": "stream",
     "text": [
      "239it [00:00, 511.72it/s]\n"
     ]
    },
    {
     "name": "stdout",
     "output_type": "stream",
     "text": [
      "save best_model...\n",
      "Epoch: 16 \n",
      "Train_loss: 1.0353 Train Accuracy: 0.6627 \n",
      "Validation_loss:   1.0223 Validation Accuracy:   0.6667 \n",
      "\n",
      "epoch 17\n"
     ]
    },
    {
     "name": "stderr",
     "output_type": "stream",
     "text": [
      "239it [00:00, 521.75it/s]\n"
     ]
    },
    {
     "name": "stdout",
     "output_type": "stream",
     "text": [
      "save best_model...\n",
      "Epoch: 17 \n",
      "Train_loss: 1.0213 Train Accuracy: 0.6603 \n",
      "Validation_loss:   1.0072 Validation Accuracy:   0.68 \n",
      "\n",
      "epoch 18\n"
     ]
    },
    {
     "name": "stderr",
     "output_type": "stream",
     "text": [
      "239it [00:00, 511.02it/s]\n"
     ]
    },
    {
     "name": "stdout",
     "output_type": "stream",
     "text": [
      "save best_model...\n",
      "Epoch: 18 \n",
      "Train_loss: 1.0075 Train Accuracy: 0.6566 \n",
      "Validation_loss:   0.9929 Validation Accuracy:   0.6756 \n",
      "\n",
      "epoch 19\n"
     ]
    },
    {
     "name": "stderr",
     "output_type": "stream",
     "text": [
      "239it [00:00, 523.48it/s]\n"
     ]
    },
    {
     "name": "stdout",
     "output_type": "stream",
     "text": [
      "save best_model...\n",
      "Epoch: 19 \n",
      "Train_loss: 0.9946 Train Accuracy: 0.6548 \n",
      "Validation_loss:   0.9796 Validation Accuracy:   0.6667 \n",
      "\n",
      "epoch 20\n"
     ]
    },
    {
     "name": "stderr",
     "output_type": "stream",
     "text": [
      "239it [00:00, 514.28it/s]\n"
     ]
    },
    {
     "name": "stdout",
     "output_type": "stream",
     "text": [
      "save best_model...\n",
      "Epoch: 20 \n",
      "Train_loss: 0.9827 Train Accuracy: 0.6501 \n",
      "Validation_loss:   0.9678 Validation Accuracy:   0.6667 \n",
      "\n",
      "epoch 21\n"
     ]
    },
    {
     "name": "stderr",
     "output_type": "stream",
     "text": [
      "239it [00:00, 522.78it/s]\n"
     ]
    },
    {
     "name": "stdout",
     "output_type": "stream",
     "text": [
      "save best_model...\n",
      "Epoch: 21 \n",
      "Train_loss: 0.9722 Train Accuracy: 0.6488 \n",
      "Validation_loss:   0.9574 Validation Accuracy:   0.6667 \n",
      "\n",
      "epoch 22\n"
     ]
    },
    {
     "name": "stderr",
     "output_type": "stream",
     "text": [
      "239it [00:00, 505.69it/s]\n"
     ]
    },
    {
     "name": "stdout",
     "output_type": "stream",
     "text": [
      "save best_model...\n",
      "Epoch: 22 \n",
      "Train_loss: 0.963 Train Accuracy: 0.6478 \n",
      "Validation_loss:   0.9485 Validation Accuracy:   0.6622 \n",
      "\n",
      "epoch 23\n"
     ]
    },
    {
     "name": "stderr",
     "output_type": "stream",
     "text": [
      "239it [00:00, 512.84it/s]\n"
     ]
    },
    {
     "name": "stdout",
     "output_type": "stream",
     "text": [
      "save best_model...\n",
      "Epoch: 23 \n",
      "Train_loss: 0.955 Train Accuracy: 0.6462 \n",
      "Validation_loss:   0.9408 Validation Accuracy:   0.6578 \n",
      "\n",
      "epoch 24\n"
     ]
    },
    {
     "name": "stderr",
     "output_type": "stream",
     "text": [
      "239it [00:00, 500.63it/s]\n"
     ]
    },
    {
     "name": "stdout",
     "output_type": "stream",
     "text": [
      "save best_model...\n",
      "Epoch: 24 \n",
      "Train_loss: 0.9481 Train Accuracy: 0.6438 \n",
      "Validation_loss:   0.9342 Validation Accuracy:   0.6533 \n",
      "\n",
      "epoch 25\n"
     ]
    },
    {
     "name": "stderr",
     "output_type": "stream",
     "text": [
      "239it [00:00, 457.93it/s]\n"
     ]
    },
    {
     "name": "stdout",
     "output_type": "stream",
     "text": [
      "save best_model...\n",
      "Epoch: 25 \n",
      "Train_loss: 0.9422 Train Accuracy: 0.6433 \n",
      "Validation_loss:   0.9285 Validation Accuracy:   0.6533 \n",
      "\n",
      "epoch 26\n"
     ]
    },
    {
     "name": "stderr",
     "output_type": "stream",
     "text": [
      "239it [00:00, 412.98it/s]\n"
     ]
    },
    {
     "name": "stdout",
     "output_type": "stream",
     "text": [
      "save best_model...\n",
      "Epoch: 26 \n",
      "Train_loss: 0.937 Train Accuracy: 0.6457 \n",
      "Validation_loss:   0.9236 Validation Accuracy:   0.6533 \n",
      "\n",
      "epoch 27\n"
     ]
    },
    {
     "name": "stderr",
     "output_type": "stream",
     "text": [
      "239it [00:00, 433.96it/s]\n"
     ]
    },
    {
     "name": "stdout",
     "output_type": "stream",
     "text": [
      "save best_model...\n",
      "Epoch: 27 \n",
      "Train_loss: 0.9324 Train Accuracy: 0.6483 \n",
      "Validation_loss:   0.9194 Validation Accuracy:   0.6533 \n",
      "\n",
      "epoch 28\n"
     ]
    },
    {
     "name": "stderr",
     "output_type": "stream",
     "text": [
      "239it [00:00, 406.53it/s]\n"
     ]
    },
    {
     "name": "stdout",
     "output_type": "stream",
     "text": [
      "save best_model...\n",
      "Epoch: 28 \n",
      "Train_loss: 0.9284 Train Accuracy: 0.6498 \n",
      "Validation_loss:   0.9158 Validation Accuracy:   0.6578 \n",
      "\n",
      "epoch 29\n"
     ]
    },
    {
     "name": "stderr",
     "output_type": "stream",
     "text": [
      "239it [00:00, 485.83it/s]\n"
     ]
    },
    {
     "name": "stdout",
     "output_type": "stream",
     "text": [
      "save best_model...\n",
      "Epoch: 29 \n",
      "Train_loss: 0.9248 Train Accuracy: 0.6512 \n",
      "Validation_loss:   0.9126 Validation Accuracy:   0.6578 \n",
      "\n",
      "epoch 30\n"
     ]
    },
    {
     "name": "stderr",
     "output_type": "stream",
     "text": [
      "239it [00:00, 503.13it/s]\n"
     ]
    },
    {
     "name": "stdout",
     "output_type": "stream",
     "text": [
      "save best_model...\n",
      "Epoch: 30 \n",
      "Train_loss: 0.9217 Train Accuracy: 0.653 \n",
      "Validation_loss:   0.9098 Validation Accuracy:   0.6578 \n",
      "\n",
      "epoch 31\n"
     ]
    },
    {
     "name": "stderr",
     "output_type": "stream",
     "text": [
      "239it [00:00, 500.46it/s]\n"
     ]
    },
    {
     "name": "stdout",
     "output_type": "stream",
     "text": [
      "save best_model...\n",
      "Epoch: 31 \n",
      "Train_loss: 0.9188 Train Accuracy: 0.6556 \n",
      "Validation_loss:   0.9073 Validation Accuracy:   0.6622 \n",
      "\n",
      "epoch 32\n"
     ]
    },
    {
     "name": "stderr",
     "output_type": "stream",
     "text": [
      "239it [00:00, 520.14it/s]\n"
     ]
    },
    {
     "name": "stdout",
     "output_type": "stream",
     "text": [
      "save best_model...\n",
      "Epoch: 32 \n",
      "Train_loss: 0.9162 Train Accuracy: 0.6577 \n",
      "Validation_loss:   0.905 Validation Accuracy:   0.6622 \n",
      "\n",
      "epoch 33\n"
     ]
    },
    {
     "name": "stderr",
     "output_type": "stream",
     "text": [
      "239it [00:00, 504.69it/s]\n"
     ]
    },
    {
     "name": "stdout",
     "output_type": "stream",
     "text": [
      "save best_model...\n",
      "Epoch: 33 \n",
      "Train_loss: 0.9138 Train Accuracy: 0.6627 \n",
      "Validation_loss:   0.903 Validation Accuracy:   0.6622 \n",
      "\n",
      "epoch 34\n"
     ]
    },
    {
     "name": "stderr",
     "output_type": "stream",
     "text": [
      "239it [00:00, 501.66it/s]\n"
     ]
    },
    {
     "name": "stdout",
     "output_type": "stream",
     "text": [
      "save best_model...\n",
      "Epoch: 34 \n",
      "Train_loss: 0.9116 Train Accuracy: 0.6661 \n",
      "Validation_loss:   0.9012 Validation Accuracy:   0.6578 \n",
      "\n",
      "epoch 35\n"
     ]
    },
    {
     "name": "stderr",
     "output_type": "stream",
     "text": [
      "239it [00:00, 495.41it/s]\n"
     ]
    },
    {
     "name": "stdout",
     "output_type": "stream",
     "text": [
      "save best_model...\n",
      "Epoch: 35 \n",
      "Train_loss: 0.9095 Train Accuracy: 0.6687 \n",
      "Validation_loss:   0.8996 Validation Accuracy:   0.6622 \n",
      "\n",
      "epoch 36\n"
     ]
    },
    {
     "name": "stderr",
     "output_type": "stream",
     "text": [
      "239it [00:00, 526.08it/s]\n"
     ]
    },
    {
     "name": "stdout",
     "output_type": "stream",
     "text": [
      "save best_model...\n",
      "Epoch: 36 \n",
      "Train_loss: 0.9076 Train Accuracy: 0.6723 \n",
      "Validation_loss:   0.898 Validation Accuracy:   0.6533 \n",
      "\n",
      "epoch 37\n"
     ]
    },
    {
     "name": "stderr",
     "output_type": "stream",
     "text": [
      "239it [00:00, 505.55it/s]\n"
     ]
    },
    {
     "name": "stdout",
     "output_type": "stream",
     "text": [
      "save best_model...\n",
      "Epoch: 37 \n",
      "Train_loss: 0.9058 Train Accuracy: 0.6731 \n",
      "Validation_loss:   0.8966 Validation Accuracy:   0.6578 \n",
      "\n",
      "epoch 38\n"
     ]
    },
    {
     "name": "stderr",
     "output_type": "stream",
     "text": [
      "239it [00:00, 504.05it/s]\n"
     ]
    },
    {
     "name": "stdout",
     "output_type": "stream",
     "text": [
      "save best_model...\n",
      "Epoch: 38 \n",
      "Train_loss: 0.904 Train Accuracy: 0.677 \n",
      "Validation_loss:   0.8953 Validation Accuracy:   0.6533 \n",
      "\n",
      "epoch 39\n"
     ]
    },
    {
     "name": "stderr",
     "output_type": "stream",
     "text": [
      "239it [00:00, 503.57it/s]\n"
     ]
    },
    {
     "name": "stdout",
     "output_type": "stream",
     "text": [
      "save best_model...\n",
      "Epoch: 39 \n",
      "Train_loss: 0.9024 Train Accuracy: 0.6794 \n",
      "Validation_loss:   0.894 Validation Accuracy:   0.6533 \n",
      "\n",
      "epoch 40\n"
     ]
    },
    {
     "name": "stderr",
     "output_type": "stream",
     "text": [
      "239it [00:00, 504.20it/s]\n"
     ]
    },
    {
     "name": "stdout",
     "output_type": "stream",
     "text": [
      "save best_model...\n",
      "Epoch: 40 \n",
      "Train_loss: 0.9008 Train Accuracy: 0.6807 \n",
      "Validation_loss:   0.8928 Validation Accuracy:   0.6533 \n",
      "\n",
      "epoch 41\n"
     ]
    },
    {
     "name": "stderr",
     "output_type": "stream",
     "text": [
      "239it [00:00, 501.21it/s]\n"
     ]
    },
    {
     "name": "stdout",
     "output_type": "stream",
     "text": [
      "save best_model...\n",
      "Epoch: 41 \n",
      "Train_loss: 0.8993 Train Accuracy: 0.6836 \n",
      "Validation_loss:   0.8916 Validation Accuracy:   0.6622 \n",
      "\n",
      "epoch 42\n"
     ]
    },
    {
     "name": "stderr",
     "output_type": "stream",
     "text": [
      "239it [00:00, 497.71it/s]\n"
     ]
    },
    {
     "name": "stdout",
     "output_type": "stream",
     "text": [
      "save best_model...\n",
      "Epoch: 42 \n",
      "Train_loss: 0.8978 Train Accuracy: 0.6875 \n",
      "Validation_loss:   0.8905 Validation Accuracy:   0.6578 \n",
      "\n",
      "epoch 43\n"
     ]
    },
    {
     "name": "stderr",
     "output_type": "stream",
     "text": [
      "239it [00:00, 497.15it/s]\n"
     ]
    },
    {
     "name": "stdout",
     "output_type": "stream",
     "text": [
      "save best_model...\n",
      "Epoch: 43 \n",
      "Train_loss: 0.8963 Train Accuracy: 0.6899 \n",
      "Validation_loss:   0.8894 Validation Accuracy:   0.6578 \n",
      "\n",
      "epoch 44\n"
     ]
    },
    {
     "name": "stderr",
     "output_type": "stream",
     "text": [
      "239it [00:00, 496.19it/s]\n"
     ]
    },
    {
     "name": "stdout",
     "output_type": "stream",
     "text": [
      "save best_model...\n",
      "Epoch: 44 \n",
      "Train_loss: 0.8949 Train Accuracy: 0.6919 \n",
      "Validation_loss:   0.8883 Validation Accuracy:   0.6667 \n",
      "\n",
      "epoch 45\n"
     ]
    },
    {
     "name": "stderr",
     "output_type": "stream",
     "text": [
      "239it [00:00, 486.22it/s]\n"
     ]
    },
    {
     "name": "stdout",
     "output_type": "stream",
     "text": [
      "save best_model...\n",
      "Epoch: 45 \n",
      "Train_loss: 0.8935 Train Accuracy: 0.6912 \n",
      "Validation_loss:   0.8873 Validation Accuracy:   0.6622 \n",
      "\n",
      "epoch 46\n"
     ]
    },
    {
     "name": "stderr",
     "output_type": "stream",
     "text": [
      "239it [00:00, 500.90it/s]\n"
     ]
    },
    {
     "name": "stdout",
     "output_type": "stream",
     "text": [
      "save best_model...\n",
      "Epoch: 46 \n",
      "Train_loss: 0.8921 Train Accuracy: 0.6922 \n",
      "Validation_loss:   0.8862 Validation Accuracy:   0.6667 \n",
      "\n",
      "epoch 47\n"
     ]
    },
    {
     "name": "stderr",
     "output_type": "stream",
     "text": [
      "239it [00:00, 517.62it/s]\n"
     ]
    },
    {
     "name": "stdout",
     "output_type": "stream",
     "text": [
      "save best_model...\n",
      "Epoch: 47 \n",
      "Train_loss: 0.8907 Train Accuracy: 0.6938 \n",
      "Validation_loss:   0.8851 Validation Accuracy:   0.6622 \n",
      "\n",
      "epoch 48\n"
     ]
    },
    {
     "name": "stderr",
     "output_type": "stream",
     "text": [
      "239it [00:00, 493.46it/s]\n"
     ]
    },
    {
     "name": "stdout",
     "output_type": "stream",
     "text": [
      "save best_model...\n",
      "Epoch: 48 \n",
      "Train_loss: 0.8893 Train Accuracy: 0.6964 \n",
      "Validation_loss:   0.8841 Validation Accuracy:   0.6667 \n",
      "\n",
      "epoch 49\n"
     ]
    },
    {
     "name": "stderr",
     "output_type": "stream",
     "text": [
      "239it [00:00, 413.44it/s]\n"
     ]
    },
    {
     "name": "stdout",
     "output_type": "stream",
     "text": [
      "save best_model...\n",
      "Epoch: 49 \n",
      "Train_loss: 0.8879 Train Accuracy: 0.698 \n",
      "Validation_loss:   0.883 Validation Accuracy:   0.6711 \n",
      "\n",
      "epoch 50\n"
     ]
    },
    {
     "name": "stderr",
     "output_type": "stream",
     "text": [
      "239it [00:00, 431.17it/s]\n"
     ]
    },
    {
     "name": "stdout",
     "output_type": "stream",
     "text": [
      "save best_model...\n",
      "Epoch: 50 \n",
      "Train_loss: 0.8865 Train Accuracy: 0.6998 \n",
      "Validation_loss:   0.8819 Validation Accuracy:   0.6756 \n",
      "\n",
      "epoch 51\n"
     ]
    },
    {
     "name": "stderr",
     "output_type": "stream",
     "text": [
      "239it [00:00, 386.36it/s]\n"
     ]
    },
    {
     "name": "stdout",
     "output_type": "stream",
     "text": [
      "save best_model...\n",
      "Epoch: 51 \n",
      "Train_loss: 0.8851 Train Accuracy: 0.7014 \n",
      "Validation_loss:   0.8808 Validation Accuracy:   0.6756 \n",
      "\n",
      "epoch 52\n"
     ]
    },
    {
     "name": "stderr",
     "output_type": "stream",
     "text": [
      "239it [00:00, 470.91it/s]\n"
     ]
    },
    {
     "name": "stdout",
     "output_type": "stream",
     "text": [
      "save best_model...\n",
      "Epoch: 52 \n",
      "Train_loss: 0.8836 Train Accuracy: 0.7024 \n",
      "Validation_loss:   0.8797 Validation Accuracy:   0.68 \n",
      "\n",
      "epoch 53\n"
     ]
    },
    {
     "name": "stderr",
     "output_type": "stream",
     "text": [
      "239it [00:00, 481.96it/s]\n"
     ]
    },
    {
     "name": "stdout",
     "output_type": "stream",
     "text": [
      "save best_model...\n",
      "Epoch: 53 \n",
      "Train_loss: 0.8822 Train Accuracy: 0.7045 \n",
      "Validation_loss:   0.8785 Validation Accuracy:   0.6889 \n",
      "\n",
      "epoch 54\n"
     ]
    },
    {
     "name": "stderr",
     "output_type": "stream",
     "text": [
      "239it [00:00, 491.40it/s]\n"
     ]
    },
    {
     "name": "stdout",
     "output_type": "stream",
     "text": [
      "save best_model...\n",
      "Epoch: 54 \n",
      "Train_loss: 0.8807 Train Accuracy: 0.705 \n",
      "Validation_loss:   0.8773 Validation Accuracy:   0.6889 \n",
      "\n",
      "epoch 55\n"
     ]
    },
    {
     "name": "stderr",
     "output_type": "stream",
     "text": [
      "239it [00:00, 480.14it/s]\n"
     ]
    },
    {
     "name": "stdout",
     "output_type": "stream",
     "text": [
      "save best_model...\n",
      "Epoch: 55 \n",
      "Train_loss: 0.8792 Train Accuracy: 0.7069 \n",
      "Validation_loss:   0.8761 Validation Accuracy:   0.6844 \n",
      "\n",
      "epoch 56\n"
     ]
    },
    {
     "name": "stderr",
     "output_type": "stream",
     "text": [
      "239it [00:00, 508.15it/s]\n"
     ]
    },
    {
     "name": "stdout",
     "output_type": "stream",
     "text": [
      "save best_model...\n",
      "Epoch: 56 \n",
      "Train_loss: 0.8777 Train Accuracy: 0.7095 \n",
      "Validation_loss:   0.8748 Validation Accuracy:   0.6844 \n",
      "\n",
      "epoch 57\n"
     ]
    },
    {
     "name": "stderr",
     "output_type": "stream",
     "text": [
      "239it [00:00, 502.44it/s]\n"
     ]
    },
    {
     "name": "stdout",
     "output_type": "stream",
     "text": [
      "save best_model...\n",
      "Epoch: 57 \n",
      "Train_loss: 0.8762 Train Accuracy: 0.7118 \n",
      "Validation_loss:   0.8736 Validation Accuracy:   0.6889 \n",
      "\n",
      "epoch 58\n"
     ]
    },
    {
     "name": "stderr",
     "output_type": "stream",
     "text": [
      "239it [00:00, 510.30it/s]\n"
     ]
    },
    {
     "name": "stdout",
     "output_type": "stream",
     "text": [
      "save best_model...\n",
      "Epoch: 58 \n",
      "Train_loss: 0.8746 Train Accuracy: 0.7123 \n",
      "Validation_loss:   0.8722 Validation Accuracy:   0.6933 \n",
      "\n",
      "epoch 59\n"
     ]
    },
    {
     "name": "stderr",
     "output_type": "stream",
     "text": [
      "239it [00:00, 503.39it/s]\n"
     ]
    },
    {
     "name": "stdout",
     "output_type": "stream",
     "text": [
      "save best_model...\n",
      "Epoch: 59 \n",
      "Train_loss: 0.873 Train Accuracy: 0.7142 \n",
      "Validation_loss:   0.8709 Validation Accuracy:   0.6933 \n",
      "\n",
      "epoch 60\n"
     ]
    },
    {
     "name": "stderr",
     "output_type": "stream",
     "text": [
      "239it [00:00, 518.20it/s]\n"
     ]
    },
    {
     "name": "stdout",
     "output_type": "stream",
     "text": [
      "save best_model...\n",
      "Epoch: 60 \n",
      "Train_loss: 0.8713 Train Accuracy: 0.7157 \n",
      "Validation_loss:   0.8695 Validation Accuracy:   0.6933 \n",
      "\n",
      "epoch 61\n"
     ]
    },
    {
     "name": "stderr",
     "output_type": "stream",
     "text": [
      "239it [00:00, 510.89it/s]\n"
     ]
    },
    {
     "name": "stdout",
     "output_type": "stream",
     "text": [
      "save best_model...\n",
      "Epoch: 61 \n",
      "Train_loss: 0.8696 Train Accuracy: 0.7176 \n",
      "Validation_loss:   0.868 Validation Accuracy:   0.6978 \n",
      "\n",
      "epoch 62\n"
     ]
    },
    {
     "name": "stderr",
     "output_type": "stream",
     "text": [
      "239it [00:00, 516.18it/s]\n"
     ]
    },
    {
     "name": "stdout",
     "output_type": "stream",
     "text": [
      "save best_model...\n",
      "Epoch: 62 \n",
      "Train_loss: 0.8679 Train Accuracy: 0.7178 \n",
      "Validation_loss:   0.8665 Validation Accuracy:   0.7022 \n",
      "\n",
      "epoch 63\n"
     ]
    },
    {
     "name": "stderr",
     "output_type": "stream",
     "text": [
      "239it [00:00, 511.21it/s]\n"
     ]
    },
    {
     "name": "stdout",
     "output_type": "stream",
     "text": [
      "save best_model...\n",
      "Epoch: 63 \n",
      "Train_loss: 0.8662 Train Accuracy: 0.7194 \n",
      "Validation_loss:   0.865 Validation Accuracy:   0.7067 \n",
      "\n",
      "epoch 64\n"
     ]
    },
    {
     "name": "stderr",
     "output_type": "stream",
     "text": [
      "239it [00:00, 505.62it/s]\n"
     ]
    },
    {
     "name": "stdout",
     "output_type": "stream",
     "text": [
      "save best_model...\n",
      "Epoch: 64 \n",
      "Train_loss: 0.8644 Train Accuracy: 0.722 \n",
      "Validation_loss:   0.8635 Validation Accuracy:   0.7111 \n",
      "\n",
      "epoch 65\n"
     ]
    },
    {
     "name": "stderr",
     "output_type": "stream",
     "text": [
      "239it [00:00, 479.49it/s]\n"
     ]
    },
    {
     "name": "stdout",
     "output_type": "stream",
     "text": [
      "save best_model...\n",
      "Epoch: 65 \n",
      "Train_loss: 0.8627 Train Accuracy: 0.7236 \n",
      "Validation_loss:   0.8619 Validation Accuracy:   0.72 \n",
      "\n",
      "epoch 66\n"
     ]
    },
    {
     "name": "stderr",
     "output_type": "stream",
     "text": [
      "239it [00:00, 502.83it/s]\n"
     ]
    },
    {
     "name": "stdout",
     "output_type": "stream",
     "text": [
      "save best_model...\n",
      "Epoch: 66 \n",
      "Train_loss: 0.8609 Train Accuracy: 0.7283 \n",
      "Validation_loss:   0.8604 Validation Accuracy:   0.7244 \n",
      "\n",
      "epoch 67\n"
     ]
    },
    {
     "name": "stderr",
     "output_type": "stream",
     "text": [
      "239it [00:00, 509.06it/s]\n"
     ]
    },
    {
     "name": "stdout",
     "output_type": "stream",
     "text": [
      "save best_model...\n",
      "Epoch: 67 \n",
      "Train_loss: 0.8591 Train Accuracy: 0.7306 \n",
      "Validation_loss:   0.8588 Validation Accuracy:   0.7289 \n",
      "\n",
      "epoch 68\n"
     ]
    },
    {
     "name": "stderr",
     "output_type": "stream",
     "text": [
      "239it [00:00, 491.09it/s]\n"
     ]
    },
    {
     "name": "stdout",
     "output_type": "stream",
     "text": [
      "save best_model...\n",
      "Epoch: 68 \n",
      "Train_loss: 0.8573 Train Accuracy: 0.7309 \n",
      "Validation_loss:   0.8572 Validation Accuracy:   0.7333 \n",
      "\n",
      "epoch 69\n"
     ]
    },
    {
     "name": "stderr",
     "output_type": "stream",
     "text": [
      "239it [00:00, 484.67it/s]\n"
     ]
    },
    {
     "name": "stdout",
     "output_type": "stream",
     "text": [
      "save best_model...\n",
      "Epoch: 69 \n",
      "Train_loss: 0.8554 Train Accuracy: 0.7317 \n",
      "Validation_loss:   0.8557 Validation Accuracy:   0.7333 \n",
      "\n",
      "epoch 70\n"
     ]
    },
    {
     "name": "stderr",
     "output_type": "stream",
     "text": [
      "239it [00:00, 493.80it/s]\n"
     ]
    },
    {
     "name": "stdout",
     "output_type": "stream",
     "text": [
      "save best_model...\n",
      "Epoch: 70 \n",
      "Train_loss: 0.8536 Train Accuracy: 0.7333 \n",
      "Validation_loss:   0.8541 Validation Accuracy:   0.7333 \n",
      "\n",
      "epoch 71\n"
     ]
    },
    {
     "name": "stderr",
     "output_type": "stream",
     "text": [
      "239it [00:00, 511.49it/s]\n"
     ]
    },
    {
     "name": "stdout",
     "output_type": "stream",
     "text": [
      "save best_model...\n",
      "Epoch: 71 \n",
      "Train_loss: 0.8519 Train Accuracy: 0.7354 \n",
      "Validation_loss:   0.8526 Validation Accuracy:   0.7333 \n",
      "\n",
      "epoch 72\n"
     ]
    },
    {
     "name": "stderr",
     "output_type": "stream",
     "text": [
      "239it [00:00, 430.32it/s]\n"
     ]
    },
    {
     "name": "stdout",
     "output_type": "stream",
     "text": [
      "save best_model...\n",
      "Epoch: 72 \n",
      "Train_loss: 0.8501 Train Accuracy: 0.7369 \n",
      "Validation_loss:   0.8511 Validation Accuracy:   0.7333 \n",
      "\n",
      "epoch 73\n"
     ]
    },
    {
     "name": "stderr",
     "output_type": "stream",
     "text": [
      "239it [00:00, 444.31it/s]\n"
     ]
    },
    {
     "name": "stdout",
     "output_type": "stream",
     "text": [
      "save best_model...\n",
      "Epoch: 73 \n",
      "Train_loss: 0.8484 Train Accuracy: 0.7377 \n",
      "Validation_loss:   0.8496 Validation Accuracy:   0.7333 \n",
      "\n",
      "epoch 74\n"
     ]
    },
    {
     "name": "stderr",
     "output_type": "stream",
     "text": [
      "239it [00:00, 405.33it/s]\n"
     ]
    },
    {
     "name": "stdout",
     "output_type": "stream",
     "text": [
      "save best_model...\n",
      "Epoch: 74 \n",
      "Train_loss: 0.8467 Train Accuracy: 0.7385 \n",
      "Validation_loss:   0.8482 Validation Accuracy:   0.7333 \n",
      "\n",
      "epoch 75\n"
     ]
    },
    {
     "name": "stderr",
     "output_type": "stream",
     "text": [
      "239it [00:00, 446.79it/s]\n"
     ]
    },
    {
     "name": "stdout",
     "output_type": "stream",
     "text": [
      "save best_model...\n",
      "Epoch: 75 \n",
      "Train_loss: 0.845 Train Accuracy: 0.7388 \n",
      "Validation_loss:   0.8468 Validation Accuracy:   0.7333 \n",
      "\n",
      "epoch 76\n"
     ]
    },
    {
     "name": "stderr",
     "output_type": "stream",
     "text": [
      "239it [00:00, 506.36it/s]\n"
     ]
    },
    {
     "name": "stdout",
     "output_type": "stream",
     "text": [
      "save best_model...\n",
      "Epoch: 76 \n",
      "Train_loss: 0.8434 Train Accuracy: 0.7406 \n",
      "Validation_loss:   0.8455 Validation Accuracy:   0.7333 \n",
      "\n",
      "epoch 77\n"
     ]
    },
    {
     "name": "stderr",
     "output_type": "stream",
     "text": [
      "239it [00:00, 496.99it/s]\n"
     ]
    },
    {
     "name": "stdout",
     "output_type": "stream",
     "text": [
      "save best_model...\n",
      "Epoch: 77 \n",
      "Train_loss: 0.8418 Train Accuracy: 0.7406 \n",
      "Validation_loss:   0.8442 Validation Accuracy:   0.7289 \n",
      "\n",
      "epoch 78\n"
     ]
    },
    {
     "name": "stderr",
     "output_type": "stream",
     "text": [
      "239it [00:00, 505.63it/s]\n"
     ]
    },
    {
     "name": "stdout",
     "output_type": "stream",
     "text": [
      "save best_model...\n",
      "Epoch: 78 \n",
      "Train_loss: 0.8402 Train Accuracy: 0.7406 \n",
      "Validation_loss:   0.843 Validation Accuracy:   0.7289 \n",
      "\n",
      "epoch 79\n"
     ]
    },
    {
     "name": "stderr",
     "output_type": "stream",
     "text": [
      "239it [00:00, 492.81it/s]\n"
     ]
    },
    {
     "name": "stdout",
     "output_type": "stream",
     "text": [
      "save best_model...\n",
      "Epoch: 79 \n",
      "Train_loss: 0.8387 Train Accuracy: 0.7414 \n",
      "Validation_loss:   0.8419 Validation Accuracy:   0.7333 \n",
      "\n",
      "epoch 80\n"
     ]
    },
    {
     "name": "stderr",
     "output_type": "stream",
     "text": [
      "239it [00:00, 489.75it/s]\n"
     ]
    },
    {
     "name": "stdout",
     "output_type": "stream",
     "text": [
      "save best_model...\n",
      "Epoch: 80 \n",
      "Train_loss: 0.8373 Train Accuracy: 0.7419 \n",
      "Validation_loss:   0.8407 Validation Accuracy:   0.7333 \n",
      "\n",
      "epoch 81\n"
     ]
    },
    {
     "name": "stderr",
     "output_type": "stream",
     "text": [
      "239it [00:00, 494.30it/s]\n"
     ]
    },
    {
     "name": "stdout",
     "output_type": "stream",
     "text": [
      "save best_model...\n",
      "Epoch: 81 \n",
      "Train_loss: 0.8358 Train Accuracy: 0.7422 \n",
      "Validation_loss:   0.8397 Validation Accuracy:   0.7333 \n",
      "\n",
      "epoch 82\n"
     ]
    },
    {
     "name": "stderr",
     "output_type": "stream",
     "text": [
      "239it [00:00, 492.53it/s]\n"
     ]
    },
    {
     "name": "stdout",
     "output_type": "stream",
     "text": [
      "save best_model...\n",
      "Epoch: 82 \n",
      "Train_loss: 0.8345 Train Accuracy: 0.7435 \n",
      "Validation_loss:   0.8387 Validation Accuracy:   0.7333 \n",
      "\n",
      "epoch 83\n"
     ]
    },
    {
     "name": "stderr",
     "output_type": "stream",
     "text": [
      "239it [00:00, 513.68it/s]\n"
     ]
    },
    {
     "name": "stdout",
     "output_type": "stream",
     "text": [
      "save best_model...\n",
      "Epoch: 83 \n",
      "Train_loss: 0.8332 Train Accuracy: 0.7442 \n",
      "Validation_loss:   0.8377 Validation Accuracy:   0.7289 \n",
      "\n",
      "epoch 84\n"
     ]
    },
    {
     "name": "stderr",
     "output_type": "stream",
     "text": [
      "239it [00:00, 491.80it/s]\n"
     ]
    },
    {
     "name": "stdout",
     "output_type": "stream",
     "text": [
      "save best_model...\n",
      "Epoch: 84 \n",
      "Train_loss: 0.8319 Train Accuracy: 0.744 \n",
      "Validation_loss:   0.8368 Validation Accuracy:   0.7289 \n",
      "\n",
      "epoch 85\n"
     ]
    },
    {
     "name": "stderr",
     "output_type": "stream",
     "text": [
      "239it [00:00, 498.52it/s]\n"
     ]
    },
    {
     "name": "stdout",
     "output_type": "stream",
     "text": [
      "save best_model...\n",
      "Epoch: 85 \n",
      "Train_loss: 0.8306 Train Accuracy: 0.7448 \n",
      "Validation_loss:   0.8359 Validation Accuracy:   0.7289 \n",
      "\n",
      "epoch 86\n"
     ]
    },
    {
     "name": "stderr",
     "output_type": "stream",
     "text": [
      "239it [00:00, 477.98it/s]\n"
     ]
    },
    {
     "name": "stdout",
     "output_type": "stream",
     "text": [
      "save best_model...\n",
      "Epoch: 86 \n",
      "Train_loss: 0.8294 Train Accuracy: 0.7453 \n",
      "Validation_loss:   0.8351 Validation Accuracy:   0.7289 \n",
      "\n",
      "epoch 87\n"
     ]
    },
    {
     "name": "stderr",
     "output_type": "stream",
     "text": [
      "239it [00:00, 502.51it/s]\n"
     ]
    },
    {
     "name": "stdout",
     "output_type": "stream",
     "text": [
      "save best_model...\n",
      "Epoch: 87 \n",
      "Train_loss: 0.8283 Train Accuracy: 0.7474 \n",
      "Validation_loss:   0.8343 Validation Accuracy:   0.7244 \n",
      "\n",
      "epoch 88\n"
     ]
    },
    {
     "name": "stderr",
     "output_type": "stream",
     "text": [
      "239it [00:00, 492.56it/s]\n"
     ]
    },
    {
     "name": "stdout",
     "output_type": "stream",
     "text": [
      "save best_model...\n",
      "Epoch: 88 \n",
      "Train_loss: 0.8272 Train Accuracy: 0.7482 \n",
      "Validation_loss:   0.8336 Validation Accuracy:   0.7244 \n",
      "\n",
      "epoch 89\n"
     ]
    },
    {
     "name": "stderr",
     "output_type": "stream",
     "text": [
      "239it [00:00, 509.90it/s]\n"
     ]
    },
    {
     "name": "stdout",
     "output_type": "stream",
     "text": [
      "save best_model...\n",
      "Epoch: 89 \n",
      "Train_loss: 0.8261 Train Accuracy: 0.7492 \n",
      "Validation_loss:   0.8328 Validation Accuracy:   0.7244 \n",
      "\n",
      "epoch 90\n"
     ]
    },
    {
     "name": "stderr",
     "output_type": "stream",
     "text": [
      "239it [00:00, 492.68it/s]\n"
     ]
    },
    {
     "name": "stdout",
     "output_type": "stream",
     "text": [
      "save best_model...\n",
      "Epoch: 90 \n",
      "Train_loss: 0.825 Train Accuracy: 0.75 \n",
      "Validation_loss:   0.8322 Validation Accuracy:   0.7244 \n",
      "\n",
      "epoch 91\n"
     ]
    },
    {
     "name": "stderr",
     "output_type": "stream",
     "text": [
      "239it [00:00, 520.67it/s]\n"
     ]
    },
    {
     "name": "stdout",
     "output_type": "stream",
     "text": [
      "save best_model...\n",
      "Epoch: 91 \n",
      "Train_loss: 0.824 Train Accuracy: 0.7505 \n",
      "Validation_loss:   0.8315 Validation Accuracy:   0.7244 \n",
      "\n",
      "epoch 92\n"
     ]
    },
    {
     "name": "stderr",
     "output_type": "stream",
     "text": [
      "239it [00:00, 499.51it/s]\n"
     ]
    },
    {
     "name": "stdout",
     "output_type": "stream",
     "text": [
      "save best_model...\n",
      "Epoch: 92 \n",
      "Train_loss: 0.823 Train Accuracy: 0.7518 \n",
      "Validation_loss:   0.8309 Validation Accuracy:   0.7244 \n",
      "\n",
      "epoch 93\n"
     ]
    },
    {
     "name": "stderr",
     "output_type": "stream",
     "text": [
      "239it [00:00, 510.39it/s]\n"
     ]
    },
    {
     "name": "stdout",
     "output_type": "stream",
     "text": [
      "save best_model...\n",
      "Epoch: 93 \n",
      "Train_loss: 0.822 Train Accuracy: 0.7526 \n",
      "Validation_loss:   0.8303 Validation Accuracy:   0.7244 \n",
      "\n",
      "epoch 94\n"
     ]
    },
    {
     "name": "stderr",
     "output_type": "stream",
     "text": [
      "239it [00:00, 494.84it/s]\n"
     ]
    },
    {
     "name": "stdout",
     "output_type": "stream",
     "text": [
      "save best_model...\n",
      "Epoch: 94 \n",
      "Train_loss: 0.8211 Train Accuracy: 0.7537 \n",
      "Validation_loss:   0.8298 Validation Accuracy:   0.7244 \n",
      "\n",
      "epoch 95\n"
     ]
    },
    {
     "name": "stderr",
     "output_type": "stream",
     "text": [
      "239it [00:00, 469.88it/s]\n"
     ]
    },
    {
     "name": "stdout",
     "output_type": "stream",
     "text": [
      "save best_model...\n",
      "Epoch: 95 \n",
      "Train_loss: 0.8202 Train Accuracy: 0.7552 \n",
      "Validation_loss:   0.8292 Validation Accuracy:   0.7244 \n",
      "\n",
      "epoch 96\n"
     ]
    },
    {
     "name": "stderr",
     "output_type": "stream",
     "text": [
      "239it [00:00, 425.08it/s]\n"
     ]
    },
    {
     "name": "stdout",
     "output_type": "stream",
     "text": [
      "save best_model...\n",
      "Epoch: 96 \n",
      "Train_loss: 0.8193 Train Accuracy: 0.7571 \n",
      "Validation_loss:   0.8287 Validation Accuracy:   0.7244 \n",
      "\n",
      "epoch 97\n"
     ]
    },
    {
     "name": "stderr",
     "output_type": "stream",
     "text": [
      "239it [00:00, 430.43it/s]\n"
     ]
    },
    {
     "name": "stdout",
     "output_type": "stream",
     "text": [
      "save best_model...\n",
      "Epoch: 97 \n",
      "Train_loss: 0.8184 Train Accuracy: 0.7576 \n",
      "Validation_loss:   0.8283 Validation Accuracy:   0.7333 \n",
      "\n",
      "epoch 98\n"
     ]
    },
    {
     "name": "stderr",
     "output_type": "stream",
     "text": [
      "239it [00:00, 391.37it/s]\n"
     ]
    },
    {
     "name": "stdout",
     "output_type": "stream",
     "text": [
      "save best_model...\n",
      "Epoch: 98 \n",
      "Train_loss: 0.8176 Train Accuracy: 0.7568 \n",
      "Validation_loss:   0.8278 Validation Accuracy:   0.7378 \n",
      "\n",
      "epoch 99\n"
     ]
    },
    {
     "name": "stderr",
     "output_type": "stream",
     "text": [
      "239it [00:00, 499.85it/s]\n"
     ]
    },
    {
     "name": "stdout",
     "output_type": "stream",
     "text": [
      "save best_model...\n",
      "Epoch: 99 \n",
      "Train_loss: 0.8168 Train Accuracy: 0.7576 \n",
      "Validation_loss:   0.8273 Validation Accuracy:   0.7378 \n",
      "\n",
      "epoch 100\n"
     ]
    },
    {
     "name": "stderr",
     "output_type": "stream",
     "text": [
      "239it [00:00, 490.24it/s]\n"
     ]
    },
    {
     "name": "stdout",
     "output_type": "stream",
     "text": [
      "save best_model...\n",
      "Epoch: 100 \n",
      "Train_loss: 0.816 Train Accuracy: 0.7584 \n",
      "Validation_loss:   0.8269 Validation Accuracy:   0.7378 \n",
      "\n",
      "epoch 101\n"
     ]
    },
    {
     "name": "stderr",
     "output_type": "stream",
     "text": [
      "239it [00:00, 494.08it/s]\n"
     ]
    },
    {
     "name": "stdout",
     "output_type": "stream",
     "text": [
      "save best_model...\n",
      "Epoch: 101 \n",
      "Train_loss: 0.8152 Train Accuracy: 0.7578 \n",
      "Validation_loss:   0.8265 Validation Accuracy:   0.7378 \n",
      "\n",
      "epoch 102\n"
     ]
    },
    {
     "name": "stderr",
     "output_type": "stream",
     "text": [
      "239it [00:00, 497.51it/s]\n"
     ]
    },
    {
     "name": "stdout",
     "output_type": "stream",
     "text": [
      "save best_model...\n",
      "Epoch: 102 \n",
      "Train_loss: 0.8145 Train Accuracy: 0.7589 \n",
      "Validation_loss:   0.8261 Validation Accuracy:   0.7333 \n",
      "\n",
      "epoch 103\n"
     ]
    },
    {
     "name": "stderr",
     "output_type": "stream",
     "text": [
      "239it [00:00, 487.71it/s]\n"
     ]
    },
    {
     "name": "stdout",
     "output_type": "stream",
     "text": [
      "save best_model...\n",
      "Epoch: 103 \n",
      "Train_loss: 0.8137 Train Accuracy: 0.7597 \n",
      "Validation_loss:   0.8257 Validation Accuracy:   0.7333 \n",
      "\n",
      "epoch 104\n"
     ]
    },
    {
     "name": "stderr",
     "output_type": "stream",
     "text": [
      "239it [00:00, 491.97it/s]\n"
     ]
    },
    {
     "name": "stdout",
     "output_type": "stream",
     "text": [
      "save best_model...\n",
      "Epoch: 104 \n",
      "Train_loss: 0.813 Train Accuracy: 0.7605 \n",
      "Validation_loss:   0.8254 Validation Accuracy:   0.7333 \n",
      "\n",
      "epoch 105\n"
     ]
    },
    {
     "name": "stderr",
     "output_type": "stream",
     "text": [
      "239it [00:00, 488.64it/s]\n"
     ]
    },
    {
     "name": "stdout",
     "output_type": "stream",
     "text": [
      "save best_model...\n",
      "Epoch: 105 \n",
      "Train_loss: 0.8123 Train Accuracy: 0.7612 \n",
      "Validation_loss:   0.825 Validation Accuracy:   0.7333 \n",
      "\n",
      "epoch 106\n"
     ]
    },
    {
     "name": "stderr",
     "output_type": "stream",
     "text": [
      "239it [00:00, 501.42it/s]\n"
     ]
    },
    {
     "name": "stdout",
     "output_type": "stream",
     "text": [
      "save best_model...\n",
      "Epoch: 106 \n",
      "Train_loss: 0.8116 Train Accuracy: 0.762 \n",
      "Validation_loss:   0.8247 Validation Accuracy:   0.7333 \n",
      "\n",
      "epoch 107\n"
     ]
    },
    {
     "name": "stderr",
     "output_type": "stream",
     "text": [
      "239it [00:00, 484.22it/s]\n"
     ]
    },
    {
     "name": "stdout",
     "output_type": "stream",
     "text": [
      "save best_model...\n",
      "Epoch: 107 \n",
      "Train_loss: 0.8109 Train Accuracy: 0.7628 \n",
      "Validation_loss:   0.8244 Validation Accuracy:   0.7333 \n",
      "\n",
      "epoch 108\n"
     ]
    },
    {
     "name": "stderr",
     "output_type": "stream",
     "text": [
      "239it [00:00, 507.92it/s]\n"
     ]
    },
    {
     "name": "stdout",
     "output_type": "stream",
     "text": [
      "save best_model...\n",
      "Epoch: 108 \n",
      "Train_loss: 0.8102 Train Accuracy: 0.7636 \n",
      "Validation_loss:   0.8241 Validation Accuracy:   0.7333 \n",
      "\n",
      "epoch 109\n"
     ]
    },
    {
     "name": "stderr",
     "output_type": "stream",
     "text": [
      "239it [00:00, 506.28it/s]\n"
     ]
    },
    {
     "name": "stdout",
     "output_type": "stream",
     "text": [
      "save best_model...\n",
      "Epoch: 109 \n",
      "Train_loss: 0.8096 Train Accuracy: 0.7636 \n",
      "Validation_loss:   0.8238 Validation Accuracy:   0.7333 \n",
      "\n",
      "epoch 110\n"
     ]
    },
    {
     "name": "stderr",
     "output_type": "stream",
     "text": [
      "239it [00:00, 507.66it/s]\n"
     ]
    },
    {
     "name": "stdout",
     "output_type": "stream",
     "text": [
      "save best_model...\n",
      "Epoch: 110 \n",
      "Train_loss: 0.809 Train Accuracy: 0.7633 \n",
      "Validation_loss:   0.8235 Validation Accuracy:   0.7378 \n",
      "\n",
      "epoch 111\n"
     ]
    },
    {
     "name": "stderr",
     "output_type": "stream",
     "text": [
      "239it [00:00, 506.53it/s]\n"
     ]
    },
    {
     "name": "stdout",
     "output_type": "stream",
     "text": [
      "save best_model...\n",
      "Epoch: 111 \n",
      "Train_loss: 0.8083 Train Accuracy: 0.7644 \n",
      "Validation_loss:   0.8232 Validation Accuracy:   0.7378 \n",
      "\n",
      "epoch 112\n"
     ]
    },
    {
     "name": "stderr",
     "output_type": "stream",
     "text": [
      "239it [00:00, 482.19it/s]\n"
     ]
    },
    {
     "name": "stdout",
     "output_type": "stream",
     "text": [
      "save best_model...\n",
      "Epoch: 112 \n",
      "Train_loss: 0.8077 Train Accuracy: 0.7646 \n",
      "Validation_loss:   0.823 Validation Accuracy:   0.7378 \n",
      "\n",
      "epoch 113\n"
     ]
    },
    {
     "name": "stderr",
     "output_type": "stream",
     "text": [
      "239it [00:00, 500.72it/s]\n"
     ]
    },
    {
     "name": "stdout",
     "output_type": "stream",
     "text": [
      "save best_model...\n",
      "Epoch: 113 \n",
      "Train_loss: 0.8071 Train Accuracy: 0.7654 \n",
      "Validation_loss:   0.8227 Validation Accuracy:   0.7378 \n",
      "\n",
      "epoch 114\n"
     ]
    },
    {
     "name": "stderr",
     "output_type": "stream",
     "text": [
      "239it [00:00, 493.64it/s]\n"
     ]
    },
    {
     "name": "stdout",
     "output_type": "stream",
     "text": [
      "save best_model...\n",
      "Epoch: 114 \n",
      "Train_loss: 0.8065 Train Accuracy: 0.766 \n",
      "Validation_loss:   0.8225 Validation Accuracy:   0.7378 \n",
      "\n",
      "epoch 115\n"
     ]
    },
    {
     "name": "stderr",
     "output_type": "stream",
     "text": [
      "239it [00:00, 512.00it/s]\n"
     ]
    },
    {
     "name": "stdout",
     "output_type": "stream",
     "text": [
      "save best_model...\n",
      "Epoch: 115 \n",
      "Train_loss: 0.8059 Train Accuracy: 0.767 \n",
      "Validation_loss:   0.8222 Validation Accuracy:   0.7378 \n",
      "\n",
      "epoch 116\n"
     ]
    },
    {
     "name": "stderr",
     "output_type": "stream",
     "text": [
      "239it [00:00, 496.24it/s]\n"
     ]
    },
    {
     "name": "stdout",
     "output_type": "stream",
     "text": [
      "save best_model...\n",
      "Epoch: 116 \n",
      "Train_loss: 0.8054 Train Accuracy: 0.767 \n",
      "Validation_loss:   0.822 Validation Accuracy:   0.7378 \n",
      "\n",
      "epoch 117\n"
     ]
    },
    {
     "name": "stderr",
     "output_type": "stream",
     "text": [
      "239it [00:00, 505.70it/s]\n"
     ]
    },
    {
     "name": "stdout",
     "output_type": "stream",
     "text": [
      "save best_model...\n",
      "Epoch: 117 \n",
      "Train_loss: 0.8048 Train Accuracy: 0.7667 \n",
      "Validation_loss:   0.8218 Validation Accuracy:   0.7378 \n",
      "\n",
      "epoch 118\n"
     ]
    },
    {
     "name": "stderr",
     "output_type": "stream",
     "text": [
      "239it [00:00, 462.95it/s]\n"
     ]
    },
    {
     "name": "stdout",
     "output_type": "stream",
     "text": [
      "save best_model...\n",
      "Epoch: 118 \n",
      "Train_loss: 0.8043 Train Accuracy: 0.768 \n",
      "Validation_loss:   0.8216 Validation Accuracy:   0.7378 \n",
      "\n",
      "epoch 119\n"
     ]
    },
    {
     "name": "stderr",
     "output_type": "stream",
     "text": [
      "239it [00:00, 422.06it/s]\n"
     ]
    },
    {
     "name": "stdout",
     "output_type": "stream",
     "text": [
      "save best_model...\n",
      "Epoch: 119 \n",
      "Train_loss: 0.8037 Train Accuracy: 0.7686 \n",
      "Validation_loss:   0.8214 Validation Accuracy:   0.7378 \n",
      "\n",
      "epoch 120\n"
     ]
    },
    {
     "name": "stderr",
     "output_type": "stream",
     "text": [
      "239it [00:00, 421.33it/s]\n"
     ]
    },
    {
     "name": "stdout",
     "output_type": "stream",
     "text": [
      "save best_model...\n",
      "Epoch: 120 \n",
      "Train_loss: 0.8032 Train Accuracy: 0.7691 \n",
      "Validation_loss:   0.8212 Validation Accuracy:   0.7333 \n",
      "\n",
      "epoch 121\n"
     ]
    },
    {
     "name": "stderr",
     "output_type": "stream",
     "text": [
      "239it [00:00, 395.69it/s]\n"
     ]
    },
    {
     "name": "stdout",
     "output_type": "stream",
     "text": [
      "save best_model...\n",
      "Epoch: 121 \n",
      "Train_loss: 0.8027 Train Accuracy: 0.7701 \n",
      "Validation_loss:   0.821 Validation Accuracy:   0.7333 \n",
      "\n",
      "epoch 122\n"
     ]
    },
    {
     "name": "stderr",
     "output_type": "stream",
     "text": [
      "239it [00:00, 502.95it/s]\n"
     ]
    },
    {
     "name": "stdout",
     "output_type": "stream",
     "text": [
      "save best_model...\n",
      "Epoch: 122 \n",
      "Train_loss: 0.8021 Train Accuracy: 0.7707 \n",
      "Validation_loss:   0.8208 Validation Accuracy:   0.7333 \n",
      "\n",
      "epoch 123\n"
     ]
    },
    {
     "name": "stderr",
     "output_type": "stream",
     "text": [
      "239it [00:00, 489.16it/s]\n"
     ]
    },
    {
     "name": "stdout",
     "output_type": "stream",
     "text": [
      "save best_model...\n",
      "Epoch: 123 \n",
      "Train_loss: 0.8016 Train Accuracy: 0.7712 \n",
      "Validation_loss:   0.8207 Validation Accuracy:   0.7333 \n",
      "\n",
      "epoch 124\n"
     ]
    },
    {
     "name": "stderr",
     "output_type": "stream",
     "text": [
      "239it [00:00, 503.62it/s]\n"
     ]
    },
    {
     "name": "stdout",
     "output_type": "stream",
     "text": [
      "save best_model...\n",
      "Epoch: 124 \n",
      "Train_loss: 0.8011 Train Accuracy: 0.772 \n",
      "Validation_loss:   0.8205 Validation Accuracy:   0.7378 \n",
      "\n",
      "epoch 125\n"
     ]
    },
    {
     "name": "stderr",
     "output_type": "stream",
     "text": [
      "239it [00:00, 494.51it/s]\n"
     ]
    },
    {
     "name": "stdout",
     "output_type": "stream",
     "text": [
      "save best_model...\n",
      "Epoch: 125 \n",
      "Train_loss: 0.8006 Train Accuracy: 0.7722 \n",
      "Validation_loss:   0.8203 Validation Accuracy:   0.7378 \n",
      "\n",
      "epoch 126\n"
     ]
    },
    {
     "name": "stderr",
     "output_type": "stream",
     "text": [
      "239it [00:00, 494.29it/s]\n"
     ]
    },
    {
     "name": "stdout",
     "output_type": "stream",
     "text": [
      "save best_model...\n",
      "Epoch: 126 \n",
      "Train_loss: 0.8002 Train Accuracy: 0.7725 \n",
      "Validation_loss:   0.8202 Validation Accuracy:   0.7378 \n",
      "\n",
      "epoch 127\n"
     ]
    },
    {
     "name": "stderr",
     "output_type": "stream",
     "text": [
      "239it [00:00, 498.00it/s]\n"
     ]
    },
    {
     "name": "stdout",
     "output_type": "stream",
     "text": [
      "save best_model...\n",
      "Epoch: 127 \n",
      "Train_loss: 0.7997 Train Accuracy: 0.773 \n",
      "Validation_loss:   0.8201 Validation Accuracy:   0.7378 \n",
      "\n",
      "epoch 128\n"
     ]
    },
    {
     "name": "stderr",
     "output_type": "stream",
     "text": [
      "239it [00:00, 486.65it/s]\n"
     ]
    },
    {
     "name": "stdout",
     "output_type": "stream",
     "text": [
      "save best_model...\n",
      "Epoch: 128 \n",
      "Train_loss: 0.7992 Train Accuracy: 0.7741 \n",
      "Validation_loss:   0.8199 Validation Accuracy:   0.7378 \n",
      "\n",
      "epoch 129\n"
     ]
    },
    {
     "name": "stderr",
     "output_type": "stream",
     "text": [
      "239it [00:00, 502.46it/s]\n"
     ]
    },
    {
     "name": "stdout",
     "output_type": "stream",
     "text": [
      "save best_model...\n",
      "Epoch: 129 \n",
      "Train_loss: 0.7987 Train Accuracy: 0.7743 \n",
      "Validation_loss:   0.8198 Validation Accuracy:   0.7378 \n",
      "\n",
      "epoch 130\n"
     ]
    },
    {
     "name": "stderr",
     "output_type": "stream",
     "text": [
      "239it [00:00, 515.39it/s]\n"
     ]
    },
    {
     "name": "stdout",
     "output_type": "stream",
     "text": [
      "save best_model...\n",
      "Epoch: 130 \n",
      "Train_loss: 0.7983 Train Accuracy: 0.7746 \n",
      "Validation_loss:   0.8197 Validation Accuracy:   0.7378 \n",
      "\n",
      "epoch 131\n"
     ]
    },
    {
     "name": "stderr",
     "output_type": "stream",
     "text": [
      "239it [00:00, 509.19it/s]\n"
     ]
    },
    {
     "name": "stdout",
     "output_type": "stream",
     "text": [
      "save best_model...\n",
      "Epoch: 131 \n",
      "Train_loss: 0.7978 Train Accuracy: 0.7754 \n",
      "Validation_loss:   0.8195 Validation Accuracy:   0.7333 \n",
      "\n",
      "epoch 132\n"
     ]
    },
    {
     "name": "stderr",
     "output_type": "stream",
     "text": [
      "239it [00:00, 510.81it/s]\n"
     ]
    },
    {
     "name": "stdout",
     "output_type": "stream",
     "text": [
      "save best_model...\n",
      "Epoch: 132 \n",
      "Train_loss: 0.7974 Train Accuracy: 0.7754 \n",
      "Validation_loss:   0.8194 Validation Accuracy:   0.7333 \n",
      "\n",
      "epoch 133\n"
     ]
    },
    {
     "name": "stderr",
     "output_type": "stream",
     "text": [
      "239it [00:00, 514.98it/s]\n"
     ]
    },
    {
     "name": "stdout",
     "output_type": "stream",
     "text": [
      "save best_model...\n",
      "Epoch: 133 \n",
      "Train_loss: 0.7969 Train Accuracy: 0.7764 \n",
      "Validation_loss:   0.8193 Validation Accuracy:   0.7333 \n",
      "\n",
      "epoch 134\n"
     ]
    },
    {
     "name": "stderr",
     "output_type": "stream",
     "text": [
      "239it [00:00, 506.63it/s]\n"
     ]
    },
    {
     "name": "stdout",
     "output_type": "stream",
     "text": [
      "save best_model...\n",
      "Epoch: 134 \n",
      "Train_loss: 0.7965 Train Accuracy: 0.7767 \n",
      "Validation_loss:   0.8192 Validation Accuracy:   0.7333 \n",
      "\n",
      "epoch 135\n"
     ]
    },
    {
     "name": "stderr",
     "output_type": "stream",
     "text": [
      "239it [00:00, 517.53it/s]\n"
     ]
    },
    {
     "name": "stdout",
     "output_type": "stream",
     "text": [
      "save best_model...\n",
      "Epoch: 135 \n",
      "Train_loss: 0.7961 Train Accuracy: 0.7767 \n",
      "Validation_loss:   0.8191 Validation Accuracy:   0.7333 \n",
      "\n",
      "epoch 136\n"
     ]
    },
    {
     "name": "stderr",
     "output_type": "stream",
     "text": [
      "239it [00:00, 507.00it/s]\n"
     ]
    },
    {
     "name": "stdout",
     "output_type": "stream",
     "text": [
      "save best_model...\n",
      "Epoch: 136 \n",
      "Train_loss: 0.7957 Train Accuracy: 0.7764 \n",
      "Validation_loss:   0.819 Validation Accuracy:   0.7289 \n",
      "\n",
      "epoch 137\n"
     ]
    },
    {
     "name": "stderr",
     "output_type": "stream",
     "text": [
      "239it [00:00, 511.30it/s]\n"
     ]
    },
    {
     "name": "stdout",
     "output_type": "stream",
     "text": [
      "save best_model...\n",
      "Epoch: 137 \n",
      "Train_loss: 0.7952 Train Accuracy: 0.7772 \n",
      "Validation_loss:   0.819 Validation Accuracy:   0.7333 \n",
      "\n",
      "epoch 138\n"
     ]
    },
    {
     "name": "stderr",
     "output_type": "stream",
     "text": [
      "239it [00:00, 514.93it/s]\n"
     ]
    },
    {
     "name": "stdout",
     "output_type": "stream",
     "text": [
      "save best_model...\n",
      "Epoch: 138 \n",
      "Train_loss: 0.7948 Train Accuracy: 0.7775 \n",
      "Validation_loss:   0.8189 Validation Accuracy:   0.7333 \n",
      "\n",
      "epoch 139\n"
     ]
    },
    {
     "name": "stderr",
     "output_type": "stream",
     "text": [
      "239it [00:00, 514.38it/s]\n"
     ]
    },
    {
     "name": "stdout",
     "output_type": "stream",
     "text": [
      "save best_model...\n",
      "Epoch: 139 \n",
      "Train_loss: 0.7944 Train Accuracy: 0.7775 \n",
      "Validation_loss:   0.8188 Validation Accuracy:   0.7333 \n",
      "\n",
      "epoch 140\n"
     ]
    },
    {
     "name": "stderr",
     "output_type": "stream",
     "text": [
      "239it [00:00, 508.92it/s]\n"
     ]
    },
    {
     "name": "stdout",
     "output_type": "stream",
     "text": [
      "save best_model...\n",
      "Epoch: 140 \n",
      "Train_loss: 0.794 Train Accuracy: 0.7777 \n",
      "Validation_loss:   0.8187 Validation Accuracy:   0.7333 \n",
      "\n",
      "epoch 141\n"
     ]
    },
    {
     "name": "stderr",
     "output_type": "stream",
     "text": [
      "239it [00:00, 512.88it/s]\n"
     ]
    },
    {
     "name": "stdout",
     "output_type": "stream",
     "text": [
      "save best_model...\n",
      "Epoch: 141 \n",
      "Train_loss: 0.7936 Train Accuracy: 0.7777 \n",
      "Validation_loss:   0.8187 Validation Accuracy:   0.7333 \n",
      "\n",
      "epoch 142\n"
     ]
    },
    {
     "name": "stderr",
     "output_type": "stream",
     "text": [
      "239it [00:00, 412.80it/s]\n"
     ]
    },
    {
     "name": "stdout",
     "output_type": "stream",
     "text": [
      "save best_model...\n",
      "Epoch: 142 \n",
      "Train_loss: 0.7932 Train Accuracy: 0.7782 \n",
      "Validation_loss:   0.8186 Validation Accuracy:   0.7333 \n",
      "\n",
      "epoch 143\n"
     ]
    },
    {
     "name": "stderr",
     "output_type": "stream",
     "text": [
      "239it [00:00, 442.60it/s]\n"
     ]
    },
    {
     "name": "stdout",
     "output_type": "stream",
     "text": [
      "save best_model...\n",
      "Epoch: 143 \n",
      "Train_loss: 0.7928 Train Accuracy: 0.778 \n",
      "Validation_loss:   0.8186 Validation Accuracy:   0.7333 \n",
      "\n",
      "epoch 144\n"
     ]
    },
    {
     "name": "stderr",
     "output_type": "stream",
     "text": [
      "239it [00:00, 397.06it/s]\n"
     ]
    },
    {
     "name": "stdout",
     "output_type": "stream",
     "text": [
      "save best_model...\n",
      "Epoch: 144 \n",
      "Train_loss: 0.7925 Train Accuracy: 0.778 \n",
      "Validation_loss:   0.8185 Validation Accuracy:   0.7289 \n",
      "\n",
      "epoch 145\n"
     ]
    },
    {
     "name": "stderr",
     "output_type": "stream",
     "text": [
      "239it [00:00, 435.65it/s]\n"
     ]
    },
    {
     "name": "stdout",
     "output_type": "stream",
     "text": [
      "save best_model...\n",
      "Epoch: 145 \n",
      "Train_loss: 0.7921 Train Accuracy: 0.778 \n",
      "Validation_loss:   0.8185 Validation Accuracy:   0.7289 \n",
      "\n",
      "epoch 146\n"
     ]
    },
    {
     "name": "stderr",
     "output_type": "stream",
     "text": [
      "239it [00:00, 498.76it/s]\n"
     ]
    },
    {
     "name": "stdout",
     "output_type": "stream",
     "text": [
      "save best_model...\n",
      "Epoch: 146 \n",
      "Train_loss: 0.7917 Train Accuracy: 0.7782 \n",
      "Validation_loss:   0.8185 Validation Accuracy:   0.7289 \n",
      "\n",
      "epoch 147\n"
     ]
    },
    {
     "name": "stderr",
     "output_type": "stream",
     "text": [
      "239it [00:00, 492.78it/s]\n"
     ]
    },
    {
     "name": "stdout",
     "output_type": "stream",
     "text": [
      "save best_model...\n",
      "Epoch: 147 \n",
      "Train_loss: 0.7913 Train Accuracy: 0.7782 \n",
      "Validation_loss:   0.8184 Validation Accuracy:   0.7289 \n",
      "\n",
      "epoch 148\n"
     ]
    },
    {
     "name": "stderr",
     "output_type": "stream",
     "text": [
      "239it [00:00, 492.09it/s]\n"
     ]
    },
    {
     "name": "stdout",
     "output_type": "stream",
     "text": [
      "save best_model...\n",
      "Epoch: 148 \n",
      "Train_loss: 0.791 Train Accuracy: 0.7782 \n",
      "Validation_loss:   0.8184 Validation Accuracy:   0.7289 \n",
      "\n",
      "epoch 149\n"
     ]
    },
    {
     "name": "stderr",
     "output_type": "stream",
     "text": [
      "239it [00:00, 501.66it/s]\n"
     ]
    },
    {
     "name": "stdout",
     "output_type": "stream",
     "text": [
      "save best_model...\n",
      "Epoch: 149 \n",
      "Train_loss: 0.7906 Train Accuracy: 0.7782 \n",
      "Validation_loss:   0.8184 Validation Accuracy:   0.7289 \n",
      "\n",
      "epoch 150\n"
     ]
    },
    {
     "name": "stderr",
     "output_type": "stream",
     "text": [
      "239it [00:00, 496.53it/s]\n"
     ]
    },
    {
     "name": "stdout",
     "output_type": "stream",
     "text": [
      "save best_model...\n",
      "Epoch: 150 \n",
      "Train_loss: 0.7902 Train Accuracy: 0.779 \n",
      "Validation_loss:   0.8184 Validation Accuracy:   0.7289 \n",
      "\n",
      "epoch 151\n"
     ]
    },
    {
     "name": "stderr",
     "output_type": "stream",
     "text": [
      "239it [00:00, 506.21it/s]\n"
     ]
    },
    {
     "name": "stdout",
     "output_type": "stream",
     "text": [
      "save best_model...\n",
      "Epoch: 151 \n",
      "Train_loss: 0.7899 Train Accuracy: 0.7796 \n",
      "Validation_loss:   0.8184 Validation Accuracy:   0.7289 \n",
      "\n",
      "epoch 152\n"
     ]
    },
    {
     "name": "stderr",
     "output_type": "stream",
     "text": [
      "239it [00:00, 500.85it/s]\n"
     ]
    },
    {
     "name": "stdout",
     "output_type": "stream",
     "text": [
      "save best_model...\n",
      "Epoch: 152 \n",
      "Train_loss: 0.7895 Train Accuracy: 0.7803 \n",
      "Validation_loss:   0.8184 Validation Accuracy:   0.7289 \n",
      "\n",
      "epoch 153\n"
     ]
    },
    {
     "name": "stderr",
     "output_type": "stream",
     "text": [
      "239it [00:00, 499.37it/s]\n"
     ]
    },
    {
     "name": "stdout",
     "output_type": "stream",
     "text": [
      "save best_model...\n",
      "Epoch: 153 \n",
      "Train_loss: 0.7892 Train Accuracy: 0.7803 \n",
      "Validation_loss:   0.8184 Validation Accuracy:   0.7244 \n",
      "\n",
      "epoch 154\n"
     ]
    },
    {
     "name": "stderr",
     "output_type": "stream",
     "text": [
      "239it [00:00, 503.06it/s]\n"
     ]
    },
    {
     "name": "stdout",
     "output_type": "stream",
     "text": [
      "Epoch: 154 \n",
      "Train_loss: 0.7888 Train Accuracy: 0.7814 \n",
      "Validation_loss:   0.8184 Validation Accuracy:   0.7244 \n",
      "\n",
      "epoch 155\n"
     ]
    },
    {
     "name": "stderr",
     "output_type": "stream",
     "text": [
      "239it [00:00, 515.06it/s]\n"
     ]
    },
    {
     "name": "stdout",
     "output_type": "stream",
     "text": [
      "Epoch: 155 \n",
      "Train_loss: 0.7885 Train Accuracy: 0.7809 \n",
      "Validation_loss:   0.8184 Validation Accuracy:   0.72 \n",
      "\n",
      "epoch 156\n"
     ]
    },
    {
     "name": "stderr",
     "output_type": "stream",
     "text": [
      "239it [00:00, 502.70it/s]\n"
     ]
    },
    {
     "name": "stdout",
     "output_type": "stream",
     "text": [
      "Epoch: 156 \n",
      "Train_loss: 0.7882 Train Accuracy: 0.7814 \n",
      "Validation_loss:   0.8184 Validation Accuracy:   0.72 \n",
      "\n",
      "epoch 157\n"
     ]
    },
    {
     "name": "stderr",
     "output_type": "stream",
     "text": [
      "239it [00:00, 502.79it/s]\n"
     ]
    },
    {
     "name": "stdout",
     "output_type": "stream",
     "text": [
      "Epoch: 157 \n",
      "Train_loss: 0.7878 Train Accuracy: 0.7822 \n",
      "Validation_loss:   0.8184 Validation Accuracy:   0.72 \n",
      "\n",
      "epoch 158\n"
     ]
    },
    {
     "name": "stderr",
     "output_type": "stream",
     "text": [
      "239it [00:00, 503.56it/s]\n"
     ]
    },
    {
     "name": "stdout",
     "output_type": "stream",
     "text": [
      "Epoch: 158 \n",
      "Train_loss: 0.7875 Train Accuracy: 0.7824 \n",
      "Validation_loss:   0.8184 Validation Accuracy:   0.72 \n",
      "\n",
      "epoch 159\n"
     ]
    },
    {
     "name": "stderr",
     "output_type": "stream",
     "text": [
      "239it [00:00, 517.35it/s]\n"
     ]
    },
    {
     "name": "stdout",
     "output_type": "stream",
     "text": [
      "Epoch: 159 \n",
      "Train_loss: 0.7872 Train Accuracy: 0.7824 \n",
      "Validation_loss:   0.8184 Validation Accuracy:   0.72 \n",
      "\n",
      "epoch 160\n"
     ]
    },
    {
     "name": "stderr",
     "output_type": "stream",
     "text": [
      "239it [00:00, 507.94it/s]\n"
     ]
    },
    {
     "name": "stdout",
     "output_type": "stream",
     "text": [
      "Epoch: 160 \n",
      "Train_loss: 0.7868 Train Accuracy: 0.7827 \n",
      "Validation_loss:   0.8184 Validation Accuracy:   0.72 \n",
      "\n",
      "epoch 161\n"
     ]
    },
    {
     "name": "stderr",
     "output_type": "stream",
     "text": [
      "239it [00:00, 501.41it/s]\n"
     ]
    },
    {
     "name": "stdout",
     "output_type": "stream",
     "text": [
      "Epoch: 161 \n",
      "Train_loss: 0.7865 Train Accuracy: 0.7827 \n",
      "Validation_loss:   0.8185 Validation Accuracy:   0.72 \n",
      "\n",
      "epoch 162\n"
     ]
    },
    {
     "name": "stderr",
     "output_type": "stream",
     "text": [
      "239it [00:00, 489.76it/s]\n"
     ]
    },
    {
     "name": "stdout",
     "output_type": "stream",
     "text": [
      "Epoch: 162 \n",
      "Train_loss: 0.7862 Train Accuracy: 0.7832 \n",
      "Validation_loss:   0.8185 Validation Accuracy:   0.72 \n",
      "\n",
      "epoch 163\n"
     ]
    },
    {
     "name": "stderr",
     "output_type": "stream",
     "text": [
      "239it [00:00, 519.96it/s]\n"
     ]
    },
    {
     "name": "stdout",
     "output_type": "stream",
     "text": [
      "Epoch: 163 \n",
      "Train_loss: 0.7859 Train Accuracy: 0.7837 \n",
      "Validation_loss:   0.8185 Validation Accuracy:   0.7156 \n",
      "\n",
      "epoch 164\n"
     ]
    },
    {
     "name": "stderr",
     "output_type": "stream",
     "text": [
      "239it [00:00, 499.69it/s]\n"
     ]
    },
    {
     "name": "stdout",
     "output_type": "stream",
     "text": [
      "Epoch: 164 \n",
      "Train_loss: 0.7855 Train Accuracy: 0.7843 \n",
      "Validation_loss:   0.8186 Validation Accuracy:   0.7156 \n",
      "\n",
      "epoch 165\n"
     ]
    },
    {
     "name": "stderr",
     "output_type": "stream",
     "text": [
      "239it [00:00, 478.56it/s]\n"
     ]
    },
    {
     "name": "stdout",
     "output_type": "stream",
     "text": [
      "Epoch: 165 \n",
      "Train_loss: 0.7852 Train Accuracy: 0.7843 \n",
      "Validation_loss:   0.8186 Validation Accuracy:   0.7156 \n",
      "\n",
      "epoch 166\n"
     ]
    },
    {
     "name": "stderr",
     "output_type": "stream",
     "text": [
      "239it [00:00, 421.43it/s]\n"
     ]
    },
    {
     "name": "stdout",
     "output_type": "stream",
     "text": [
      "Epoch: 166 \n",
      "Train_loss: 0.7849 Train Accuracy: 0.785 \n",
      "Validation_loss:   0.8186 Validation Accuracy:   0.7156 \n",
      "\n",
      "epoch 167\n"
     ]
    },
    {
     "name": "stderr",
     "output_type": "stream",
     "text": [
      "239it [00:00, 439.25it/s]\n"
     ]
    },
    {
     "name": "stdout",
     "output_type": "stream",
     "text": [
      "Epoch: 167 \n",
      "Train_loss: 0.7846 Train Accuracy: 0.7848 \n",
      "Validation_loss:   0.8187 Validation Accuracy:   0.7156 \n",
      "\n",
      "epoch 168\n"
     ]
    },
    {
     "name": "stderr",
     "output_type": "stream",
     "text": [
      "239it [00:00, 398.80it/s]\n"
     ]
    },
    {
     "name": "stdout",
     "output_type": "stream",
     "text": [
      "Epoch: 168 \n",
      "Train_loss: 0.7843 Train Accuracy: 0.7848 \n",
      "Validation_loss:   0.8187 Validation Accuracy:   0.7156 \n",
      "\n",
      "epoch 169\n"
     ]
    },
    {
     "name": "stderr",
     "output_type": "stream",
     "text": [
      "239it [00:00, 473.25it/s]\n"
     ]
    },
    {
     "name": "stdout",
     "output_type": "stream",
     "text": [
      "Epoch: 169 \n",
      "Train_loss: 0.784 Train Accuracy: 0.7853 \n",
      "Validation_loss:   0.8188 Validation Accuracy:   0.7111 \n",
      "\n",
      "epoch 170\n"
     ]
    },
    {
     "name": "stderr",
     "output_type": "stream",
     "text": [
      "239it [00:00, 486.60it/s]\n"
     ]
    },
    {
     "name": "stdout",
     "output_type": "stream",
     "text": [
      "Epoch: 170 \n",
      "Train_loss: 0.7837 Train Accuracy: 0.785 \n",
      "Validation_loss:   0.8188 Validation Accuracy:   0.7111 \n",
      "\n",
      "epoch 171\n"
     ]
    },
    {
     "name": "stderr",
     "output_type": "stream",
     "text": [
      "239it [00:00, 498.78it/s]\n"
     ]
    },
    {
     "name": "stdout",
     "output_type": "stream",
     "text": [
      "Epoch: 171 \n",
      "Train_loss: 0.7834 Train Accuracy: 0.7856 \n",
      "Validation_loss:   0.8189 Validation Accuracy:   0.7111 \n",
      "\n",
      "epoch 172\n"
     ]
    },
    {
     "name": "stderr",
     "output_type": "stream",
     "text": [
      "239it [00:00, 490.53it/s]\n"
     ]
    },
    {
     "name": "stdout",
     "output_type": "stream",
     "text": [
      "Epoch: 172 \n",
      "Train_loss: 0.7831 Train Accuracy: 0.7858 \n",
      "Validation_loss:   0.8189 Validation Accuracy:   0.7111 \n",
      "\n",
      "epoch 173\n"
     ]
    },
    {
     "name": "stderr",
     "output_type": "stream",
     "text": [
      "239it [00:00, 506.37it/s]\n"
     ]
    },
    {
     "name": "stdout",
     "output_type": "stream",
     "text": [
      "Epoch: 173 \n",
      "Train_loss: 0.7828 Train Accuracy: 0.7858 \n",
      "Validation_loss:   0.819 Validation Accuracy:   0.7111 \n",
      "\n",
      "epoch 174\n"
     ]
    },
    {
     "name": "stderr",
     "output_type": "stream",
     "text": [
      "239it [00:00, 495.81it/s]\n"
     ]
    },
    {
     "name": "stdout",
     "output_type": "stream",
     "text": [
      "Epoch: 174 \n",
      "Train_loss: 0.7826 Train Accuracy: 0.7863 \n",
      "Validation_loss:   0.819 Validation Accuracy:   0.7111 \n",
      "\n",
      "epoch 175\n"
     ]
    },
    {
     "name": "stderr",
     "output_type": "stream",
     "text": [
      "239it [00:00, 501.77it/s]\n"
     ]
    },
    {
     "name": "stdout",
     "output_type": "stream",
     "text": [
      "Epoch: 175 \n",
      "Train_loss: 0.7823 Train Accuracy: 0.7863 \n",
      "Validation_loss:   0.8191 Validation Accuracy:   0.7111 \n",
      "\n",
      "epoch 176\n"
     ]
    },
    {
     "name": "stderr",
     "output_type": "stream",
     "text": [
      "239it [00:00, 501.81it/s]\n"
     ]
    },
    {
     "name": "stdout",
     "output_type": "stream",
     "text": [
      "Epoch: 176 \n",
      "Train_loss: 0.782 Train Accuracy: 0.7866 \n",
      "Validation_loss:   0.8192 Validation Accuracy:   0.7111 \n",
      "\n",
      "epoch 177\n"
     ]
    },
    {
     "name": "stderr",
     "output_type": "stream",
     "text": [
      "239it [00:00, 507.13it/s]\n"
     ]
    },
    {
     "name": "stdout",
     "output_type": "stream",
     "text": [
      "Epoch: 177 \n",
      "Train_loss: 0.7817 Train Accuracy: 0.7874 \n",
      "Validation_loss:   0.8192 Validation Accuracy:   0.7111 \n",
      "\n",
      "epoch 178\n"
     ]
    },
    {
     "name": "stderr",
     "output_type": "stream",
     "text": [
      "239it [00:00, 512.72it/s]\n"
     ]
    },
    {
     "name": "stdout",
     "output_type": "stream",
     "text": [
      "Epoch: 178 \n",
      "Train_loss: 0.7814 Train Accuracy: 0.7874 \n",
      "Validation_loss:   0.8193 Validation Accuracy:   0.7111 \n",
      "\n",
      "epoch 179\n"
     ]
    },
    {
     "name": "stderr",
     "output_type": "stream",
     "text": [
      "239it [00:00, 509.85it/s]\n"
     ]
    },
    {
     "name": "stdout",
     "output_type": "stream",
     "text": [
      "Epoch: 179 \n",
      "Train_loss: 0.7812 Train Accuracy: 0.7877 \n",
      "Validation_loss:   0.8193 Validation Accuracy:   0.7111 \n",
      "\n",
      "epoch 180\n"
     ]
    },
    {
     "name": "stderr",
     "output_type": "stream",
     "text": [
      "239it [00:00, 497.90it/s]\n"
     ]
    },
    {
     "name": "stdout",
     "output_type": "stream",
     "text": [
      "Epoch: 180 \n",
      "Train_loss: 0.7809 Train Accuracy: 0.7877 \n",
      "Validation_loss:   0.8194 Validation Accuracy:   0.7111 \n",
      "\n",
      "epoch 181\n"
     ]
    },
    {
     "name": "stderr",
     "output_type": "stream",
     "text": [
      "239it [00:00, 506.74it/s]\n"
     ]
    },
    {
     "name": "stdout",
     "output_type": "stream",
     "text": [
      "Epoch: 181 \n",
      "Train_loss: 0.7806 Train Accuracy: 0.7879 \n",
      "Validation_loss:   0.8195 Validation Accuracy:   0.7111 \n",
      "\n",
      "epoch 182\n"
     ]
    },
    {
     "name": "stderr",
     "output_type": "stream",
     "text": [
      "239it [00:00, 489.70it/s]\n"
     ]
    },
    {
     "name": "stdout",
     "output_type": "stream",
     "text": [
      "Epoch: 182 \n",
      "Train_loss: 0.7804 Train Accuracy: 0.7882 \n",
      "Validation_loss:   0.8195 Validation Accuracy:   0.7111 \n",
      "\n",
      "epoch 183\n"
     ]
    },
    {
     "name": "stderr",
     "output_type": "stream",
     "text": [
      "239it [00:00, 499.92it/s]\n"
     ]
    },
    {
     "name": "stdout",
     "output_type": "stream",
     "text": [
      "Epoch: 183 \n",
      "Train_loss: 0.7801 Train Accuracy: 0.7882 \n",
      "Validation_loss:   0.8196 Validation Accuracy:   0.7111 \n",
      "\n",
      "epoch 184\n"
     ]
    },
    {
     "name": "stderr",
     "output_type": "stream",
     "text": [
      "239it [00:00, 491.61it/s]\n"
     ]
    },
    {
     "name": "stdout",
     "output_type": "stream",
     "text": [
      "Epoch: 184 \n",
      "Train_loss: 0.7798 Train Accuracy: 0.7882 \n",
      "Validation_loss:   0.8197 Validation Accuracy:   0.7111 \n",
      "\n",
      "epoch 185\n"
     ]
    },
    {
     "name": "stderr",
     "output_type": "stream",
     "text": [
      "239it [00:00, 492.53it/s]\n"
     ]
    },
    {
     "name": "stdout",
     "output_type": "stream",
     "text": [
      "Epoch: 185 \n",
      "Train_loss: 0.7796 Train Accuracy: 0.7884 \n",
      "Validation_loss:   0.8197 Validation Accuracy:   0.7111 \n",
      "\n",
      "epoch 186\n"
     ]
    },
    {
     "name": "stderr",
     "output_type": "stream",
     "text": [
      "239it [00:00, 480.71it/s]\n"
     ]
    },
    {
     "name": "stdout",
     "output_type": "stream",
     "text": [
      "Epoch: 186 \n",
      "Train_loss: 0.7793 Train Accuracy: 0.7895 \n",
      "Validation_loss:   0.8198 Validation Accuracy:   0.7111 \n",
      "\n",
      "epoch 187\n"
     ]
    },
    {
     "name": "stderr",
     "output_type": "stream",
     "text": [
      "239it [00:00, 505.10it/s]\n"
     ]
    },
    {
     "name": "stdout",
     "output_type": "stream",
     "text": [
      "Epoch: 187 \n",
      "Train_loss: 0.7791 Train Accuracy: 0.79 \n",
      "Validation_loss:   0.8198 Validation Accuracy:   0.7111 \n",
      "\n",
      "epoch 188\n"
     ]
    },
    {
     "name": "stderr",
     "output_type": "stream",
     "text": [
      "239it [00:00, 483.28it/s]\n"
     ]
    },
    {
     "name": "stdout",
     "output_type": "stream",
     "text": [
      "Epoch: 188 \n",
      "Train_loss: 0.7788 Train Accuracy: 0.79 \n",
      "Validation_loss:   0.8199 Validation Accuracy:   0.7111 \n",
      "\n",
      "epoch 189\n"
     ]
    },
    {
     "name": "stderr",
     "output_type": "stream",
     "text": [
      "239it [00:00, 464.79it/s]\n"
     ]
    },
    {
     "name": "stdout",
     "output_type": "stream",
     "text": [
      "Epoch: 189 \n",
      "Train_loss: 0.7786 Train Accuracy: 0.79 \n",
      "Validation_loss:   0.82 Validation Accuracy:   0.7111 \n",
      "\n",
      "epoch 190\n"
     ]
    },
    {
     "name": "stderr",
     "output_type": "stream",
     "text": [
      "239it [00:00, 427.04it/s]\n"
     ]
    },
    {
     "name": "stdout",
     "output_type": "stream",
     "text": [
      "Epoch: 190 \n",
      "Train_loss: 0.7783 Train Accuracy: 0.7905 \n",
      "Validation_loss:   0.82 Validation Accuracy:   0.7111 \n",
      "\n",
      "epoch 191\n"
     ]
    },
    {
     "name": "stderr",
     "output_type": "stream",
     "text": [
      "239it [00:00, 415.43it/s]\n"
     ]
    },
    {
     "name": "stdout",
     "output_type": "stream",
     "text": [
      "Epoch: 191 \n",
      "Train_loss: 0.7781 Train Accuracy: 0.7908 \n",
      "Validation_loss:   0.8201 Validation Accuracy:   0.7111 \n",
      "\n",
      "epoch 192\n"
     ]
    },
    {
     "name": "stderr",
     "output_type": "stream",
     "text": [
      "239it [00:00, 393.35it/s]\n"
     ]
    },
    {
     "name": "stdout",
     "output_type": "stream",
     "text": [
      "Epoch: 192 \n",
      "Train_loss: 0.7778 Train Accuracy: 0.7908 \n",
      "Validation_loss:   0.8202 Validation Accuracy:   0.7111 \n",
      "\n",
      "epoch 193\n"
     ]
    },
    {
     "name": "stderr",
     "output_type": "stream",
     "text": [
      "239it [00:00, 512.55it/s]\n"
     ]
    },
    {
     "name": "stdout",
     "output_type": "stream",
     "text": [
      "Epoch: 193 \n",
      "Train_loss: 0.7776 Train Accuracy: 0.7911 \n",
      "Validation_loss:   0.8202 Validation Accuracy:   0.7111 \n",
      "\n",
      "epoch 194\n"
     ]
    },
    {
     "name": "stderr",
     "output_type": "stream",
     "text": [
      "239it [00:00, 498.34it/s]\n"
     ]
    },
    {
     "name": "stdout",
     "output_type": "stream",
     "text": [
      "Epoch: 194 \n",
      "Train_loss: 0.7774 Train Accuracy: 0.7913 \n",
      "Validation_loss:   0.8203 Validation Accuracy:   0.7111 \n",
      "\n",
      "epoch 195\n"
     ]
    },
    {
     "name": "stderr",
     "output_type": "stream",
     "text": [
      "239it [00:00, 504.27it/s]\n"
     ]
    },
    {
     "name": "stdout",
     "output_type": "stream",
     "text": [
      "Epoch: 195 \n",
      "Train_loss: 0.7771 Train Accuracy: 0.7913 \n",
      "Validation_loss:   0.8203 Validation Accuracy:   0.7111 \n",
      "\n",
      "epoch 196\n"
     ]
    },
    {
     "name": "stderr",
     "output_type": "stream",
     "text": [
      "239it [00:00, 487.20it/s]\n"
     ]
    },
    {
     "name": "stdout",
     "output_type": "stream",
     "text": [
      "Epoch: 196 \n",
      "Train_loss: 0.7769 Train Accuracy: 0.7918 \n",
      "Validation_loss:   0.8204 Validation Accuracy:   0.7111 \n",
      "\n",
      "epoch 197\n"
     ]
    },
    {
     "name": "stderr",
     "output_type": "stream",
     "text": [
      "239it [00:00, 498.00it/s]\n"
     ]
    },
    {
     "name": "stdout",
     "output_type": "stream",
     "text": [
      "Epoch: 197 \n",
      "Train_loss: 0.7767 Train Accuracy: 0.7926 \n",
      "Validation_loss:   0.8205 Validation Accuracy:   0.7111 \n",
      "\n",
      "epoch 198\n"
     ]
    },
    {
     "name": "stderr",
     "output_type": "stream",
     "text": [
      "239it [00:00, 495.04it/s]\n"
     ]
    },
    {
     "name": "stdout",
     "output_type": "stream",
     "text": [
      "Epoch: 198 \n",
      "Train_loss: 0.7764 Train Accuracy: 0.7939 \n",
      "Validation_loss:   0.8205 Validation Accuracy:   0.7111 \n",
      "\n",
      "epoch 199\n"
     ]
    },
    {
     "name": "stderr",
     "output_type": "stream",
     "text": [
      "239it [00:00, 502.32it/s]"
     ]
    },
    {
     "name": "stdout",
     "output_type": "stream",
     "text": [
      "Epoch: 199 \n",
      "Train_loss: 0.7762 Train Accuracy: 0.7947 \n",
      "Validation_loss:   0.8206 Validation Accuracy:   0.7111 \n",
      "\n"
     ]
    },
    {
     "name": "stderr",
     "output_type": "stream",
     "text": [
      "\n"
     ]
    }
   ],
   "source": [
    "from tqdm import tqdm\n",
    "\n",
    "# Define the function to calculate accuracy\n",
    "def calculate_accuracy(y_true, y_pred):\n",
    "    _, predicted = torch.max(y_pred, 1)\n",
    "    correct = (predicted == y_true).float()\n",
    "    acc = correct.sum() / len(correct)\n",
    "    return acc\n",
    "\n",
    "# Define batch size\n",
    "batch_size = 16\n",
    "\n",
    "# Split train dataset into mini-batches\n",
    "X_train_mini_batches = torch.split(tfidfX_train, batch_size)\n",
    "Y_train_mini_batches = torch.split(Y_train, batch_size)\n",
    "\n",
    "# Initialize lists to store losses and accuracies\n",
    "train_losses = []\n",
    "train_accuracies = []\n",
    "val_losses = []\n",
    "val_accuracies = []\n",
    "min_loss = float('inf')\n",
    "\n",
    "# Start training\n",
    "for epoch in range(num_epochs):\n",
    "    print('epoch', epoch)\n",
    "    epoch_loss = 0\n",
    "    epoch_accuracy = 0\n",
    "\n",
    "    for X_train_mini_batch, Y_train_mini_batch in tqdm(zip(X_train_mini_batches, Y_train_mini_batches)):\n",
    "        X_train_mini_batch = X_train_mini_batch.to(device)\n",
    "        Y_train_mini_batch = Y_train_mini_batch.to(device)\n",
    "\n",
    "        # Forward pass to get output\n",
    "        train_prediction = first_model(X_train_mini_batch.float())\n",
    "\n",
    "        # Calculate Loss\n",
    "        train_loss = criterion(train_prediction, Y_train_mini_batch.long())  # Convert Y_train_mini_batch to long type\n",
    "\n",
    "        # Clearing up accumulated gradients\n",
    "        optimizer.zero_grad()\n",
    "\n",
    "        # Getting gradients\n",
    "        train_loss.backward()\n",
    "\n",
    "        # Updating parameters\n",
    "        optimizer.step()\n",
    "\n",
    "        # Add each mini batch's loss\n",
    "        epoch_loss += train_loss.item()\n",
    "\n",
    "        # Add each mini batch's accuracy\n",
    "        epoch_accuracy += calculate_accuracy(Y_train_mini_batch, train_prediction)\n",
    "\n",
    "    # Print loss and accuracy for some epochs\n",
    "    if epoch % 1 == 0:\n",
    "        tfidfX_val = tfidfX_val.to(device)\n",
    "        Y_val = Y_val.to(device)\n",
    "\n",
    "        # Forward pass to get output\n",
    "        val_prediction = first_model(tfidfX_val.float())\n",
    "\n",
    "        # Calculate Loss\n",
    "        val_loss = criterion(val_prediction, Y_val.long())  # Convert Y_val to long type\n",
    "\n",
    "        epoch_loss /= len(X_train_mini_batches)\n",
    "        epoch_accuracy /= len(X_train_mini_batches)\n",
    "        val_losses.append(val_loss.item())\n",
    "        train_losses.append(epoch_loss)\n",
    "        train_accuracies.append(epoch_accuracy)\n",
    "        val_accuracies.append(calculate_accuracy(Y_val, val_prediction))\n",
    "\n",
    "        if val_loss.item() < min_loss:\n",
    "            min_loss = val_loss.item()\n",
    "            torch.save(first_model.state_dict(), 'best_model.pt')\n",
    "            print('save best_model...')\n",
    "\n",
    "        print(\"Epoch:\", epoch, \"\\n\"\n",
    "              \"Train_loss:\", round(epoch_loss, 4), \"Train Accuracy:\", round(epoch_accuracy.item(), 4), \"\\n\"\n",
    "              \"Validation_loss:  \", round(val_loss.item(), 4), \"Validation Accuracy:  \", round(val_accuracies[-1].item(), 4), \"\\n\")\n"
   ]
  },
  {
   "cell_type": "code",
   "execution_count": null,
   "metadata": {
    "colab": {
     "base_uri": "https://localhost:8080/",
     "height": 683
    },
    "id": "17e7nw1toxUd",
    "outputId": "ec3373e5-6456-4005-c54b-fef84f6509dd"
   },
   "outputs": [
    {
     "data": {
      "image/png": "[encoded data removed]",
      "text/plain": [
       "<Figure size 800x800 with 1 Axes>"
      ]
     },
     "metadata": {},
     "output_type": "display_data"
    }
   ],
   "source": [
    "import matplotlib.pyplot as plt\n",
    "from matplotlib.pyplot import figure\n",
    "\n",
    "figure(figsize=(8,8))\n",
    "plt.plot(train_losses)\n",
    "plt.plot(val_losses)\n",
    "plt.title('First Model Loss')\n",
    "plt.ylabel('Loss')\n",
    "plt.xlabel('Epoch')\n",
    "plt.legend(['train', 'val'], loc='upper right')\n",
    "plt.show()"
   ]
  },
  {
   "cell_type": "code",
   "execution_count": null,
   "metadata": {
    "id": "oGLcRckdoyNi"
   },
   "outputs": [],
   "source": [
    "model = FFNN(input_dim, hidden_dim_1, hidden_dim_2, output_dim).to(device)"
   ]
  },
  {
   "cell_type": "code",
   "execution_count": null,
   "metadata": {
    "colab": {
     "base_uri": "https://localhost:8080/"
    },
    "id": "qeeE636jo3VY",
    "outputId": "3558ca02-4187-4ab3-bb86-a4704f5edc71"
   },
   "outputs": [
    {
     "data": {
      "text/plain": [
       "FFNN(\n",
       "  (layer_1): Linear(in_features=1000, out_features=512, bias=True)\n",
       "  (relu_1): ReLU()\n",
       "  (layer_2): Linear(in_features=512, out_features=512, bias=True)\n",
       "  (relu_2): ReLU()\n",
       "  (layer_3): Linear(in_features=512, out_features=3, bias=True)\n",
       ")"
      ]
     },
     "execution_count": 40,
     "metadata": {},
     "output_type": "execute_result"
    }
   ],
   "source": [
    "model.load_state_dict(torch.load('best_model.pt'))\n",
    "model.eval()"
   ]
  },
  {
   "cell_type": "code",
   "execution_count": null,
   "metadata": {
    "colab": {
     "base_uri": "https://localhost:8080/"
    },
    "id": "4EmUJexBo5IA",
    "outputId": "170394ee-686f-4093-ef56-deaef0582a1b"
   },
   "outputs": [
    {
     "name": "stdout",
     "output_type": "stream",
     "text": [
      "Test Accuracy: 0.6956 \n",
      "\n"
     ]
    }
   ],
   "source": [
    "#ลองทำนายจากชุดเทส\n",
    "tfidfX_test = tfidfX_test.to(device)\n",
    "Y_test = Y_test.to(device)\n",
    "\n",
    "# Forward pass to get output\n",
    "model.eval()\n",
    "test_prediction = model.forward(tfidfX_test.float())\n",
    "test_prediction = torch.squeeze(test_prediction)\n",
    "\n",
    "#Calculate accuracy on test set\n",
    "test_accuracy = calculate_accuracy(Y_test,test_prediction)\n",
    "\n",
    "print(\"Test Accuracy:\",round(test_accuracy.item(),4), \"\\n\")"
   ]
  },
  {
   "cell_type": "code",
   "execution_count": null,
   "metadata": {
    "colab": {
     "base_uri": "https://localhost:8080/"
    },
    "id": "eLQln5atyHK8",
    "outputId": "3d531c46-6500-4b47-efcc-36c4cf66c691"
   },
   "outputs": [
    {
     "name": "stdout",
     "output_type": "stream",
     "text": [
      "Predicted Sentiment: Neutrally\n"
     ]
    }
   ],
   "source": [
    "# Preprocess the test text\n",
    "test_text = \"พอใช้ได้ ตามราคาค่ะ\"\n",
    "preprocessed_text = remove_duplicate_chars(test_text)\n",
    "\n",
    "# Convert preprocessed text into TF-IDF vector\n",
    "tfidf_vector = tfidf_vectorizer.transform([preprocessed_text])\n",
    "\n",
    "# Convert TF-IDF vector into PyTorch tensor\n",
    "tfidf_tensor = torch.tensor(tfidf_vector.toarray())\n",
    "\n",
    "# Move tensor to the appropriate device if GPU is available\n",
    "tfidf_tensor = tfidf_tensor.to(device)\n",
    "\n",
    "# Pass the tensor through the trained model to get the prediction\n",
    "with torch.no_grad():\n",
    "    model.eval()  # Set the model to evaluation mode\n",
    "    prediction = model(tfidf_tensor.float())\n",
    "\n",
    "# Convert prediction to human-readable label\n",
    "_, predicted_label = torch.max(prediction, 1)\n",
    "\n",
    "# Decode the predicted label using the label encoder\n",
    "predicted_sentiment = encoder.classes_[predicted_label.item()]\n",
    "\n",
    "print(\"Predicted Sentiment:\", predicted_sentiment)"
   ]
  }
 ],
 "metadata": {
  "accelerator": "GPU",
  "colab": {
   "gpuType": "T4",
   "provenance": []
  },
  "kernelspec": {
   "display_name": "Python 3 (ipykernel)",
   "language": "python",
   "name": "python3"
  },
  "language_info": {
   "codemirror_mode": {
    "name": "ipython",
    "version": 3
   },
   "file_extension": ".py",
   "mimetype": "text/x-python",
   "name": "python",
   "nbconvert_exporter": "python",
   "pygments_lexer": "ipython3",
   "version": "3.10.13"
  }
 },
 "nbformat": 4,
 "nbformat_minor": 4
}
